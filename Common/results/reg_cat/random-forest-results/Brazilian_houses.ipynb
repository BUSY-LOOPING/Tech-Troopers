{
 "cells": [
  {
   "cell_type": "code",
   "execution_count": null,
   "id": "8ea2894c",
   "metadata": {},
   "outputs": [],
   "source": [
    "import numpy as np\n",
    "import pandas as pd\n",
    "import seaborn as sns \n",
    "import matplotlib.pyplot as plt\n",
    "import plotly.express as px\n",
    "import plotly.graph_objects as go\n",
    "\n",
    "from sklearn.linear_model import LinearRegression\n",
    "from sklearn.preprocessing import LabelEncoder\n",
    "from sklearn.ensemble import RandomForestClassifier, GradientBoostingClassifier\n",
    "from sklearn.metrics import confusion_matrix, roc_curve, auc, accuracy_score\n",
    "from xgboost import XGBClassifier\n",
    "\n",
    "from huggingface_hub import hf_hub_download\n",
    "\n",
    "import warnings\n",
    "warnings.filterwarnings(\"ignore\")\n"
   ]
  },
  {
   "cell_type": "code",
   "execution_count": null,
   "id": "1acc1eae",
   "metadata": {},
   "outputs": [],
   "source": [
    "df = pd.read_csv('C:\\\\Users\\\\vrish\\\\Documents\\\\Humber\\\\project\\\\Tech-Troopers\\\\Common\\\\results_temp\\\\reg_cat\\\\random-forest-results\\\\Brazilian_houses.csv')\n",
    "df.dropna(axis=1, how='all')\n",
    "df.head()"
   ]
  }
 ],
 "metadata": {},
 "nbformat": 4,
 "nbformat_minor": 5
}
