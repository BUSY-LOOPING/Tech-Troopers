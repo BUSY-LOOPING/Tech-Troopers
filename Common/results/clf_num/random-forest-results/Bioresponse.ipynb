{
 "cells": [
  {
   "cell_type": "code",
   "execution_count": 1,
   "id": "64b24657",
   "metadata": {
    "execution": {
     "iopub.execute_input": "2024-06-05T18:35:09.275571Z",
     "iopub.status.busy": "2024-06-05T18:35:09.275571Z",
     "iopub.status.idle": "2024-06-05T18:35:12.902821Z",
     "shell.execute_reply": "2024-06-05T18:35:12.902821Z"
    }
   },
   "outputs": [],
   "source": [
    "import numpy as np\n",
    "import pandas as pd\n",
    "import seaborn as sns \n",
    "import matplotlib.pyplot as plt\n",
    "import plotly.express as px\n",
    "import plotly.graph_objects as go\n",
    "\n",
    "from sklearn.linear_model import LinearRegression\n",
    "from sklearn.preprocessing import LabelEncoder\n",
    "from sklearn.ensemble import RandomForestClassifier, GradientBoostingClassifier\n",
    "from sklearn.metrics import confusion_matrix, roc_curve, auc, accuracy_score\n",
    "from xgboost import XGBClassifier\n",
    "\n",
    "from huggingface_hub import hf_hub_download\n",
    "\n",
    "import warnings\n",
    "warnings.filterwarnings(\"ignore\")\n"
   ]
  },
  {
   "cell_type": "code",
   "execution_count": 2,
   "id": "49f51952",
   "metadata": {
    "execution": {
     "iopub.execute_input": "2024-06-05T18:35:12.904858Z",
     "iopub.status.busy": "2024-06-05T18:35:12.904858Z",
     "iopub.status.idle": "2024-06-05T18:35:12.934978Z",
     "shell.execute_reply": "2024-06-05T18:35:12.934978Z"
    }
   },
   "outputs": [
    {
     "data": {
      "text/html": [
       "<div>\n",
       "<style scoped>\n",
       "    .dataframe tbody tr th:only-of-type {\n",
       "        vertical-align: middle;\n",
       "    }\n",
       "\n",
       "    .dataframe tbody tr th {\n",
       "        vertical-align: top;\n",
       "    }\n",
       "\n",
       "    .dataframe thead th {\n",
       "        text-align: right;\n",
       "    }\n",
       "</style>\n",
       "<table border=\"1\" class=\"dataframe\">\n",
       "  <thead>\n",
       "    <tr style=\"text-align: right;\">\n",
       "      <th></th>\n",
       "      <th>val_accuracy</th>\n",
       "      <th>test_accuracy</th>\n",
       "      <th>train_accuracy</th>\n",
       "      <th>bootstrap</th>\n",
       "      <th>criterion</th>\n",
       "      <th>max_depth</th>\n",
       "      <th>max_features</th>\n",
       "      <th>min_impurity_decrease</th>\n",
       "      <th>min_samples_leaf</th>\n",
       "      <th>min_samples_split</th>\n",
       "      <th>n_estimators</th>\n",
       "    </tr>\n",
       "  </thead>\n",
       "  <tbody>\n",
       "    <tr>\n",
       "      <th>0</th>\n",
       "      <td>0.799353</td>\n",
       "      <td>0.792244</td>\n",
       "      <td>1.000000</td>\n",
       "      <td>False</td>\n",
       "      <td>entropy</td>\n",
       "      <td>3.0</td>\n",
       "      <td>0.1</td>\n",
       "      <td>0.05</td>\n",
       "      <td>6</td>\n",
       "      <td>2</td>\n",
       "      <td>39</td>\n",
       "    </tr>\n",
       "    <tr>\n",
       "      <th>1</th>\n",
       "      <td>0.766990</td>\n",
       "      <td>0.746537</td>\n",
       "      <td>0.788598</td>\n",
       "      <td>True</td>\n",
       "      <td>gini</td>\n",
       "      <td>NaN</td>\n",
       "      <td>0.8</td>\n",
       "      <td>0.00</td>\n",
       "      <td>42</td>\n",
       "      <td>2</td>\n",
       "      <td>1359</td>\n",
       "    </tr>\n",
       "    <tr>\n",
       "      <th>2</th>\n",
       "      <td>0.734628</td>\n",
       "      <td>0.718837</td>\n",
       "      <td>0.722430</td>\n",
       "      <td>True</td>\n",
       "      <td>entropy</td>\n",
       "      <td>3.0</td>\n",
       "      <td>NaN</td>\n",
       "      <td>0.00</td>\n",
       "      <td>3</td>\n",
       "      <td>2</td>\n",
       "      <td>2641</td>\n",
       "    </tr>\n",
       "    <tr>\n",
       "      <th>3</th>\n",
       "      <td>0.757282</td>\n",
       "      <td>0.734072</td>\n",
       "      <td>0.764045</td>\n",
       "      <td>True</td>\n",
       "      <td>entropy</td>\n",
       "      <td>NaN</td>\n",
       "      <td>0.9</td>\n",
       "      <td>0.01</td>\n",
       "      <td>14</td>\n",
       "      <td>2</td>\n",
       "      <td>89</td>\n",
       "    </tr>\n",
       "    <tr>\n",
       "      <th>4</th>\n",
       "      <td>0.763754</td>\n",
       "      <td>0.764543</td>\n",
       "      <td>0.858510</td>\n",
       "      <td>True</td>\n",
       "      <td>gini</td>\n",
       "      <td>NaN</td>\n",
       "      <td>0.7</td>\n",
       "      <td>0.00</td>\n",
       "      <td>16</td>\n",
       "      <td>2</td>\n",
       "      <td>113</td>\n",
       "    </tr>\n",
       "  </tbody>\n",
       "</table>\n",
       "</div>"
      ],
      "text/plain": [
       "   val_accuracy  test_accuracy  train_accuracy  bootstrap criterion  \\\n",
       "0      0.799353       0.792244        1.000000      False   entropy   \n",
       "1      0.766990       0.746537        0.788598       True      gini   \n",
       "2      0.734628       0.718837        0.722430       True   entropy   \n",
       "3      0.757282       0.734072        0.764045       True   entropy   \n",
       "4      0.763754       0.764543        0.858510       True      gini   \n",
       "\n",
       "   max_depth max_features  min_impurity_decrease  min_samples_leaf  \\\n",
       "0        3.0          0.1                   0.05                 6   \n",
       "1        NaN          0.8                   0.00                42   \n",
       "2        3.0          NaN                   0.00                 3   \n",
       "3        NaN          0.9                   0.01                14   \n",
       "4        NaN          0.7                   0.00                16   \n",
       "\n",
       "   min_samples_split  n_estimators  \n",
       "0                  2            39  \n",
       "1                  2          1359  \n",
       "2                  2          2641  \n",
       "3                  2            89  \n",
       "4                  2           113  "
      ]
     },
     "execution_count": 2,
     "metadata": {},
     "output_type": "execute_result"
    }
   ],
   "source": [
    "df = pd.read_csv('C:\\\\Users\\\\vrish\\\\Documents\\\\Humber\\\\project\\\\Tech-Troopers\\\\Common\\\\results_temp\\\\clf_num\\\\random-forest-results\\\\Bioresponse.csv')\n",
    "df.dropna(axis=1, how='all')\n",
    "df.head()"
   ]
  },
  {
   "cell_type": "code",
   "execution_count": 3,
   "id": "65398806",
   "metadata": {
    "execution": {
     "iopub.execute_input": "2024-06-05T18:35:12.938248Z",
     "iopub.status.busy": "2024-06-05T18:35:12.938248Z",
     "iopub.status.idle": "2024-06-05T18:35:12.946540Z",
     "shell.execute_reply": "2024-06-05T18:35:12.945584Z"
    }
   },
   "outputs": [],
   "source": [
    "df[df.columns[:3]] = df[df.columns[:3]].apply(pd.to_numeric)"
   ]
  },
  {
   "cell_type": "code",
   "execution_count": 4,
   "id": "fa1d7cc6",
   "metadata": {
    "execution": {
     "iopub.execute_input": "2024-06-05T18:35:12.946540Z",
     "iopub.status.busy": "2024-06-05T18:35:12.946540Z",
     "iopub.status.idle": "2024-06-05T18:35:12.964706Z",
     "shell.execute_reply": "2024-06-05T18:35:12.964706Z"
    }
   },
   "outputs": [
    {
     "name": "stdout",
     "output_type": "stream",
     "text": [
      "Col - criterion : ['entropy' 'gini']\n",
      "Col - max_features : ['0.1' '0.8' nan '0.9' '0.7' '0.3' 'sqrt' '0.5']\n"
     ]
    }
   ],
   "source": [
    "for col in df.select_dtypes(include=['object']).columns :\n",
    "\tprint(f'Col - {col} : {df[col].unique()}')"
   ]
  }
 ],
 "metadata": {
  "language_info": {
   "codemirror_mode": {
    "name": "ipython",
    "version": 3
   },
   "file_extension": ".py",
   "mimetype": "text/x-python",
   "name": "python",
   "nbconvert_exporter": "python",
   "pygments_lexer": "ipython3",
   "version": "3.12.3"
  }
 },
 "nbformat": 4,
 "nbformat_minor": 5
}
