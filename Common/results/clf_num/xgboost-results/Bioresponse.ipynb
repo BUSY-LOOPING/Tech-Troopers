{
 "cells": [
  {
   "cell_type": "code",
   "execution_count": 1,
   "id": "c6cac7fe",
   "metadata": {
    "execution": {
     "iopub.execute_input": "2024-06-05T18:35:15.915819Z",
     "iopub.status.busy": "2024-06-05T18:35:15.915819Z",
     "iopub.status.idle": "2024-06-05T18:35:19.197155Z",
     "shell.execute_reply": "2024-06-05T18:35:19.197155Z"
    }
   },
   "outputs": [],
   "source": [
    "import numpy as np\n",
    "import pandas as pd\n",
    "import seaborn as sns \n",
    "import matplotlib.pyplot as plt\n",
    "import plotly.express as px\n",
    "import plotly.graph_objects as go\n",
    "\n",
    "from sklearn.linear_model import LinearRegression\n",
    "from sklearn.preprocessing import LabelEncoder\n",
    "from sklearn.ensemble import RandomForestClassifier, GradientBoostingClassifier\n",
    "from sklearn.metrics import confusion_matrix, roc_curve, auc, accuracy_score\n",
    "from xgboost import XGBClassifier\n",
    "\n",
    "from huggingface_hub import hf_hub_download\n",
    "\n",
    "import warnings\n",
    "warnings.filterwarnings(\"ignore\")\n"
   ]
  },
  {
   "cell_type": "code",
   "execution_count": 2,
   "id": "77ccc2bc",
   "metadata": {
    "execution": {
     "iopub.execute_input": "2024-06-05T18:35:19.197155Z",
     "iopub.status.busy": "2024-06-05T18:35:19.197155Z",
     "iopub.status.idle": "2024-06-05T18:35:19.227089Z",
     "shell.execute_reply": "2024-06-05T18:35:19.227089Z"
    }
   },
   "outputs": [
    {
     "data": {
      "text/html": [
       "<div>\n",
       "<style scoped>\n",
       "    .dataframe tbody tr th:only-of-type {\n",
       "        vertical-align: middle;\n",
       "    }\n",
       "\n",
       "    .dataframe tbody tr th {\n",
       "        vertical-align: top;\n",
       "    }\n",
       "\n",
       "    .dataframe thead th {\n",
       "        text-align: right;\n",
       "    }\n",
       "</style>\n",
       "<table border=\"1\" class=\"dataframe\">\n",
       "  <thead>\n",
       "    <tr style=\"text-align: right;\">\n",
       "      <th></th>\n",
       "      <th>val_accuracy</th>\n",
       "      <th>test_accuracy</th>\n",
       "      <th>train_accuracy</th>\n",
       "      <th>alpha</th>\n",
       "      <th>colsample_bylevel</th>\n",
       "      <th>colsample_bytree</th>\n",
       "      <th>gamma</th>\n",
       "      <th>lambda</th>\n",
       "      <th>learning_rate</th>\n",
       "      <th>max_depth</th>\n",
       "      <th>min_child_weight</th>\n",
       "      <th>n_estimators</th>\n",
       "      <th>subsample</th>\n",
       "    </tr>\n",
       "  </thead>\n",
       "  <tbody>\n",
       "    <tr>\n",
       "      <th>0</th>\n",
       "      <td>0.796117</td>\n",
       "      <td>0.782548</td>\n",
       "      <td>1.000000</td>\n",
       "      <td>0.004170</td>\n",
       "      <td>0.586891</td>\n",
       "      <td>0.669154</td>\n",
       "      <td>5.592267e-01</td>\n",
       "      <td>1.223252</td>\n",
       "      <td>0.001395</td>\n",
       "      <td>7</td>\n",
       "      <td>23.0</td>\n",
       "      <td>4400</td>\n",
       "      <td>0.699739</td>\n",
       "    </tr>\n",
       "    <tr>\n",
       "      <th>1</th>\n",
       "      <td>0.796117</td>\n",
       "      <td>0.813019</td>\n",
       "      <td>1.000000</td>\n",
       "      <td>0.519377</td>\n",
       "      <td>0.712718</td>\n",
       "      <td>0.568255</td>\n",
       "      <td>4.683630e-01</td>\n",
       "      <td>2.650977</td>\n",
       "      <td>0.143759</td>\n",
       "      <td>9</td>\n",
       "      <td>1.0</td>\n",
       "      <td>800</td>\n",
       "      <td>0.574652</td>\n",
       "    </tr>\n",
       "    <tr>\n",
       "      <th>2</th>\n",
       "      <td>0.728155</td>\n",
       "      <td>0.711911</td>\n",
       "      <td>0.745734</td>\n",
       "      <td>44.376243</td>\n",
       "      <td>0.501505</td>\n",
       "      <td>0.792072</td>\n",
       "      <td>5.644910e-06</td>\n",
       "      <td>3.827928</td>\n",
       "      <td>0.011860</td>\n",
       "      <td>7</td>\n",
       "      <td>45.0</td>\n",
       "      <td>3400</td>\n",
       "      <td>0.889120</td>\n",
       "    </tr>\n",
       "    <tr>\n",
       "      <th>3</th>\n",
       "      <td>0.750809</td>\n",
       "      <td>0.728532</td>\n",
       "      <td>0.752809</td>\n",
       "      <td>1.432767</td>\n",
       "      <td>0.640079</td>\n",
       "      <td>0.735808</td>\n",
       "      <td>5.273709e-08</td>\n",
       "      <td>1.998399</td>\n",
       "      <td>0.003791</td>\n",
       "      <td>2</td>\n",
       "      <td>8.0</td>\n",
       "      <td>1000</td>\n",
       "      <td>0.892547</td>\n",
       "    </tr>\n",
       "    <tr>\n",
       "      <th>4</th>\n",
       "      <td>0.744337</td>\n",
       "      <td>0.706371</td>\n",
       "      <td>0.714940</td>\n",
       "      <td>0.002405</td>\n",
       "      <td>0.954162</td>\n",
       "      <td>0.505035</td>\n",
       "      <td>4.587343e-08</td>\n",
       "      <td>1.155897</td>\n",
       "      <td>0.000320</td>\n",
       "      <td>2</td>\n",
       "      <td>89.0</td>\n",
       "      <td>4400</td>\n",
       "      <td>0.726771</td>\n",
       "    </tr>\n",
       "  </tbody>\n",
       "</table>\n",
       "</div>"
      ],
      "text/plain": [
       "   val_accuracy  test_accuracy  train_accuracy      alpha  colsample_bylevel  \\\n",
       "0      0.796117       0.782548        1.000000   0.004170           0.586891   \n",
       "1      0.796117       0.813019        1.000000   0.519377           0.712718   \n",
       "2      0.728155       0.711911        0.745734  44.376243           0.501505   \n",
       "3      0.750809       0.728532        0.752809   1.432767           0.640079   \n",
       "4      0.744337       0.706371        0.714940   0.002405           0.954162   \n",
       "\n",
       "   colsample_bytree         gamma    lambda  learning_rate  max_depth  \\\n",
       "0          0.669154  5.592267e-01  1.223252       0.001395          7   \n",
       "1          0.568255  4.683630e-01  2.650977       0.143759          9   \n",
       "2          0.792072  5.644910e-06  3.827928       0.011860          7   \n",
       "3          0.735808  5.273709e-08  1.998399       0.003791          2   \n",
       "4          0.505035  4.587343e-08  1.155897       0.000320          2   \n",
       "\n",
       "   min_child_weight  n_estimators  subsample  \n",
       "0              23.0          4400   0.699739  \n",
       "1               1.0           800   0.574652  \n",
       "2              45.0          3400   0.889120  \n",
       "3               8.0          1000   0.892547  \n",
       "4              89.0          4400   0.726771  "
      ]
     },
     "execution_count": 2,
     "metadata": {},
     "output_type": "execute_result"
    }
   ],
   "source": [
    "df = pd.read_csv('C:\\\\Users\\\\vrish\\\\Documents\\\\Humber\\\\project\\\\Tech-Troopers\\\\Common\\\\results_temp\\\\clf_num\\\\xgboost-results\\\\Bioresponse.csv')\n",
    "df.dropna(axis=1, how='all')\n",
    "df.head()"
   ]
  },
  {
   "cell_type": "code",
   "execution_count": 3,
   "id": "e0a3a199",
   "metadata": {
    "execution": {
     "iopub.execute_input": "2024-06-05T18:35:19.229598Z",
     "iopub.status.busy": "2024-06-05T18:35:19.229598Z",
     "iopub.status.idle": "2024-06-05T18:35:19.237552Z",
     "shell.execute_reply": "2024-06-05T18:35:19.237552Z"
    }
   },
   "outputs": [],
   "source": [
    "df[df.columns[:3]] = df[df.columns[:3]].apply(pd.to_numeric)"
   ]
  },
  {
   "cell_type": "code",
   "execution_count": 4,
   "id": "725ae96d",
   "metadata": {
    "execution": {
     "iopub.execute_input": "2024-06-05T18:35:19.237552Z",
     "iopub.status.busy": "2024-06-05T18:35:19.237552Z",
     "iopub.status.idle": "2024-06-05T18:35:19.248398Z",
     "shell.execute_reply": "2024-06-05T18:35:19.247277Z"
    }
   },
   "outputs": [],
   "source": [
    "for col in df.select_dtypes(include=['object']).columns :\n",
    "\tprint(f'Col - {col} : {df[col].unique()}')"
   ]
  }
 ],
 "metadata": {
  "language_info": {
   "codemirror_mode": {
    "name": "ipython",
    "version": 3
   },
   "file_extension": ".py",
   "mimetype": "text/x-python",
   "name": "python",
   "nbconvert_exporter": "python",
   "pygments_lexer": "ipython3",
   "version": "3.12.3"
  }
 },
 "nbformat": 4,
 "nbformat_minor": 5
}
