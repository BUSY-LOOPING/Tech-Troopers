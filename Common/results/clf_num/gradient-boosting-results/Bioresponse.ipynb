{
 "cells": [
  {
   "cell_type": "code",
   "execution_count": 1,
   "id": "dc65caca",
   "metadata": {
    "execution": {
     "iopub.execute_input": "2024-06-05T18:35:01.885259Z",
     "iopub.status.busy": "2024-06-05T18:35:01.885259Z",
     "iopub.status.idle": "2024-06-05T18:35:06.398631Z",
     "shell.execute_reply": "2024-06-05T18:35:06.398631Z"
    }
   },
   "outputs": [],
   "source": [
    "import numpy as np\n",
    "import pandas as pd\n",
    "import seaborn as sns \n",
    "import matplotlib.pyplot as plt\n",
    "import plotly.express as px\n",
    "import plotly.graph_objects as go\n",
    "\n",
    "from sklearn.linear_model import LinearRegression\n",
    "from sklearn.preprocessing import LabelEncoder\n",
    "from sklearn.ensemble import RandomForestClassifier, GradientBoostingClassifier\n",
    "from sklearn.metrics import confusion_matrix, roc_curve, auc, accuracy_score\n",
    "from xgboost import XGBClassifier\n",
    "\n",
    "from huggingface_hub import hf_hub_download\n",
    "\n",
    "import warnings\n",
    "warnings.filterwarnings(\"ignore\")\n"
   ]
  },
  {
   "cell_type": "code",
   "execution_count": 2,
   "id": "7d3e163b",
   "metadata": {
    "execution": {
     "iopub.execute_input": "2024-06-05T18:35:06.400660Z",
     "iopub.status.busy": "2024-06-05T18:35:06.400660Z",
     "iopub.status.idle": "2024-06-05T18:35:06.429086Z",
     "shell.execute_reply": "2024-06-05T18:35:06.429086Z"
    }
   },
   "outputs": [
    {
     "data": {
      "text/html": [
       "<div>\n",
       "<style scoped>\n",
       "    .dataframe tbody tr th:only-of-type {\n",
       "        vertical-align: middle;\n",
       "    }\n",
       "\n",
       "    .dataframe tbody tr th {\n",
       "        vertical-align: top;\n",
       "    }\n",
       "\n",
       "    .dataframe thead th {\n",
       "        text-align: right;\n",
       "    }\n",
       "</style>\n",
       "<table border=\"1\" class=\"dataframe\">\n",
       "  <thead>\n",
       "    <tr style=\"text-align: right;\">\n",
       "      <th></th>\n",
       "      <th>val_accuracy</th>\n",
       "      <th>test_accuracy</th>\n",
       "      <th>train_accuracy</th>\n",
       "      <th>criterion</th>\n",
       "      <th>learning_rate</th>\n",
       "      <th>loss</th>\n",
       "      <th>max_depth</th>\n",
       "      <th>max_leaf_nodes</th>\n",
       "      <th>min_impurity_decrease</th>\n",
       "      <th>min_samples_leaf</th>\n",
       "      <th>min_samples_split</th>\n",
       "      <th>n_estimators</th>\n",
       "      <th>subsample</th>\n",
       "    </tr>\n",
       "  </thead>\n",
       "  <tbody>\n",
       "    <tr>\n",
       "      <th>0</th>\n",
       "      <td>0.770227</td>\n",
       "      <td>0.753463</td>\n",
       "      <td>0.863088</td>\n",
       "      <td>friedman_mse</td>\n",
       "      <td>0.080069</td>\n",
       "      <td>exponential</td>\n",
       "      <td>4.0</td>\n",
       "      <td>10.0</td>\n",
       "      <td>0.0</td>\n",
       "      <td>2</td>\n",
       "      <td>2</td>\n",
       "      <td>762</td>\n",
       "      <td>0.612558</td>\n",
       "    </tr>\n",
       "    <tr>\n",
       "      <th>1</th>\n",
       "      <td>0.779935</td>\n",
       "      <td>0.756233</td>\n",
       "      <td>0.853100</td>\n",
       "      <td>friedman_mse</td>\n",
       "      <td>0.702251</td>\n",
       "      <td>log_loss</td>\n",
       "      <td>4.0</td>\n",
       "      <td>NaN</td>\n",
       "      <td>0.0</td>\n",
       "      <td>37</td>\n",
       "      <td>2</td>\n",
       "      <td>14</td>\n",
       "      <td>0.862961</td>\n",
       "    </tr>\n",
       "    <tr>\n",
       "      <th>2</th>\n",
       "      <td>0.760518</td>\n",
       "      <td>0.754848</td>\n",
       "      <td>0.827299</td>\n",
       "      <td>friedman_mse</td>\n",
       "      <td>0.021818</td>\n",
       "      <td>exponential</td>\n",
       "      <td>4.0</td>\n",
       "      <td>NaN</td>\n",
       "      <td>0.0</td>\n",
       "      <td>3</td>\n",
       "      <td>2</td>\n",
       "      <td>123</td>\n",
       "      <td>0.910634</td>\n",
       "    </tr>\n",
       "    <tr>\n",
       "      <th>3</th>\n",
       "      <td>0.773463</td>\n",
       "      <td>0.789474</td>\n",
       "      <td>0.999584</td>\n",
       "      <td>squared_error</td>\n",
       "      <td>0.098709</td>\n",
       "      <td>exponential</td>\n",
       "      <td>NaN</td>\n",
       "      <td>NaN</td>\n",
       "      <td>0.0</td>\n",
       "      <td>5</td>\n",
       "      <td>2</td>\n",
       "      <td>99</td>\n",
       "      <td>0.568571</td>\n",
       "    </tr>\n",
       "    <tr>\n",
       "      <th>4</th>\n",
       "      <td>0.682848</td>\n",
       "      <td>0.596953</td>\n",
       "      <td>0.607158</td>\n",
       "      <td>squared_error</td>\n",
       "      <td>4.113469</td>\n",
       "      <td>log_loss</td>\n",
       "      <td>4.0</td>\n",
       "      <td>NaN</td>\n",
       "      <td>0.0</td>\n",
       "      <td>3</td>\n",
       "      <td>2</td>\n",
       "      <td>85</td>\n",
       "      <td>0.981925</td>\n",
       "    </tr>\n",
       "  </tbody>\n",
       "</table>\n",
       "</div>"
      ],
      "text/plain": [
       "   val_accuracy  test_accuracy  train_accuracy      criterion  learning_rate  \\\n",
       "0      0.770227       0.753463        0.863088   friedman_mse       0.080069   \n",
       "1      0.779935       0.756233        0.853100   friedman_mse       0.702251   \n",
       "2      0.760518       0.754848        0.827299   friedman_mse       0.021818   \n",
       "3      0.773463       0.789474        0.999584  squared_error       0.098709   \n",
       "4      0.682848       0.596953        0.607158  squared_error       4.113469   \n",
       "\n",
       "          loss  max_depth  max_leaf_nodes  min_impurity_decrease  \\\n",
       "0  exponential        4.0            10.0                    0.0   \n",
       "1     log_loss        4.0             NaN                    0.0   \n",
       "2  exponential        4.0             NaN                    0.0   \n",
       "3  exponential        NaN             NaN                    0.0   \n",
       "4     log_loss        4.0             NaN                    0.0   \n",
       "\n",
       "   min_samples_leaf  min_samples_split  n_estimators  subsample  \n",
       "0                 2                  2           762   0.612558  \n",
       "1                37                  2            14   0.862961  \n",
       "2                 3                  2           123   0.910634  \n",
       "3                 5                  2            99   0.568571  \n",
       "4                 3                  2            85   0.981925  "
      ]
     },
     "execution_count": 2,
     "metadata": {},
     "output_type": "execute_result"
    }
   ],
   "source": [
    "df = pd.read_csv('C:\\\\Users\\\\vrish\\\\Documents\\\\Humber\\\\project\\\\Tech-Troopers\\\\Common\\\\results_temp\\\\clf_num\\\\gradient-boosting-results\\\\Bioresponse.csv')\n",
    "df.dropna(axis=1, how='all')\n",
    "df.head()"
   ]
  },
  {
   "cell_type": "code",
   "execution_count": 3,
   "id": "68706030",
   "metadata": {
    "execution": {
     "iopub.execute_input": "2024-06-05T18:35:06.433111Z",
     "iopub.status.busy": "2024-06-05T18:35:06.433111Z",
     "iopub.status.idle": "2024-06-05T18:35:06.440875Z",
     "shell.execute_reply": "2024-06-05T18:35:06.440875Z"
    }
   },
   "outputs": [],
   "source": [
    "df[df.columns[:3]] = df[df.columns[:3]].apply(pd.to_numeric)"
   ]
  },
  {
   "cell_type": "code",
   "execution_count": 4,
   "id": "2fe3e94b",
   "metadata": {
    "execution": {
     "iopub.execute_input": "2024-06-05T18:35:06.440875Z",
     "iopub.status.busy": "2024-06-05T18:35:06.440875Z",
     "iopub.status.idle": "2024-06-05T18:35:06.451124Z",
     "shell.execute_reply": "2024-06-05T18:35:06.451124Z"
    }
   },
   "outputs": [
    {
     "name": "stdout",
     "output_type": "stream",
     "text": [
      "Col - criterion : ['friedman_mse' 'squared_error']\n",
      "Col - loss : ['exponential' 'log_loss']\n"
     ]
    }
   ],
   "source": [
    "for col in df.select_dtypes(include=['object']).columns :\n",
    "\tprint(f'Col - {col} : {df[col].unique()}')"
   ]
  }
 ],
 "metadata": {
  "language_info": {
   "codemirror_mode": {
    "name": "ipython",
    "version": 3
   },
   "file_extension": ".py",
   "mimetype": "text/x-python",
   "name": "python",
   "nbconvert_exporter": "python",
   "pygments_lexer": "ipython3",
   "version": "3.12.3"
  }
 },
 "nbformat": 4,
 "nbformat_minor": 5
}
