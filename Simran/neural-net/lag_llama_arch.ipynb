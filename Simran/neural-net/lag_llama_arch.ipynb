{
 "cells": [
  {
   "cell_type": "code",
   "execution_count": 14,
   "id": "0a7d780d-8239-4ac6-8545-223a70ebe07e",
   "metadata": {
    "tags": []
   },
   "outputs": [],
   "source": [
    "import optuna\n",
    "import torch\n",
    "import torch.nn as nn\n",
    "import torch.optim as optim\n",
    "from torch.utils.data import DataLoader, TensorDataset\n",
    "from sklearn.metrics import mean_squared_error\n",
    "import pandas as pd\n",
    "from sklearn.model_selection import train_test_split\n",
    "from sklearn.preprocessing import StandardScaler\n",
    "from huggingface_hub import hf_hub_download\n",
    "import warnings\n",
    "warnings.filterwarnings(\"ignore\")\n",
    "\n",
    "!set HF_HUB_DISABLE_SYMLINKS_WARNING=true\n",
    "\n",
    "# Load dataset\n",
    "dataset = 'reg_cat/analcatdata_supreme.csv'\n",
    "REPO_ID = \"inria-soda/tabular-benchmark\"\n",
    "data = pd.read_csv(\n",
    "    hf_hub_download(repo_id=REPO_ID, filename=dataset, repo_type=\"dataset\")\n",
    ")\n",
    "\n",
    "X = data.drop('Log_exposure', axis=1)\n",
    "y = data['Log_exposure']\n",
    "\n",
    "# Standardize features\n",
    "scaler = StandardScaler()\n",
    "X_scaled = scaler.fit_transform(X)\n",
    "\n",
    "# Split data\n",
    "X_train, X_test, y_train, y_test = train_test_split(X_scaled, y, test_size=0.2, random_state=42)\n",
    "\n",
    "# Convert data to PyTorch tensors\n",
    "X_train_tensor = torch.tensor(X_train, dtype=torch.float32)\n",
    "y_train_tensor = torch.tensor(y_train.values, dtype=torch.float32).unsqueeze(1)\n",
    "X_test_tensor = torch.tensor(X_test, dtype=torch.float32)\n",
    "y_test_tensor = torch.tensor(y_test.values, dtype=torch.float32).unsqueeze(1)\n",
    "\n",
    "# Create DataLoader\n",
    "train_dataset = TensorDataset(X_train_tensor, y_train_tensor)\n",
    "train_loader = DataLoader(train_dataset, batch_size=32, shuffle=True)\n"
   ]
  },
  {
   "cell_type": "code",
   "execution_count": 15,
   "id": "fd5147d7-41fd-462c-8c92-2e43f75dc054",
   "metadata": {
    "tags": []
   },
   "outputs": [
    {
     "name": "stderr",
     "output_type": "stream",
     "text": [
      "[I 2024-06-03 18:06:49,972] A new study created in memory with name: no-name-08c2809a-94e4-450f-a516-f54a6d354150\n",
      "[I 2024-06-03 18:08:20,475] Trial 0 finished with value: 0.2743501365184784 and parameters: {'num_heads': 8, 'embed_dim': 192, 'num_layers': 4, 'dropout': 0.25098700828723836, 'learning_rate': 0.0008292793869030677}. Best is trial 0 with value: 0.2743501365184784.\n",
      "[I 2024-06-03 18:09:13,561] Trial 1 finished with value: 0.1591539829969406 and parameters: {'num_heads': 7, 'embed_dim': 112, 'num_layers': 3, 'dropout': 0.16393583086969032, 'learning_rate': 6.187452393398757e-05}. Best is trial 1 with value: 0.1591539829969406.\n",
      "[I 2024-06-03 18:10:20,608] Trial 2 finished with value: 0.35376209020614624 and parameters: {'num_heads': 7, 'embed_dim': 112, 'num_layers': 4, 'dropout': 0.4061379627146626, 'learning_rate': 1.4245524557709359e-05}. Best is trial 1 with value: 0.1591539829969406.\n",
      "[I 2024-06-03 18:10:51,940] Trial 3 finished with value: 0.5031148195266724 and parameters: {'num_heads': 8, 'embed_dim': 64, 'num_layers': 2, 'dropout': 0.49739043090833784, 'learning_rate': 7.811137502404925e-05}. Best is trial 1 with value: 0.1591539829969406.\n",
      "[I 2024-06-03 18:11:24,152] Trial 4 finished with value: 0.17769338190555573 and parameters: {'num_heads': 6, 'embed_dim': 48, 'num_layers': 2, 'dropout': 0.3492374485304126, 'learning_rate': 0.0008115337415800403}. Best is trial 1 with value: 0.1591539829969406.\n",
      "[I 2024-06-03 18:12:55,729] Trial 5 finished with value: 0.18112312257289886 and parameters: {'num_heads': 8, 'embed_dim': 256, 'num_layers': 3, 'dropout': 0.19777584026845385, 'learning_rate': 1.3638648820599378e-05}. Best is trial 1 with value: 0.1591539829969406.\n",
      "[I 2024-06-03 18:13:49,588] Trial 6 finished with value: 0.5158336162567139 and parameters: {'num_heads': 5, 'embed_dim': 80, 'num_layers': 4, 'dropout': 0.15673257927457585, 'learning_rate': 0.006835011211971341}. Best is trial 1 with value: 0.1591539829969406.\n",
      "[I 2024-06-03 18:14:28,790] Trial 7 finished with value: 0.3487454950809479 and parameters: {'num_heads': 4, 'embed_dim': 64, 'num_layers': 3, 'dropout': 0.42674981741125073, 'learning_rate': 0.0001778926018523846}. Best is trial 1 with value: 0.1591539829969406.\n",
      "[I 2024-06-03 18:16:19,615] Trial 8 finished with value: 0.5781047940254211 and parameters: {'num_heads': 5, 'embed_dim': 160, 'num_layers': 6, 'dropout': 0.25860512394828045, 'learning_rate': 0.0019349706505064617}. Best is trial 1 with value: 0.1591539829969406.\n",
      "[I 2024-06-03 18:16:49,219] Trial 9 finished with value: 0.1999494582414627 and parameters: {'num_heads': 2, 'embed_dim': 32, 'num_layers': 3, 'dropout': 0.3040010080930686, 'learning_rate': 0.0004099690489600951}. Best is trial 1 with value: 0.1591539829969406.\n",
      "[I 2024-06-03 18:17:47,671] Trial 10 finished with value: 0.14911147952079773 and parameters: {'num_heads': 3, 'embed_dim': 24, 'num_layers': 6, 'dropout': 0.10393753172737631, 'learning_rate': 6.799729304753164e-05}. Best is trial 10 with value: 0.14911147952079773.\n",
      "[I 2024-06-03 18:18:40,979] Trial 11 finished with value: 0.19178122282028198 and parameters: {'num_heads': 2, 'embed_dim': 16, 'num_layers': 6, 'dropout': 0.10317784164312992, 'learning_rate': 5.587409243923663e-05}. Best is trial 10 with value: 0.14911147952079773.\n",
      "[I 2024-06-03 18:19:31,072] Trial 12 finished with value: 0.1516537219285965 and parameters: {'num_heads': 3, 'embed_dim': 24, 'num_layers': 5, 'dropout': 0.10015402260730531, 'learning_rate': 5.20984252295751e-05}. Best is trial 10 with value: 0.14911147952079773.\n",
      "[I 2024-06-03 18:20:22,260] Trial 13 finished with value: 0.18412306904792786 and parameters: {'num_heads': 3, 'embed_dim': 24, 'num_layers': 5, 'dropout': 0.12330251557959812, 'learning_rate': 2.815452805425125e-05}. Best is trial 10 with value: 0.14911147952079773.\n",
      "[I 2024-06-03 18:21:14,359] Trial 14 finished with value: 0.2178858369588852 and parameters: {'num_heads': 3, 'embed_dim': 24, 'num_layers': 5, 'dropout': 0.21166622590839052, 'learning_rate': 0.00016403118131014027}. Best is trial 10 with value: 0.14911147952079773.\n",
      "[I 2024-06-03 18:22:15,745] Trial 15 finished with value: 0.17219656705856323 and parameters: {'num_heads': 4, 'embed_dim': 64, 'num_layers': 5, 'dropout': 0.1439410655404702, 'learning_rate': 3.218712013547121e-05}. Best is trial 10 with value: 0.14911147952079773.\n",
      "[I 2024-06-03 18:23:25,640] Trial 16 finished with value: 0.1956559270620346 and parameters: {'num_heads': 3, 'embed_dim': 48, 'num_layers': 6, 'dropout': 0.21060124689905263, 'learning_rate': 0.00019235731830234213}. Best is trial 10 with value: 0.14911147952079773.\n",
      "[I 2024-06-03 18:24:17,595] Trial 17 finished with value: 0.1807912141084671 and parameters: {'num_heads': 4, 'embed_dim': 32, 'num_layers': 5, 'dropout': 0.11472352533716557, 'learning_rate': 0.00010542059772594588}. Best is trial 10 with value: 0.14911147952079773.\n",
      "[I 2024-06-03 18:25:10,484] Trial 18 finished with value: 0.22187195718288422 and parameters: {'num_heads': 2, 'embed_dim': 16, 'num_layers': 6, 'dropout': 0.18004708877333014, 'learning_rate': 3.1583101886057695e-05}. Best is trial 10 with value: 0.14911147952079773.\n",
      "[I 2024-06-03 18:26:15,442] Trial 19 finished with value: 0.2148473858833313 and parameters: {'num_heads': 5, 'embed_dim': 80, 'num_layers': 5, 'dropout': 0.24938959946854755, 'learning_rate': 0.0004419858278824366}. Best is trial 10 with value: 0.14911147952079773.\n",
      "[I 2024-06-03 18:27:34,458] Trial 20 finished with value: 0.5514292120933533 and parameters: {'num_heads': 3, 'embed_dim': 48, 'num_layers': 6, 'dropout': 0.32804384768612777, 'learning_rate': 0.009437215962352308}. Best is trial 10 with value: 0.14911147952079773.\n",
      "[I 2024-06-03 18:28:40,698] Trial 21 finished with value: 0.14830395579338074 and parameters: {'num_heads': 6, 'embed_dim': 96, 'num_layers': 4, 'dropout': 0.100210132163543, 'learning_rate': 4.624271207166638e-05}. Best is trial 21 with value: 0.14830395579338074.\n",
      "[I 2024-06-03 18:30:23,420] Trial 22 finished with value: 0.15158401429653168 and parameters: {'num_heads': 6, 'embed_dim': 144, 'num_layers': 5, 'dropout': 0.10081307272712814, 'learning_rate': 2.202047537497965e-05}. Best is trial 21 with value: 0.14830395579338074.\n",
      "[I 2024-06-03 18:31:41,003] Trial 23 finished with value: 0.1473664939403534 and parameters: {'num_heads': 6, 'embed_dim': 144, 'num_layers': 4, 'dropout': 0.14116044410923684, 'learning_rate': 1.840993619220434e-05}. Best is trial 23 with value: 0.1473664939403534.\n",
      "[I 2024-06-03 18:32:58,404] Trial 24 finished with value: 0.1519896686077118 and parameters: {'num_heads': 6, 'embed_dim': 144, 'num_layers': 4, 'dropout': 0.14857609963208757, 'learning_rate': 1.0268780663579608e-05}. Best is trial 23 with value: 0.1473664939403534.\n",
      "[I 2024-06-03 18:34:04,433] Trial 25 finished with value: 0.14525149762630463 and parameters: {'num_heads': 7, 'embed_dim': 112, 'num_layers': 4, 'dropout': 0.14476189931777117, 'learning_rate': 0.00010631571227816024}. Best is trial 25 with value: 0.14525149762630463.\n",
      "[I 2024-06-03 18:35:10,208] Trial 26 finished with value: 0.18716412782669067 and parameters: {'num_heads': 7, 'embed_dim': 112, 'num_layers': 4, 'dropout': 0.22680337683432772, 'learning_rate': 1.9321820547277125e-05}. Best is trial 25 with value: 0.14525149762630463.\n",
      "[I 2024-06-03 18:36:24,344] Trial 27 finished with value: 0.16871149837970734 and parameters: {'num_heads': 6, 'embed_dim': 144, 'num_layers': 4, 'dropout': 0.1760792056047224, 'learning_rate': 0.0001337238284791076}. Best is trial 25 with value: 0.14525149762630463.\n",
      "[I 2024-06-03 18:37:16,976] Trial 28 finished with value: 0.20354466140270233 and parameters: {'num_heads': 7, 'embed_dim': 112, 'num_layers': 3, 'dropout': 0.13677194452712801, 'learning_rate': 0.0002592113047098015}. Best is trial 25 with value: 0.14525149762630463.\n",
      "[I 2024-06-03 18:38:45,472] Trial 29 finished with value: 0.21577905118465424 and parameters: {'num_heads': 8, 'embed_dim': 192, 'num_layers': 4, 'dropout': 0.2533228678402863, 'learning_rate': 4.423378059797135e-05}. Best is trial 25 with value: 0.14525149762630463.\n"
     ]
    },
    {
     "name": "stdout",
     "output_type": "stream",
     "text": [
      "Best hyperparameters:  {'num_heads': 7, 'embed_dim': 112, 'num_layers': 4, 'dropout': 0.14476189931777117, 'learning_rate': 0.00010631571227816024}\n",
      "Best RMSE:  0.14525149762630463\n"
     ]
    }
   ],
   "source": [
    "\n",
    "# Define the device\n",
    "device = torch.device(\"cuda\" if torch.cuda.is_available() else \"cpu\")\n",
    "\n",
    "class LagLlama(nn.Module):\n",
    "    def __init__(self, input_dim, embed_dim, num_heads, num_layers, dropout):\n",
    "        super(LagLlama, self).__init__()\n",
    "        self.encoder = nn.Linear(input_dim, embed_dim)\n",
    "        encoder_layer = nn.TransformerEncoderLayer(d_model=embed_dim, nhead=num_heads, dropout=dropout)\n",
    "        self.transformer = nn.TransformerEncoder(encoder_layer, num_layers)\n",
    "        self.decoder = nn.Linear(embed_dim, input_dim)\n",
    "        self.fc = nn.Linear(input_dim, 1)\n",
    "        self.dropout = nn.Dropout(dropout)\n",
    "        \n",
    "    def forward(self, x):\n",
    "        x = self.encoder(x)\n",
    "        x = x.unsqueeze(1)  # Add a sequence dimension\n",
    "        x = self.dropout(x)\n",
    "        x = self.transformer(x)\n",
    "        x = x.squeeze(1)  # Remove the sequence dimension\n",
    "        x = self.decoder(x)\n",
    "        x = self.fc(x)\n",
    "        return x\n",
    "\n",
    "def objective(trial):\n",
    "    # Define hyperparameters to tune\n",
    "    num_heads = trial.suggest_int('num_heads', 2, 8)\n",
    "    embed_dim = trial.suggest_int('embed_dim', num_heads * 8, num_heads * 32, step=num_heads * 8)\n",
    "    num_layers = trial.suggest_int('num_layers', 2, 6)\n",
    "    dropout = trial.suggest_float('dropout', 0.1, 0.5)\n",
    "    learning_rate = trial.suggest_float('learning_rate', 1e-5, 1e-2, log=True)\n",
    "\n",
    "    # Initialize the model\n",
    "    input_dim = X_train.shape[1]\n",
    "    model = LagLlama(input_dim, embed_dim, num_heads, num_layers, dropout)\n",
    "    model.to(device)\n",
    "    \n",
    "    criterion = nn.MSELoss()\n",
    "    optimizer = optim.Adam(model.parameters(), lr=learning_rate)\n",
    "\n",
    "    # Training loop\n",
    "    num_epochs = 20\n",
    "    for epoch in range(num_epochs):\n",
    "        model.train()\n",
    "        for X_batch, y_batch in train_loader:\n",
    "            optimizer.zero_grad()\n",
    "            X_batch, y_batch = X_batch.to(device), y_batch.to(device)\n",
    "            predictions = model(X_batch)\n",
    "            loss = criterion(predictions, y_batch)\n",
    "            loss.backward()\n",
    "            optimizer.step()\n",
    "\n",
    "    # Evaluation\n",
    "    model.eval()\n",
    "    with torch.no_grad():\n",
    "        predictions = model(X_test_tensor.to(device))\n",
    "        rmse = torch.sqrt(criterion(predictions, y_test_tensor.to(device))).item()\n",
    "    \n",
    "    return rmse\n",
    "\n",
    "# Run the optimization\n",
    "study = optuna.create_study(direction='minimize')\n",
    "study.optimize(objective, n_trials=30)\n",
    "\n",
    "print(\"Best hyperparameters: \", study.best_params)\n",
    "print(\"Best RMSE: \", study.best_value)\n"
   ]
  },
  {
   "cell_type": "code",
   "execution_count": 7,
   "id": "5ded28dd-065d-4197-aa7c-c4d9ba90a788",
   "metadata": {
    "tags": []
   },
   "outputs": [
    {
     "name": "stdout",
     "output_type": "stream",
     "text": [
      "XGBoost RMSE: 0.08822682636989307\n"
     ]
    }
   ],
   "source": [
    "# import pandas as pd\n",
    "# from sklearn.model_selection import train_test_split\n",
    "# from sklearn.preprocessing import StandardScaler\n",
    "# import xgboost as xgb\n",
    "# from sklearn.metrics import mean_squared_error\n",
    "\n",
    "# # Load dataset\n",
    "# dataset = 'reg_cat/analcatdata_supreme.csv'\n",
    "# REPO_ID = \"inria-soda/tabular-benchmark\"\n",
    "# data = pd.read_csv(hf_hub_download(repo_id=REPO_ID, filename=dataset, repo_type=\"dataset\"))\n",
    "# X = data.drop('Log_exposure', axis=1)\n",
    "# y = data['Log_exposure']\n",
    "\n",
    "# # Standardize features\n",
    "# scaler = StandardScaler()\n",
    "# X_scaled = scaler.fit_transform(X)\n",
    "\n",
    "# # Split data into training and testing sets\n",
    "# X_train, X_test, y_train, y_test = train_test_split(X_scaled, y, test_size=0.2, random_state=42)\n",
    "\n",
    "# # Train XGBoost model\n",
    "# xgb_model = xgb.XGBRegressor()\n",
    "# xgb_model.fit(X_train, y_train)\n",
    "\n",
    "# # Predict and evaluate\n",
    "# predictions = xgb_model.predict(X_test)\n",
    "# xgboost_rmse = mean_squared_error(y_test, predictions, squared=False)\n",
    "# print(f\"XGBoost RMSE: {xgboost_rmse}\")\n",
    "\n",
    "\n"
   ]
  },
  {
   "cell_type": "code",
   "execution_count": 18,
   "id": "cf33de22-fc83-4203-93c2-179eaf3c340b",
   "metadata": {
    "tags": []
   },
   "outputs": [
    {
     "data": {
      "image/png": "[encoded data removed]",
      "text/plain": [
       "<Figure size 640x480 with 1 Axes>"
      ]
     },
     "metadata": {},
     "output_type": "display_data"
    },
    {
     "name": "stdout",
     "output_type": "stream",
     "text": [
      "Best XGBOOST hyperparameters:  {'n_estimators': 133, 'max_depth': 8, 'learning_rate': 0.11334686113587526, 'gamma': 0.009860828607778014, 'min_child_weight': 9, 'subsample': 0.9963943210297486, 'colsample_bytree': 0.6793447846109051}\n",
      "\n",
      "\n",
      "Best SAINT hyperparameters:  {'num_heads': 6, 'embed_dim': 96, 'num_layers': 5, 'dropout': 0.10640181013905547, 'learning_rate': 6.376830055102888e-05}\n",
      "\n",
      "\n",
      "Best ResNet hyperparameters:  {'hidden_dim': 144, 'num_blocks': 3, 'dropout': 0.48672492461773437, 'learning_rate': 0.005133179138771948}\n",
      "\n",
      "\n",
      "Best Lag-Llama hyperparameters:  {'num_heads': 7, 'embed_dim': 112, 'num_layers': 4, 'dropout': 0.14476189931777117, 'learning_rate': 0.00010631571227816024}\n",
      "\n",
      "\n",
      "Best trans lag hyperparameters:  {'num_heads': 4, 'embed_dim': 64, 'num_layers': 5, 'dropout': 0.2565767626966763, 'learning_rate': 4.5915253774484096e-05}\n"
     ]
    }
   ],
   "source": [
    "import matplotlib.pyplot as plt\n",
    "\n",
    "# Ensure that the RMSE values for all models are obtained\n",
    "# Note: The variables `saint_study`, `resnet_study`, and `transformer_study` should be already defined\n",
    "v1= 0.1192101240158081\n",
    "\n",
    "\n",
    "# Visualize performance comparison\n",
    "model_names = ['XGBoost', 'SAINT', 'ResNet', 'lag-llama','lag-encoding']\n",
    "rmse_values = [0.083567666534383, v1, 0.09278280287981033, study.best_value, 0.26530590653419495]\n",
    "\n",
    "plt.bar(model_names, rmse_values, color=['blue', 'orange', 'green', 'red','plum'])\n",
    "plt.xlabel('Model')\n",
    "plt.ylabel('RMSE')\n",
    "plt.title('Performance Comparison')\n",
    "plt.show()\n",
    "saint_study= {'num_heads': 6, 'embed_dim': 96, 'num_layers': 5, 'dropout': 0.10640181013905547, 'learning_rate': 6.376830055102888e-05}\n",
    "resnet_study= {'hidden_dim': 144, 'num_blocks': 3, 'dropout': 0.48672492461773437, 'learning_rate': 0.005133179138771948}\n",
    "transformer_study= {'num_heads': 7,\n",
    " 'embed_dim': 224,\n",
    " 'num_layers': 6,\n",
    " 'dropout': 0.10440143355537192,\n",
    " 'learning_rate': 1.0316558759517638e-05}\n",
    "x = {'num_heads': 4, 'embed_dim': 64, 'num_layers': 5, 'dropout': 0.2565767626966763, 'learning_rate': 4.5915253774484096e-05}\n",
    "# Visualize best hyperparameters for each model\n",
    "xg = {'n_estimators': 133, 'max_depth': 8, 'learning_rate': 0.11334686113587526, 'gamma': 0.009860828607778014, 'min_child_weight': 9, 'subsample': 0.9963943210297486, 'colsample_bytree': 0.6793447846109051}\n",
    "print(\"Best XGBOOST hyperparameters: \", xg)\n",
    "print(\"\\n\")\n",
    "print(\"Best SAINT hyperparameters: \", saint_study)\n",
    "print(\"\\n\")\n",
    "print(\"Best ResNet hyperparameters: \", resnet_study)\n",
    "print(\"\\n\")\n",
    "# print(\"Best Transformer hyperparameters: \", transformer_study)\n",
    "print(\"Best Lag-Llama hyperparameters: \", study.best_params)\n",
    "print(\"\\n\")\n",
    "print(\"Best trans lag hyperparameters: \", x)\n",
    "mod \n",
    "(yi -y)\n",
    "\n",
    "10\n",
    "(1- 10) 0"
   ]
  },
  {
   "cell_type": "code",
   "execution_count": null,
   "id": "e6feb1a0-2e25-4a48-b3a9-4da16cb9613f",
   "metadata": {},
   "outputs": [],
   "source": []
  }
 ],
 "metadata": {
  "kernelspec": {
   "display_name": "Python 3 (ipykernel)",
   "language": "python",
   "name": "python3"
  },
  "language_info": {
   "codemirror_mode": {
    "name": "ipython",
    "version": 3
   },
   "file_extension": ".py",
   "mimetype": "text/x-python",
   "name": "python",
   "nbconvert_exporter": "python",
   "pygments_lexer": "ipython3",
   "version": "3.11.5"
  }
 },
 "nbformat": 4,
 "nbformat_minor": 5
}
