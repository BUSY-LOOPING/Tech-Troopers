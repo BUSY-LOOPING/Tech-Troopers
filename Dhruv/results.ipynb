{
 "cells": [
  {
   "cell_type": "code",
   "execution_count": 1,
   "id": "c719e263-b14c-4067-b16b-ebcf8699b3ff",
   "metadata": {
    "tags": []
   },
   "outputs": [],
   "source": [
    "import numpy as np\n",
    "import pandas as pd\n",
    "import seaborn as sns \n",
    "import matplotlib.pyplot as plt\n",
    "import plotly.express as px\n",
    "import plotly.graph_objects as go\n",
    "\n",
    "\n",
    "from sklearn.linear_model import LinearRegression\n",
    "from sklearn.preprocessing import LabelEncoder\n",
    "from sklearn.ensemble import RandomForestClassifier, GradientBoostingClassifier\n",
    "from sklearn.metrics import confusion_matrix, roc_curve, auc, accuracy_score\n",
    "from xgboost import XGBClassifier\n",
    "\n",
    "from results.utils import *\n",
    "from preprocessing.utils import *\n",
    "\n",
    "from huggingface_hub import hf_hub_download\n",
    "\n",
    "import warnings\n",
    "warnings.filterwarnings(\"ignore\")"
   ]
  },
  {
   "cell_type": "code",
   "execution_count": 2,
   "id": "db68262c-8b2d-4311-aa48-d252a2f5acff",
   "metadata": {
    "tags": []
   },
   "outputs": [
    {
     "data": {
      "text/html": [
       "<div>\n",
       "<style scoped>\n",
       "    .dataframe tbody tr th:only-of-type {\n",
       "        vertical-align: middle;\n",
       "    }\n",
       "\n",
       "    .dataframe tbody tr th {\n",
       "        vertical-align: top;\n",
       "    }\n",
       "\n",
       "    .dataframe thead th {\n",
       "        text-align: right;\n",
       "    }\n",
       "</style>\n",
       "<table border=\"1\" class=\"dataframe\">\n",
       "  <thead>\n",
       "    <tr style=\"text-align: right;\">\n",
       "      <th></th>\n",
       "      <th>val_accuracy</th>\n",
       "      <th>test_accuracy</th>\n",
       "      <th>train_accuracy</th>\n",
       "      <th>bootstrap</th>\n",
       "      <th>ccp_alpha</th>\n",
       "      <th>criterion</th>\n",
       "      <th>max_depth</th>\n",
       "      <th>max_features</th>\n",
       "      <th>min_impurity_decrease</th>\n",
       "      <th>min_samples_leaf</th>\n",
       "      <th>min_samples_split</th>\n",
       "      <th>min_weight_fraction_leaf</th>\n",
       "      <th>n_estimators</th>\n",
       "      <th>oob_score</th>\n",
       "      <th>verbose</th>\n",
       "      <th>warm_start</th>\n",
       "    </tr>\n",
       "  </thead>\n",
       "  <tbody>\n",
       "    <tr>\n",
       "      <th>0</th>\n",
       "      <td>0.69598</td>\n",
       "      <td>0.700143</td>\n",
       "      <td>0.998278</td>\n",
       "      <td>True</td>\n",
       "      <td>0.0</td>\n",
       "      <td>gini</td>\n",
       "      <td>None</td>\n",
       "      <td>sqrt</td>\n",
       "      <td>0.0</td>\n",
       "      <td>1</td>\n",
       "      <td>2</td>\n",
       "      <td>0.0</td>\n",
       "      <td>100</td>\n",
       "      <td>False</td>\n",
       "      <td>0</td>\n",
       "      <td>False</td>\n",
       "    </tr>\n",
       "    <tr>\n",
       "      <th>1</th>\n",
       "      <td>0.694305</td>\n",
       "      <td>0.683286</td>\n",
       "      <td>0.983961</td>\n",
       "      <td>False</td>\n",
       "      <td>0.0</td>\n",
       "      <td>entropy</td>\n",
       "      <td>None</td>\n",
       "      <td>0.6</td>\n",
       "      <td>0.0</td>\n",
       "      <td>5</td>\n",
       "      <td>2</td>\n",
       "      <td>0.0</td>\n",
       "      <td>757</td>\n",
       "      <td>False</td>\n",
       "      <td>0</td>\n",
       "      <td>False</td>\n",
       "    </tr>\n",
       "    <tr>\n",
       "      <th>2</th>\n",
       "      <td>0.688442</td>\n",
       "      <td>0.695839</td>\n",
       "      <td>0.70366</td>\n",
       "      <td>True</td>\n",
       "      <td>0.0</td>\n",
       "      <td>entropy</td>\n",
       "      <td>3</td>\n",
       "      <td>None</td>\n",
       "      <td>0.0</td>\n",
       "      <td>20</td>\n",
       "      <td>2</td>\n",
       "      <td>0.0</td>\n",
       "      <td>518</td>\n",
       "      <td>False</td>\n",
       "      <td>0</td>\n",
       "      <td>False</td>\n",
       "    </tr>\n",
       "    <tr>\n",
       "      <th>3</th>\n",
       "      <td>0.680905</td>\n",
       "      <td>0.682927</td>\n",
       "      <td>0.695479</td>\n",
       "      <td>True</td>\n",
       "      <td>0.0</td>\n",
       "      <td>gini</td>\n",
       "      <td>2</td>\n",
       "      <td>0.6</td>\n",
       "      <td>0.0</td>\n",
       "      <td>5</td>\n",
       "      <td>2</td>\n",
       "      <td>0.0</td>\n",
       "      <td>944</td>\n",
       "      <td>False</td>\n",
       "      <td>0</td>\n",
       "      <td>False</td>\n",
       "    </tr>\n",
       "    <tr>\n",
       "      <th>4</th>\n",
       "      <td>0.70938</td>\n",
       "      <td>0.710545</td>\n",
       "      <td>0.783531</td>\n",
       "      <td>False</td>\n",
       "      <td>0.0</td>\n",
       "      <td>gini</td>\n",
       "      <td>None</td>\n",
       "      <td>sqrt</td>\n",
       "      <td>0.0</td>\n",
       "      <td>23</td>\n",
       "      <td>2</td>\n",
       "      <td>0.0</td>\n",
       "      <td>2894</td>\n",
       "      <td>False</td>\n",
       "      <td>0</td>\n",
       "      <td>False</td>\n",
       "    </tr>\n",
       "    <tr>\n",
       "      <th>...</th>\n",
       "      <td>...</td>\n",
       "      <td>...</td>\n",
       "      <td>...</td>\n",
       "      <td>...</td>\n",
       "      <td>...</td>\n",
       "      <td>...</td>\n",
       "      <td>...</td>\n",
       "      <td>...</td>\n",
       "      <td>...</td>\n",
       "      <td>...</td>\n",
       "      <td>...</td>\n",
       "      <td>...</td>\n",
       "      <td>...</td>\n",
       "      <td>...</td>\n",
       "      <td>...</td>\n",
       "      <td>...</td>\n",
       "    </tr>\n",
       "    <tr>\n",
       "      <th>245</th>\n",
       "      <td>0.70268</td>\n",
       "      <td>0.682927</td>\n",
       "      <td>0.998278</td>\n",
       "      <td>False</td>\n",
       "      <td>0.0</td>\n",
       "      <td>gini</td>\n",
       "      <td>None</td>\n",
       "      <td>0.6</td>\n",
       "      <td>0.0</td>\n",
       "      <td>1</td>\n",
       "      <td>2</td>\n",
       "      <td>0.0</td>\n",
       "      <td>70</td>\n",
       "      <td>False</td>\n",
       "      <td>0</td>\n",
       "      <td>False</td>\n",
       "    </tr>\n",
       "    <tr>\n",
       "      <th>246</th>\n",
       "      <td>0.69598</td>\n",
       "      <td>0.702654</td>\n",
       "      <td>0.820129</td>\n",
       "      <td>False</td>\n",
       "      <td>0.0</td>\n",
       "      <td>gini</td>\n",
       "      <td>None</td>\n",
       "      <td>0.4</td>\n",
       "      <td>0.0</td>\n",
       "      <td>18</td>\n",
       "      <td>2</td>\n",
       "      <td>0.0</td>\n",
       "      <td>18</td>\n",
       "      <td>False</td>\n",
       "      <td>0</td>\n",
       "      <td>False</td>\n",
       "    </tr>\n",
       "    <tr>\n",
       "      <th>247</th>\n",
       "      <td>0.70603</td>\n",
       "      <td>0.7066</td>\n",
       "      <td>0.844349</td>\n",
       "      <td>True</td>\n",
       "      <td>0.0</td>\n",
       "      <td>entropy</td>\n",
       "      <td>None</td>\n",
       "      <td>0.9</td>\n",
       "      <td>0.0</td>\n",
       "      <td>11</td>\n",
       "      <td>2</td>\n",
       "      <td>0.0</td>\n",
       "      <td>2213</td>\n",
       "      <td>False</td>\n",
       "      <td>0</td>\n",
       "      <td>False</td>\n",
       "    </tr>\n",
       "    <tr>\n",
       "      <th>248</th>\n",
       "      <td>0.69933</td>\n",
       "      <td>0.703013</td>\n",
       "      <td>0.715178</td>\n",
       "      <td>False</td>\n",
       "      <td>0.0</td>\n",
       "      <td>gini</td>\n",
       "      <td>3</td>\n",
       "      <td>sqrt</td>\n",
       "      <td>0.0</td>\n",
       "      <td>29</td>\n",
       "      <td>2</td>\n",
       "      <td>0.0</td>\n",
       "      <td>63</td>\n",
       "      <td>False</td>\n",
       "      <td>0</td>\n",
       "      <td>False</td>\n",
       "    </tr>\n",
       "    <tr>\n",
       "      <th>249</th>\n",
       "      <td>0.705193</td>\n",
       "      <td>0.703013</td>\n",
       "      <td>0.722067</td>\n",
       "      <td>True</td>\n",
       "      <td>0.0</td>\n",
       "      <td>gini</td>\n",
       "      <td>4</td>\n",
       "      <td>0.7</td>\n",
       "      <td>0.0</td>\n",
       "      <td>32</td>\n",
       "      <td>2</td>\n",
       "      <td>0.0</td>\n",
       "      <td>221</td>\n",
       "      <td>False</td>\n",
       "      <td>0</td>\n",
       "      <td>False</td>\n",
       "    </tr>\n",
       "  </tbody>\n",
       "</table>\n",
       "<p>250 rows × 16 columns</p>\n",
       "</div>"
      ],
      "text/plain": [
       "    val_accuracy test_accuracy train_accuracy bootstrap ccp_alpha criterion  \\\n",
       "0        0.69598      0.700143       0.998278      True       0.0      gini   \n",
       "1       0.694305      0.683286       0.983961     False       0.0   entropy   \n",
       "2       0.688442      0.695839        0.70366      True       0.0   entropy   \n",
       "3       0.680905      0.682927       0.695479      True       0.0      gini   \n",
       "4        0.70938      0.710545       0.783531     False       0.0      gini   \n",
       "..           ...           ...            ...       ...       ...       ...   \n",
       "245      0.70268      0.682927       0.998278     False       0.0      gini   \n",
       "246      0.69598      0.702654       0.820129     False       0.0      gini   \n",
       "247      0.70603        0.7066       0.844349      True       0.0   entropy   \n",
       "248      0.69933      0.703013       0.715178     False       0.0      gini   \n",
       "249     0.705193      0.703013       0.722067      True       0.0      gini   \n",
       "\n",
       "    max_depth max_features min_impurity_decrease min_samples_leaf  \\\n",
       "0        None         sqrt                   0.0                1   \n",
       "1        None          0.6                   0.0                5   \n",
       "2           3         None                   0.0               20   \n",
       "3           2          0.6                   0.0                5   \n",
       "4        None         sqrt                   0.0               23   \n",
       "..        ...          ...                   ...              ...   \n",
       "245      None          0.6                   0.0                1   \n",
       "246      None          0.4                   0.0               18   \n",
       "247      None          0.9                   0.0               11   \n",
       "248         3         sqrt                   0.0               29   \n",
       "249         4          0.7                   0.0               32   \n",
       "\n",
       "    min_samples_split min_weight_fraction_leaf n_estimators oob_score verbose  \\\n",
       "0                   2                      0.0          100     False       0   \n",
       "1                   2                      0.0          757     False       0   \n",
       "2                   2                      0.0          518     False       0   \n",
       "3                   2                      0.0          944     False       0   \n",
       "4                   2                      0.0         2894     False       0   \n",
       "..                ...                      ...          ...       ...     ...   \n",
       "245                 2                      0.0           70     False       0   \n",
       "246                 2                      0.0           18     False       0   \n",
       "247                 2                      0.0         2213     False       0   \n",
       "248                 2                      0.0           63     False       0   \n",
       "249                 2                      0.0          221     False       0   \n",
       "\n",
       "    warm_start  \n",
       "0        False  \n",
       "1        False  \n",
       "2        False  \n",
       "3        False  \n",
       "4        False  \n",
       "..         ...  \n",
       "245      False  \n",
       "246      False  \n",
       "247      False  \n",
       "248      False  \n",
       "249      False  \n",
       "\n",
       "[250 rows x 16 columns]"
      ]
     },
     "execution_count": 2,
     "metadata": {},
     "output_type": "execute_result"
    }
   ],
   "source": [
    "df_random_forest = load_results_to_dataframe('random-forest-results', 'default-of-credit-card-clients.csv')\n",
    "df_random_forest = df_random_forest.dropna(axis=1, how='all')\n",
    "df_random_forest"
   ]
  },
  {
   "cell_type": "code",
   "execution_count": 3,
   "id": "2ead8241-8091-4ffe-a4b0-ee89b0d55ee2",
   "metadata": {
    "tags": []
   },
   "outputs": [
    {
     "name": "stdout",
     "output_type": "stream",
     "text": [
      "<class 'pandas.core.frame.DataFrame'>\n",
      "Index: 250 entries, 0 to 249\n",
      "Data columns (total 16 columns):\n",
      " #   Column                    Non-Null Count  Dtype \n",
      "---  ------                    --------------  ----- \n",
      " 0   val_accuracy              250 non-null    object\n",
      " 1   test_accuracy             250 non-null    object\n",
      " 2   train_accuracy            250 non-null    object\n",
      " 3   bootstrap                 250 non-null    object\n",
      " 4   ccp_alpha                 250 non-null    object\n",
      " 5   criterion                 250 non-null    object\n",
      " 6   max_depth                 72 non-null     object\n",
      " 7   max_features              235 non-null    object\n",
      " 8   min_impurity_decrease     250 non-null    object\n",
      " 9   min_samples_leaf          250 non-null    object\n",
      " 10  min_samples_split         250 non-null    object\n",
      " 11  min_weight_fraction_leaf  250 non-null    object\n",
      " 12  n_estimators              250 non-null    object\n",
      " 13  oob_score                 250 non-null    object\n",
      " 14  verbose                   250 non-null    object\n",
      " 15  warm_start                250 non-null    object\n",
      "dtypes: object(16)\n",
      "memory usage: 41.3+ KB\n"
     ]
    }
   ],
   "source": [
    "df_random_forest.info()"
   ]
  },
  {
   "cell_type": "code",
   "execution_count": 4,
   "id": "c25786ab-c199-40ce-bda0-7cff8bfa26c9",
   "metadata": {
    "tags": []
   },
   "outputs": [],
   "source": [
    "df_random_forest[df_random_forest.columns[:3]] = df_random_forest[df_random_forest.columns[:3]].apply(pd.to_numeric)"
   ]
  },
  {
   "cell_type": "code",
   "execution_count": 5,
   "id": "fbac319a-674e-40d4-aa7f-1f8baf97f371",
   "metadata": {
    "tags": []
   },
   "outputs": [
    {
     "name": "stdout",
     "output_type": "stream",
     "text": [
      "Col - bootstrap : [True False]\n",
      "Col - ccp_alpha : [0.0]\n",
      "Col - criterion : ['gini' 'entropy']\n",
      "Col - max_depth : [None 3 2 4]\n",
      "Col - max_features : ['sqrt' 0.6 None 0.9 0.4 0.2 0.1 0.7 0.8 'log2' 0.3]\n",
      "Col - min_impurity_decrease : [0.0 0.01 0.02 0.05]\n",
      "Col - min_samples_leaf : [1 5 20 23 4 2 3 22 45 11 18 37 6 17 9 25 32 29 39 40 48 24 13]\n",
      "Col - min_samples_split : [2 3]\n",
      "Col - min_weight_fraction_leaf : [0.0]\n",
      "Col - n_estimators : [100 757 518 944 2894 108 615 1260 2717 1896 81 46 205 1780 1584 138 123\n",
      " 33 1133 114 18 164 130 1157 2190 44 1785 418 315 12 84 2213 221 10 63 41\n",
      " 213 441 2952 20 535 58 70 543 36 69 11 1946 779 250]\n",
      "Col - oob_score : [False]\n",
      "Col - verbose : [0]\n",
      "Col - warm_start : [False]\n"
     ]
    }
   ],
   "source": [
    "for col in df_random_forest.select_dtypes(include=['object']).columns :\n",
    "    print(f'Col - {col} : {df_random_forest[col].unique()}')"
   ]
  },
  {
   "cell_type": "code",
   "execution_count": 6,
   "id": "e9386df8-9741-4940-b464-d416610b3a84",
   "metadata": {
    "tags": []
   },
   "outputs": [],
   "source": [
    "df_random_forest.bootstrap = df_random_forest.bootstrap.astype(bool)"
   ]
  },
  {
   "cell_type": "code",
   "execution_count": 7,
   "id": "5ec65afc-9dad-4c51-8fe2-ff1ee3c038c2",
   "metadata": {
    "tags": []
   },
   "outputs": [
    {
     "data": {
      "text/plain": [
       "array([0.  , 0.01, 0.02, 0.05], dtype=float32)"
      ]
     },
     "execution_count": 7,
     "metadata": {},
     "output_type": "execute_result"
    }
   ],
   "source": [
    "df_random_forest.min_impurity_decrease = df_random_forest.min_impurity_decrease.astype(np.float32)\n",
    "df_random_forest.min_impurity_decrease.unique()"
   ]
  },
  {
   "cell_type": "code",
   "execution_count": 8,
   "id": "4abfc4c3-f81d-45bd-a190-273525a7c9c6",
   "metadata": {
    "tags": []
   },
   "outputs": [],
   "source": [
    "df_random_forest = df_random_forest.drop(columns=['ccp_alpha'])"
   ]
  },
  {
   "cell_type": "code",
   "execution_count": 9,
   "id": "19a663a5-d6bb-4338-9690-6b4f9f2f17fc",
   "metadata": {
    "tags": []
   },
   "outputs": [
    {
     "data": {
      "text/plain": [
       "array([ 1,  5, 20, 23,  4,  2,  3, 22, 45, 11, 18, 37,  6, 17,  9, 25, 32,\n",
       "       29, 39, 40, 48, 24, 13])"
      ]
     },
     "execution_count": 9,
     "metadata": {},
     "output_type": "execute_result"
    }
   ],
   "source": [
    "df_random_forest.min_samples_leaf = df_random_forest.min_samples_leaf.astype(np.int32)\n",
    "df_random_forest.min_samples_leaf.unique()"
   ]
  },
  {
   "cell_type": "code",
   "execution_count": 10,
   "id": "3184c1d3-00d8-4982-9869-4e94fe8b1712",
   "metadata": {
    "tags": []
   },
   "outputs": [
    {
     "data": {
      "text/plain": [
       "array([2, 3])"
      ]
     },
     "execution_count": 10,
     "metadata": {},
     "output_type": "execute_result"
    }
   ],
   "source": [
    "df_random_forest.min_samples_split = df_random_forest.min_samples_split.astype(np.int32)\n",
    "df_random_forest.min_samples_split.unique()"
   ]
  },
  {
   "cell_type": "code",
   "execution_count": 11,
   "id": "72f95f2e-ae8e-4b0c-b8a4-48addecbcb31",
   "metadata": {
    "tags": []
   },
   "outputs": [],
   "source": [
    "df_random_forest = df_random_forest.drop(columns=['min_weight_fraction_leaf'])"
   ]
  },
  {
   "cell_type": "code",
   "execution_count": 12,
   "id": "69450488-f7c8-493b-92ca-bfbb42679f82",
   "metadata": {
    "tags": []
   },
   "outputs": [
    {
     "data": {
      "text/plain": [
       "array([ 100,  757,  518,  944, 2894,  108,  615, 1260, 2717, 1896,   81,\n",
       "         46,  205, 1780, 1584,  138,  123,   33, 1133,  114,   18,  164,\n",
       "        130, 1157, 2190,   44, 1785,  418,  315,   12,   84, 2213,  221,\n",
       "         10,   63,   41,  213,  441, 2952,   20,  535,   58,   70,  543,\n",
       "         36,   69,   11, 1946,  779,  250])"
      ]
     },
     "execution_count": 12,
     "metadata": {},
     "output_type": "execute_result"
    }
   ],
   "source": [
    "df_random_forest.n_estimators = df_random_forest.n_estimators.astype(np.int32)\n",
    "df_random_forest.n_estimators.unique()"
   ]
  },
  {
   "cell_type": "code",
   "execution_count": 13,
   "id": "4292f959-d52b-42fd-a8f3-7910d7dece44",
   "metadata": {
    "tags": []
   },
   "outputs": [],
   "source": [
    "df_random_forest = df_random_forest.drop(columns=['oob_score', 'verbose', 'warm_start'])"
   ]
  },
  {
   "cell_type": "code",
   "execution_count": 30,
   "id": "7c526e0b-ed36-41ee-9905-f1ce2f2fc42a",
   "metadata": {
    "tags": []
   },
   "outputs": [
    {
     "data": {
      "text/html": [
       "<div>\n",
       "<style scoped>\n",
       "    .dataframe tbody tr th:only-of-type {\n",
       "        vertical-align: middle;\n",
       "    }\n",
       "\n",
       "    .dataframe tbody tr th {\n",
       "        vertical-align: top;\n",
       "    }\n",
       "\n",
       "    .dataframe thead th {\n",
       "        text-align: right;\n",
       "    }\n",
       "</style>\n",
       "<table border=\"1\" class=\"dataframe\">\n",
       "  <thead>\n",
       "    <tr style=\"text-align: right;\">\n",
       "      <th></th>\n",
       "      <th>val_accuracy</th>\n",
       "      <th>test_accuracy</th>\n",
       "      <th>train_accuracy</th>\n",
       "      <th>bootstrap</th>\n",
       "      <th>min_impurity_decrease</th>\n",
       "      <th>min_samples_leaf</th>\n",
       "      <th>min_samples_split</th>\n",
       "      <th>n_estimators</th>\n",
       "      <th>criterion_entropy</th>\n",
       "      <th>criterion_gini</th>\n",
       "      <th>...</th>\n",
       "      <th>max_features_0.1</th>\n",
       "      <th>max_features_0.2</th>\n",
       "      <th>max_features_0.3</th>\n",
       "      <th>max_features_0.4</th>\n",
       "      <th>max_features_0.6</th>\n",
       "      <th>max_features_0.7</th>\n",
       "      <th>max_features_0.8</th>\n",
       "      <th>max_features_0.9</th>\n",
       "      <th>max_features_log2</th>\n",
       "      <th>max_features_sqrt</th>\n",
       "    </tr>\n",
       "  </thead>\n",
       "  <tbody>\n",
       "    <tr>\n",
       "      <th>0</th>\n",
       "      <td>0.695980</td>\n",
       "      <td>0.700143</td>\n",
       "      <td>0.998278</td>\n",
       "      <td>True</td>\n",
       "      <td>0.0</td>\n",
       "      <td>1</td>\n",
       "      <td>2</td>\n",
       "      <td>100</td>\n",
       "      <td>False</td>\n",
       "      <td>True</td>\n",
       "      <td>...</td>\n",
       "      <td>False</td>\n",
       "      <td>False</td>\n",
       "      <td>False</td>\n",
       "      <td>False</td>\n",
       "      <td>False</td>\n",
       "      <td>False</td>\n",
       "      <td>False</td>\n",
       "      <td>False</td>\n",
       "      <td>False</td>\n",
       "      <td>True</td>\n",
       "    </tr>\n",
       "    <tr>\n",
       "      <th>1</th>\n",
       "      <td>0.694305</td>\n",
       "      <td>0.683286</td>\n",
       "      <td>0.983961</td>\n",
       "      <td>False</td>\n",
       "      <td>0.0</td>\n",
       "      <td>5</td>\n",
       "      <td>2</td>\n",
       "      <td>757</td>\n",
       "      <td>True</td>\n",
       "      <td>False</td>\n",
       "      <td>...</td>\n",
       "      <td>False</td>\n",
       "      <td>False</td>\n",
       "      <td>False</td>\n",
       "      <td>False</td>\n",
       "      <td>True</td>\n",
       "      <td>False</td>\n",
       "      <td>False</td>\n",
       "      <td>False</td>\n",
       "      <td>False</td>\n",
       "      <td>False</td>\n",
       "    </tr>\n",
       "    <tr>\n",
       "      <th>2</th>\n",
       "      <td>0.688442</td>\n",
       "      <td>0.695839</td>\n",
       "      <td>0.703660</td>\n",
       "      <td>True</td>\n",
       "      <td>0.0</td>\n",
       "      <td>20</td>\n",
       "      <td>2</td>\n",
       "      <td>518</td>\n",
       "      <td>True</td>\n",
       "      <td>False</td>\n",
       "      <td>...</td>\n",
       "      <td>False</td>\n",
       "      <td>False</td>\n",
       "      <td>False</td>\n",
       "      <td>False</td>\n",
       "      <td>False</td>\n",
       "      <td>False</td>\n",
       "      <td>False</td>\n",
       "      <td>False</td>\n",
       "      <td>False</td>\n",
       "      <td>False</td>\n",
       "    </tr>\n",
       "    <tr>\n",
       "      <th>3</th>\n",
       "      <td>0.680905</td>\n",
       "      <td>0.682927</td>\n",
       "      <td>0.695479</td>\n",
       "      <td>True</td>\n",
       "      <td>0.0</td>\n",
       "      <td>5</td>\n",
       "      <td>2</td>\n",
       "      <td>944</td>\n",
       "      <td>False</td>\n",
       "      <td>True</td>\n",
       "      <td>...</td>\n",
       "      <td>False</td>\n",
       "      <td>False</td>\n",
       "      <td>False</td>\n",
       "      <td>False</td>\n",
       "      <td>True</td>\n",
       "      <td>False</td>\n",
       "      <td>False</td>\n",
       "      <td>False</td>\n",
       "      <td>False</td>\n",
       "      <td>False</td>\n",
       "    </tr>\n",
       "    <tr>\n",
       "      <th>4</th>\n",
       "      <td>0.709380</td>\n",
       "      <td>0.710545</td>\n",
       "      <td>0.783531</td>\n",
       "      <td>False</td>\n",
       "      <td>0.0</td>\n",
       "      <td>23</td>\n",
       "      <td>2</td>\n",
       "      <td>2894</td>\n",
       "      <td>False</td>\n",
       "      <td>True</td>\n",
       "      <td>...</td>\n",
       "      <td>False</td>\n",
       "      <td>False</td>\n",
       "      <td>False</td>\n",
       "      <td>False</td>\n",
       "      <td>False</td>\n",
       "      <td>False</td>\n",
       "      <td>False</td>\n",
       "      <td>False</td>\n",
       "      <td>False</td>\n",
       "      <td>True</td>\n",
       "    </tr>\n",
       "    <tr>\n",
       "      <th>...</th>\n",
       "      <td>...</td>\n",
       "      <td>...</td>\n",
       "      <td>...</td>\n",
       "      <td>...</td>\n",
       "      <td>...</td>\n",
       "      <td>...</td>\n",
       "      <td>...</td>\n",
       "      <td>...</td>\n",
       "      <td>...</td>\n",
       "      <td>...</td>\n",
       "      <td>...</td>\n",
       "      <td>...</td>\n",
       "      <td>...</td>\n",
       "      <td>...</td>\n",
       "      <td>...</td>\n",
       "      <td>...</td>\n",
       "      <td>...</td>\n",
       "      <td>...</td>\n",
       "      <td>...</td>\n",
       "      <td>...</td>\n",
       "      <td>...</td>\n",
       "    </tr>\n",
       "    <tr>\n",
       "      <th>245</th>\n",
       "      <td>0.702680</td>\n",
       "      <td>0.682927</td>\n",
       "      <td>0.998278</td>\n",
       "      <td>False</td>\n",
       "      <td>0.0</td>\n",
       "      <td>1</td>\n",
       "      <td>2</td>\n",
       "      <td>70</td>\n",
       "      <td>False</td>\n",
       "      <td>True</td>\n",
       "      <td>...</td>\n",
       "      <td>False</td>\n",
       "      <td>False</td>\n",
       "      <td>False</td>\n",
       "      <td>False</td>\n",
       "      <td>True</td>\n",
       "      <td>False</td>\n",
       "      <td>False</td>\n",
       "      <td>False</td>\n",
       "      <td>False</td>\n",
       "      <td>False</td>\n",
       "    </tr>\n",
       "    <tr>\n",
       "      <th>246</th>\n",
       "      <td>0.695980</td>\n",
       "      <td>0.702654</td>\n",
       "      <td>0.820129</td>\n",
       "      <td>False</td>\n",
       "      <td>0.0</td>\n",
       "      <td>18</td>\n",
       "      <td>2</td>\n",
       "      <td>18</td>\n",
       "      <td>False</td>\n",
       "      <td>True</td>\n",
       "      <td>...</td>\n",
       "      <td>False</td>\n",
       "      <td>False</td>\n",
       "      <td>False</td>\n",
       "      <td>True</td>\n",
       "      <td>False</td>\n",
       "      <td>False</td>\n",
       "      <td>False</td>\n",
       "      <td>False</td>\n",
       "      <td>False</td>\n",
       "      <td>False</td>\n",
       "    </tr>\n",
       "    <tr>\n",
       "      <th>247</th>\n",
       "      <td>0.706030</td>\n",
       "      <td>0.706600</td>\n",
       "      <td>0.844349</td>\n",
       "      <td>True</td>\n",
       "      <td>0.0</td>\n",
       "      <td>11</td>\n",
       "      <td>2</td>\n",
       "      <td>2213</td>\n",
       "      <td>True</td>\n",
       "      <td>False</td>\n",
       "      <td>...</td>\n",
       "      <td>False</td>\n",
       "      <td>False</td>\n",
       "      <td>False</td>\n",
       "      <td>False</td>\n",
       "      <td>False</td>\n",
       "      <td>False</td>\n",
       "      <td>False</td>\n",
       "      <td>True</td>\n",
       "      <td>False</td>\n",
       "      <td>False</td>\n",
       "    </tr>\n",
       "    <tr>\n",
       "      <th>248</th>\n",
       "      <td>0.699330</td>\n",
       "      <td>0.703013</td>\n",
       "      <td>0.715178</td>\n",
       "      <td>False</td>\n",
       "      <td>0.0</td>\n",
       "      <td>29</td>\n",
       "      <td>2</td>\n",
       "      <td>63</td>\n",
       "      <td>False</td>\n",
       "      <td>True</td>\n",
       "      <td>...</td>\n",
       "      <td>False</td>\n",
       "      <td>False</td>\n",
       "      <td>False</td>\n",
       "      <td>False</td>\n",
       "      <td>False</td>\n",
       "      <td>False</td>\n",
       "      <td>False</td>\n",
       "      <td>False</td>\n",
       "      <td>False</td>\n",
       "      <td>True</td>\n",
       "    </tr>\n",
       "    <tr>\n",
       "      <th>249</th>\n",
       "      <td>0.705193</td>\n",
       "      <td>0.703013</td>\n",
       "      <td>0.722067</td>\n",
       "      <td>True</td>\n",
       "      <td>0.0</td>\n",
       "      <td>32</td>\n",
       "      <td>2</td>\n",
       "      <td>221</td>\n",
       "      <td>False</td>\n",
       "      <td>True</td>\n",
       "      <td>...</td>\n",
       "      <td>False</td>\n",
       "      <td>False</td>\n",
       "      <td>False</td>\n",
       "      <td>False</td>\n",
       "      <td>False</td>\n",
       "      <td>True</td>\n",
       "      <td>False</td>\n",
       "      <td>False</td>\n",
       "      <td>False</td>\n",
       "      <td>False</td>\n",
       "    </tr>\n",
       "  </tbody>\n",
       "</table>\n",
       "<p>250 rows × 23 columns</p>\n",
       "</div>"
      ],
      "text/plain": [
       "     val_accuracy  test_accuracy  train_accuracy  bootstrap  \\\n",
       "0        0.695980       0.700143        0.998278       True   \n",
       "1        0.694305       0.683286        0.983961      False   \n",
       "2        0.688442       0.695839        0.703660       True   \n",
       "3        0.680905       0.682927        0.695479       True   \n",
       "4        0.709380       0.710545        0.783531      False   \n",
       "..            ...            ...             ...        ...   \n",
       "245      0.702680       0.682927        0.998278      False   \n",
       "246      0.695980       0.702654        0.820129      False   \n",
       "247      0.706030       0.706600        0.844349       True   \n",
       "248      0.699330       0.703013        0.715178      False   \n",
       "249      0.705193       0.703013        0.722067       True   \n",
       "\n",
       "     min_impurity_decrease  min_samples_leaf  min_samples_split  n_estimators  \\\n",
       "0                      0.0                 1                  2           100   \n",
       "1                      0.0                 5                  2           757   \n",
       "2                      0.0                20                  2           518   \n",
       "3                      0.0                 5                  2           944   \n",
       "4                      0.0                23                  2          2894   \n",
       "..                     ...               ...                ...           ...   \n",
       "245                    0.0                 1                  2            70   \n",
       "246                    0.0                18                  2            18   \n",
       "247                    0.0                11                  2          2213   \n",
       "248                    0.0                29                  2            63   \n",
       "249                    0.0                32                  2           221   \n",
       "\n",
       "     criterion_entropy  criterion_gini  ...  max_features_0.1  \\\n",
       "0                False            True  ...             False   \n",
       "1                 True           False  ...             False   \n",
       "2                 True           False  ...             False   \n",
       "3                False            True  ...             False   \n",
       "4                False            True  ...             False   \n",
       "..                 ...             ...  ...               ...   \n",
       "245              False            True  ...             False   \n",
       "246              False            True  ...             False   \n",
       "247               True           False  ...             False   \n",
       "248              False            True  ...             False   \n",
       "249              False            True  ...             False   \n",
       "\n",
       "     max_features_0.2  max_features_0.3  max_features_0.4  max_features_0.6  \\\n",
       "0               False             False             False             False   \n",
       "1               False             False             False              True   \n",
       "2               False             False             False             False   \n",
       "3               False             False             False              True   \n",
       "4               False             False             False             False   \n",
       "..                ...               ...               ...               ...   \n",
       "245             False             False             False              True   \n",
       "246             False             False              True             False   \n",
       "247             False             False             False             False   \n",
       "248             False             False             False             False   \n",
       "249             False             False             False             False   \n",
       "\n",
       "     max_features_0.7  max_features_0.8  max_features_0.9  max_features_log2  \\\n",
       "0               False             False             False              False   \n",
       "1               False             False             False              False   \n",
       "2               False             False             False              False   \n",
       "3               False             False             False              False   \n",
       "4               False             False             False              False   \n",
       "..                ...               ...               ...                ...   \n",
       "245             False             False             False              False   \n",
       "246             False             False             False              False   \n",
       "247             False             False              True              False   \n",
       "248             False             False             False              False   \n",
       "249              True             False             False              False   \n",
       "\n",
       "     max_features_sqrt  \n",
       "0                 True  \n",
       "1                False  \n",
       "2                False  \n",
       "3                False  \n",
       "4                 True  \n",
       "..                 ...  \n",
       "245              False  \n",
       "246              False  \n",
       "247              False  \n",
       "248               True  \n",
       "249              False  \n",
       "\n",
       "[250 rows x 23 columns]"
      ]
     },
     "execution_count": 30,
     "metadata": {},
     "output_type": "execute_result"
    }
   ],
   "source": [
    "df_random_forest_1h_encoded = pd.get_dummies(df_random_forest)\n",
    "df_random_forest_1h_encoded"
   ]
  },
  {
   "cell_type": "code",
   "execution_count": 31,
   "id": "84349c98",
   "metadata": {
    "tags": []
   },
   "outputs": [
    {
     "data": {
      "text/plain": [
       "(51, 3)"
      ]
     },
     "execution_count": 23,
     "metadata": {},
     "output_type": "execute_result"
    }
   ],
   "source": [
    "grouped_df = df_random_forest_1h_encoded.groupby(df_random_forest_1h_encoded.columns[3:].tolist()).mean()\n",
    "grouped_df = grouped_df.reset_index()\n",
    "grouped_df"
   ]
  },
  {
   "cell_type": "code",
   "execution_count": 32,
   "id": "aba7f6fe-6d6a-4581-9f10-0462e4b0a802",
   "metadata": {
    "tags": []
   },
   "outputs": [
    {
     "data": {
      "text/plain": [
       "<Axes: >"
      ]
     },
     "execution_count": 32,
     "metadata": {},
     "output_type": "execute_result"
    },
    {
     "data": {
      "image/png": "[encoded data removed]",
      "text/plain": [
       "<Figure size 700x700 with 2 Axes>"
      ]
     },
     "metadata": {},
     "output_type": "display_data"
    }
   ],
   "source": [
    "plt.figure(figsize=(7, 7))\n",
    "sns.heatmap(grouped_df.corr(), annot=False, cmap='coolwarm', vmin=-1, vmax=1)"
   ]
  },
  {
   "cell_type": "code",
   "execution_count": 33,
   "id": "9b4b1cbd-71cc-4b1d-8b8a-d4d11fdddd83",
   "metadata": {
    "tags": []
   },
   "outputs": [],
   "source": [
    "model = LinearRegression()\n",
    "model.fit(grouped_df.drop(columns=['test_accuracy', 'train_accuracy', 'val_accuracy']), \n",
    "          grouped_df['test_accuracy'])\n",
    "\n",
    "coefficients = model.coef_\n",
    "\n",
    "# Normalize coefficients\n",
    "max_abs_coefficient = np.max(np.abs(coefficients))\n",
    "normalized_coefficients = coefficients / max_abs_coefficient\n",
    "\n",
    "# Create DataFrame for normalized coefficients\n",
    "feature_importance_df = pd.DataFrame({'Feature': grouped_df.columns[3:], 'Importance': np.abs(normalized_coefficients)})\n",
    "\n",
    "feature_importance_df = feature_importance_df.sort_values(by='Importance', ascending=False)\n",
    "feature_importance_df = feature_importance_df"
   ]
  },
  {
   "cell_type": "code",
   "execution_count": 34,
   "id": "5622b047-0b93-4179-bb3d-685b8b6d6716",
   "metadata": {
    "tags": []
   },
   "outputs": [
    {
     "data": {
      "text/html": [
       "<div>\n",
       "<style scoped>\n",
       "    .dataframe tbody tr th:only-of-type {\n",
       "        vertical-align: middle;\n",
       "    }\n",
       "\n",
       "    .dataframe tbody tr th {\n",
       "        vertical-align: top;\n",
       "    }\n",
       "\n",
       "    .dataframe thead th {\n",
       "        text-align: right;\n",
       "    }\n",
       "</style>\n",
       "<table border=\"1\" class=\"dataframe\">\n",
       "  <thead>\n",
       "    <tr style=\"text-align: right;\">\n",
       "      <th></th>\n",
       "      <th>Feature</th>\n",
       "      <th>Importance</th>\n",
       "    </tr>\n",
       "  </thead>\n",
       "  <tbody>\n",
       "    <tr>\n",
       "      <th>10</th>\n",
       "      <td>max_features_0.4</td>\n",
       "      <td>1.000000</td>\n",
       "    </tr>\n",
       "    <tr>\n",
       "      <th>1</th>\n",
       "      <td>n_estimators</td>\n",
       "      <td>0.843428</td>\n",
       "    </tr>\n",
       "    <tr>\n",
       "      <th>19</th>\n",
       "      <td>train_accuracy</td>\n",
       "      <td>0.656171</td>\n",
       "    </tr>\n",
       "    <tr>\n",
       "      <th>11</th>\n",
       "      <td>max_features_0.6</td>\n",
       "      <td>0.542523</td>\n",
       "    </tr>\n",
       "    <tr>\n",
       "      <th>16</th>\n",
       "      <td>max_features_sqrt</td>\n",
       "      <td>0.528682</td>\n",
       "    </tr>\n",
       "    <tr>\n",
       "      <th>17</th>\n",
       "      <td>val_accuracy</td>\n",
       "      <td>0.520332</td>\n",
       "    </tr>\n",
       "    <tr>\n",
       "      <th>18</th>\n",
       "      <td>test_accuracy</td>\n",
       "      <td>0.510151</td>\n",
       "    </tr>\n",
       "    <tr>\n",
       "      <th>12</th>\n",
       "      <td>max_features_0.7</td>\n",
       "      <td>0.489537</td>\n",
       "    </tr>\n",
       "    <tr>\n",
       "      <th>13</th>\n",
       "      <td>max_features_0.8</td>\n",
       "      <td>0.402441</td>\n",
       "    </tr>\n",
       "    <tr>\n",
       "      <th>9</th>\n",
       "      <td>max_features_0.3</td>\n",
       "      <td>0.375718</td>\n",
       "    </tr>\n",
       "    <tr>\n",
       "      <th>7</th>\n",
       "      <td>max_features_0.1</td>\n",
       "      <td>0.327907</td>\n",
       "    </tr>\n",
       "    <tr>\n",
       "      <th>14</th>\n",
       "      <td>max_features_0.9</td>\n",
       "      <td>0.293570</td>\n",
       "    </tr>\n",
       "    <tr>\n",
       "      <th>0</th>\n",
       "      <td>min_samples_split</td>\n",
       "      <td>0.271729</td>\n",
       "    </tr>\n",
       "    <tr>\n",
       "      <th>8</th>\n",
       "      <td>max_features_0.2</td>\n",
       "      <td>0.175037</td>\n",
       "    </tr>\n",
       "    <tr>\n",
       "      <th>15</th>\n",
       "      <td>max_features_log2</td>\n",
       "      <td>0.128624</td>\n",
       "    </tr>\n",
       "    <tr>\n",
       "      <th>3</th>\n",
       "      <td>criterion_gini</td>\n",
       "      <td>0.039007</td>\n",
       "    </tr>\n",
       "    <tr>\n",
       "      <th>5</th>\n",
       "      <td>max_depth_3</td>\n",
       "      <td>0.033414</td>\n",
       "    </tr>\n",
       "    <tr>\n",
       "      <th>6</th>\n",
       "      <td>max_depth_4</td>\n",
       "      <td>0.033414</td>\n",
       "    </tr>\n",
       "    <tr>\n",
       "      <th>2</th>\n",
       "      <td>criterion_entropy</td>\n",
       "      <td>0.016200</td>\n",
       "    </tr>\n",
       "    <tr>\n",
       "      <th>4</th>\n",
       "      <td>max_depth_2</td>\n",
       "      <td>0.000142</td>\n",
       "    </tr>\n",
       "  </tbody>\n",
       "</table>\n",
       "</div>"
      ],
      "text/plain": [
       "              Feature  Importance\n",
       "10   max_features_0.4    1.000000\n",
       "1        n_estimators    0.843428\n",
       "19     train_accuracy    0.656171\n",
       "11   max_features_0.6    0.542523\n",
       "16  max_features_sqrt    0.528682\n",
       "17       val_accuracy    0.520332\n",
       "18      test_accuracy    0.510151\n",
       "12   max_features_0.7    0.489537\n",
       "13   max_features_0.8    0.402441\n",
       "9    max_features_0.3    0.375718\n",
       "7    max_features_0.1    0.327907\n",
       "14   max_features_0.9    0.293570\n",
       "0   min_samples_split    0.271729\n",
       "8    max_features_0.2    0.175037\n",
       "15  max_features_log2    0.128624\n",
       "3      criterion_gini    0.039007\n",
       "5         max_depth_3    0.033414\n",
       "6         max_depth_4    0.033414\n",
       "2   criterion_entropy    0.016200\n",
       "4         max_depth_2    0.000142"
      ]
     },
     "execution_count": 34,
     "metadata": {},
     "output_type": "execute_result"
    }
   ],
   "source": [
    "feature_importance_df"
   ]
  },
  {
   "cell_type": "code",
   "execution_count": 35,
   "id": "145e4b6b-9a8e-48f2-b237-a1fee26f0f68",
   "metadata": {
    "tags": []
   },
   "outputs": [
    {
     "data": {
      "image/png": "[encoded data removed]",
      "text/plain": [
       "<Figure size 900x600 with 1 Axes>"
      ]
     },
     "metadata": {},
     "output_type": "display_data"
    }
   ],
   "source": [
    "plt.figure(figsize=(9, 6))\n",
    "sns.barplot(x='Importance', y='Feature', data=feature_importance_df, palette='coolwarm')\n",
    "plt.title('Feature Importance')\n",
    "plt.xlabel('Importance')\n",
    "plt.ylabel('Feature')\n",
    "plt.show()"
   ]
  },
  {
   "cell_type": "code",
   "execution_count": 36,
   "id": "87109bf6-891a-41e6-bd17-5d81ea391c8c",
   "metadata": {
    "tags": []
   },
   "outputs": [
    {
     "data": {
      "application/vnd.plotly.v1+json": {
       "config": {
        "plotlyServerURL": "https://plot.ly"
       },
       "data": [
        {
         "colorscale": [
          [
           0,
           "#440154"
          ],
          [
           0.1111111111111111,
           "#482878"
          ],
          [
           0.2222222222222222,
           "#3e4989"
          ],
          [
           0.3333333333333333,
           "#31688e"
          ],
          [
           0.4444444444444444,
           "#26828e"
          ],
          [
           0.5555555555555556,
           "#1f9e89"
          ],
          [
           0.6666666666666666,
           "#35b779"
          ],
          [
           0.7777777777777778,
           "#6ece58"
          ],
          [
           0.8888888888888888,
           "#b5de2b"
          ],
          [
           1,
           "#fde725"
          ]
         ],
         "type": "heatmap",
         "x": [
          "max_features_0.4",
          "n_estimators",
          "train_accuracy",
          "max_features_0.6",
          "max_features_sqrt",
          "val_accuracy",
          "test_accuracy",
          "max_features_0.7",
          "max_features_0.8",
          "max_features_0.3",
          "max_features_0.1",
          "max_features_0.9",
          "min_samples_split",
          "max_features_0.2",
          "max_features_log2",
          "criterion_gini",
          "max_depth_3",
          "max_depth_4",
          "criterion_entropy",
          "max_depth_2"
         ],
         "y": [
          "Importance"
         ],
         "z": [
          [
           1,
           0.8434281156194112,
           0.6561712735502382,
           0.5425227621518758,
           0.5286817994335801,
           0.5203318234834452,
           0.5101506403453381,
           0.48953688003180346,
           0.4024414334242352,
           0.3757184740293312,
           0.3279067880706876,
           0.2935698700615654,
           0.2717293787353375,
           0.1750372759155863,
           0.1286237419569705,
           0.03900657470688513,
           0.03341440654194406,
           0.033414406541940764,
           0.016199547891883322,
           0.00014240264581032682
          ]
         ]
        }
       ],
       "layout": {
        "autosize": true,
        "template": {
         "data": {
          "bar": [
           {
            "error_x": {
             "color": "#2a3f5f"
            },
            "error_y": {
             "color": "#2a3f5f"
            },
            "marker": {
             "line": {
              "color": "#E5ECF6",
              "width": 0.5
             },
             "pattern": {
              "fillmode": "overlay",
              "size": 10,
              "solidity": 0.2
             }
            },
            "type": "bar"
           }
          ],
          "barpolar": [
           {
            "marker": {
             "line": {
              "color": "#E5ECF6",
              "width": 0.5
             },
             "pattern": {
              "fillmode": "overlay",
              "size": 10,
              "solidity": 0.2
             }
            },
            "type": "barpolar"
           }
          ],
          "carpet": [
           {
            "aaxis": {
             "endlinecolor": "#2a3f5f",
             "gridcolor": "white",
             "linecolor": "white",
             "minorgridcolor": "white",
             "startlinecolor": "#2a3f5f"
            },
            "baxis": {
             "endlinecolor": "#2a3f5f",
             "gridcolor": "white",
             "linecolor": "white",
             "minorgridcolor": "white",
             "startlinecolor": "#2a3f5f"
            },
            "type": "carpet"
           }
          ],
          "choropleth": [
           {
            "colorbar": {
             "outlinewidth": 0,
             "ticks": ""
            },
            "type": "choropleth"
           }
          ],
          "contour": [
           {
            "colorbar": {
             "outlinewidth": 0,
             "ticks": ""
            },
            "colorscale": [
             [
              0,
              "#0d0887"
             ],
             [
              0.1111111111111111,
              "#46039f"
             ],
             [
              0.2222222222222222,
              "#7201a8"
             ],
             [
              0.3333333333333333,
              "#9c179e"
             ],
             [
              0.4444444444444444,
              "#bd3786"
             ],
             [
              0.5555555555555556,
              "#d8576b"
             ],
             [
              0.6666666666666666,
              "#ed7953"
             ],
             [
              0.7777777777777778,
              "#fb9f3a"
             ],
             [
              0.8888888888888888,
              "#fdca26"
             ],
             [
              1,
              "#f0f921"
             ]
            ],
            "type": "contour"
           }
          ],
          "contourcarpet": [
           {
            "colorbar": {
             "outlinewidth": 0,
             "ticks": ""
            },
            "type": "contourcarpet"
           }
          ],
          "heatmap": [
           {
            "colorbar": {
             "outlinewidth": 0,
             "ticks": ""
            },
            "colorscale": [
             [
              0,
              "#0d0887"
             ],
             [
              0.1111111111111111,
              "#46039f"
             ],
             [
              0.2222222222222222,
              "#7201a8"
             ],
             [
              0.3333333333333333,
              "#9c179e"
             ],
             [
              0.4444444444444444,
              "#bd3786"
             ],
             [
              0.5555555555555556,
              "#d8576b"
             ],
             [
              0.6666666666666666,
              "#ed7953"
             ],
             [
              0.7777777777777778,
              "#fb9f3a"
             ],
             [
              0.8888888888888888,
              "#fdca26"
             ],
             [
              1,
              "#f0f921"
             ]
            ],
            "type": "heatmap"
           }
          ],
          "heatmapgl": [
           {
            "colorbar": {
             "outlinewidth": 0,
             "ticks": ""
            },
            "colorscale": [
             [
              0,
              "#0d0887"
             ],
             [
              0.1111111111111111,
              "#46039f"
             ],
             [
              0.2222222222222222,
              "#7201a8"
             ],
             [
              0.3333333333333333,
              "#9c179e"
             ],
             [
              0.4444444444444444,
              "#bd3786"
             ],
             [
              0.5555555555555556,
              "#d8576b"
             ],
             [
              0.6666666666666666,
              "#ed7953"
             ],
             [
              0.7777777777777778,
              "#fb9f3a"
             ],
             [
              0.8888888888888888,
              "#fdca26"
             ],
             [
              1,
              "#f0f921"
             ]
            ],
            "type": "heatmapgl"
           }
          ],
          "histogram": [
           {
            "marker": {
             "pattern": {
              "fillmode": "overlay",
              "size": 10,
              "solidity": 0.2
             }
            },
            "type": "histogram"
           }
          ],
          "histogram2d": [
           {
            "colorbar": {
             "outlinewidth": 0,
             "ticks": ""
            },
            "colorscale": [
             [
              0,
              "#0d0887"
             ],
             [
              0.1111111111111111,
              "#46039f"
             ],
             [
              0.2222222222222222,
              "#7201a8"
             ],
             [
              0.3333333333333333,
              "#9c179e"
             ],
             [
              0.4444444444444444,
              "#bd3786"
             ],
             [
              0.5555555555555556,
              "#d8576b"
             ],
             [
              0.6666666666666666,
              "#ed7953"
             ],
             [
              0.7777777777777778,
              "#fb9f3a"
             ],
             [
              0.8888888888888888,
              "#fdca26"
             ],
             [
              1,
              "#f0f921"
             ]
            ],
            "type": "histogram2d"
           }
          ],
          "histogram2dcontour": [
           {
            "colorbar": {
             "outlinewidth": 0,
             "ticks": ""
            },
            "colorscale": [
             [
              0,
              "#0d0887"
             ],
             [
              0.1111111111111111,
              "#46039f"
             ],
             [
              0.2222222222222222,
              "#7201a8"
             ],
             [
              0.3333333333333333,
              "#9c179e"
             ],
             [
              0.4444444444444444,
              "#bd3786"
             ],
             [
              0.5555555555555556,
              "#d8576b"
             ],
             [
              0.6666666666666666,
              "#ed7953"
             ],
             [
              0.7777777777777778,
              "#fb9f3a"
             ],
             [
              0.8888888888888888,
              "#fdca26"
             ],
             [
              1,
              "#f0f921"
             ]
            ],
            "type": "histogram2dcontour"
           }
          ],
          "mesh3d": [
           {
            "colorbar": {
             "outlinewidth": 0,
             "ticks": ""
            },
            "type": "mesh3d"
           }
          ],
          "parcoords": [
           {
            "line": {
             "colorbar": {
              "outlinewidth": 0,
              "ticks": ""
             }
            },
            "type": "parcoords"
           }
          ],
          "pie": [
           {
            "automargin": true,
            "type": "pie"
           }
          ],
          "scatter": [
           {
            "fillpattern": {
             "fillmode": "overlay",
             "size": 10,
             "solidity": 0.2
            },
            "type": "scatter"
           }
          ],
          "scatter3d": [
           {
            "line": {
             "colorbar": {
              "outlinewidth": 0,
              "ticks": ""
             }
            },
            "marker": {
             "colorbar": {
              "outlinewidth": 0,
              "ticks": ""
             }
            },
            "type": "scatter3d"
           }
          ],
          "scattercarpet": [
           {
            "marker": {
             "colorbar": {
              "outlinewidth": 0,
              "ticks": ""
             }
            },
            "type": "scattercarpet"
           }
          ],
          "scattergeo": [
           {
            "marker": {
             "colorbar": {
              "outlinewidth": 0,
              "ticks": ""
             }
            },
            "type": "scattergeo"
           }
          ],
          "scattergl": [
           {
            "marker": {
             "colorbar": {
              "outlinewidth": 0,
              "ticks": ""
             }
            },
            "type": "scattergl"
           }
          ],
          "scattermapbox": [
           {
            "marker": {
             "colorbar": {
              "outlinewidth": 0,
              "ticks": ""
             }
            },
            "type": "scattermapbox"
           }
          ],
          "scatterpolar": [
           {
            "marker": {
             "colorbar": {
              "outlinewidth": 0,
              "ticks": ""
             }
            },
            "type": "scatterpolar"
           }
          ],
          "scatterpolargl": [
           {
            "marker": {
             "colorbar": {
              "outlinewidth": 0,
              "ticks": ""
             }
            },
            "type": "scatterpolargl"
           }
          ],
          "scatterternary": [
           {
            "marker": {
             "colorbar": {
              "outlinewidth": 0,
              "ticks": ""
             }
            },
            "type": "scatterternary"
           }
          ],
          "surface": [
           {
            "colorbar": {
             "outlinewidth": 0,
             "ticks": ""
            },
            "colorscale": [
             [
              0,
              "#0d0887"
             ],
             [
              0.1111111111111111,
              "#46039f"
             ],
             [
              0.2222222222222222,
              "#7201a8"
             ],
             [
              0.3333333333333333,
              "#9c179e"
             ],
             [
              0.4444444444444444,
              "#bd3786"
             ],
             [
              0.5555555555555556,
              "#d8576b"
             ],
             [
              0.6666666666666666,
              "#ed7953"
             ],
             [
              0.7777777777777778,
              "#fb9f3a"
             ],
             [
              0.8888888888888888,
              "#fdca26"
             ],
             [
              1,
              "#f0f921"
             ]
            ],
            "type": "surface"
           }
          ],
          "table": [
           {
            "cells": {
             "fill": {
              "color": "#EBF0F8"
             },
             "line": {
              "color": "white"
             }
            },
            "header": {
             "fill": {
              "color": "#C8D4E3"
             },
             "line": {
              "color": "white"
             }
            },
            "type": "table"
           }
          ]
         },
         "layout": {
          "annotationdefaults": {
           "arrowcolor": "#2a3f5f",
           "arrowhead": 0,
           "arrowwidth": 1
          },
          "autotypenumbers": "strict",
          "coloraxis": {
           "colorbar": {
            "outlinewidth": 0,
            "ticks": ""
           }
          },
          "colorscale": {
           "diverging": [
            [
             0,
             "#8e0152"
            ],
            [
             0.1,
             "#c51b7d"
            ],
            [
             0.2,
             "#de77ae"
            ],
            [
             0.3,
             "#f1b6da"
            ],
            [
             0.4,
             "#fde0ef"
            ],
            [
             0.5,
             "#f7f7f7"
            ],
            [
             0.6,
             "#e6f5d0"
            ],
            [
             0.7,
             "#b8e186"
            ],
            [
             0.8,
             "#7fbc41"
            ],
            [
             0.9,
             "#4d9221"
            ],
            [
             1,
             "#276419"
            ]
           ],
           "sequential": [
            [
             0,
             "#0d0887"
            ],
            [
             0.1111111111111111,
             "#46039f"
            ],
            [
             0.2222222222222222,
             "#7201a8"
            ],
            [
             0.3333333333333333,
             "#9c179e"
            ],
            [
             0.4444444444444444,
             "#bd3786"
            ],
            [
             0.5555555555555556,
             "#d8576b"
            ],
            [
             0.6666666666666666,
             "#ed7953"
            ],
            [
             0.7777777777777778,
             "#fb9f3a"
            ],
            [
             0.8888888888888888,
             "#fdca26"
            ],
            [
             1,
             "#f0f921"
            ]
           ],
           "sequentialminus": [
            [
             0,
             "#0d0887"
            ],
            [
             0.1111111111111111,
             "#46039f"
            ],
            [
             0.2222222222222222,
             "#7201a8"
            ],
            [
             0.3333333333333333,
             "#9c179e"
            ],
            [
             0.4444444444444444,
             "#bd3786"
            ],
            [
             0.5555555555555556,
             "#d8576b"
            ],
            [
             0.6666666666666666,
             "#ed7953"
            ],
            [
             0.7777777777777778,
             "#fb9f3a"
            ],
            [
             0.8888888888888888,
             "#fdca26"
            ],
            [
             1,
             "#f0f921"
            ]
           ]
          },
          "colorway": [
           "#636efa",
           "#EF553B",
           "#00cc96",
           "#ab63fa",
           "#FFA15A",
           "#19d3f3",
           "#FF6692",
           "#B6E880",
           "#FF97FF",
           "#FECB52"
          ],
          "font": {
           "color": "#2a3f5f"
          },
          "geo": {
           "bgcolor": "white",
           "lakecolor": "white",
           "landcolor": "#E5ECF6",
           "showlakes": true,
           "showland": true,
           "subunitcolor": "white"
          },
          "hoverlabel": {
           "align": "left"
          },
          "hovermode": "closest",
          "mapbox": {
           "style": "light"
          },
          "paper_bgcolor": "white",
          "plot_bgcolor": "#E5ECF6",
          "polar": {
           "angularaxis": {
            "gridcolor": "white",
            "linecolor": "white",
            "ticks": ""
           },
           "bgcolor": "#E5ECF6",
           "radialaxis": {
            "gridcolor": "white",
            "linecolor": "white",
            "ticks": ""
           }
          },
          "scene": {
           "xaxis": {
            "backgroundcolor": "#E5ECF6",
            "gridcolor": "white",
            "gridwidth": 2,
            "linecolor": "white",
            "showbackground": true,
            "ticks": "",
            "zerolinecolor": "white"
           },
           "yaxis": {
            "backgroundcolor": "#E5ECF6",
            "gridcolor": "white",
            "gridwidth": 2,
            "linecolor": "white",
            "showbackground": true,
            "ticks": "",
            "zerolinecolor": "white"
           },
           "zaxis": {
            "backgroundcolor": "#E5ECF6",
            "gridcolor": "white",
            "gridwidth": 2,
            "linecolor": "white",
            "showbackground": true,
            "ticks": "",
            "zerolinecolor": "white"
           }
          },
          "shapedefaults": {
           "line": {
            "color": "#2a3f5f"
           }
          },
          "ternary": {
           "aaxis": {
            "gridcolor": "white",
            "linecolor": "white",
            "ticks": ""
           },
           "baxis": {
            "gridcolor": "white",
            "linecolor": "white",
            "ticks": ""
           },
           "bgcolor": "#E5ECF6",
           "caxis": {
            "gridcolor": "white",
            "linecolor": "white",
            "ticks": ""
           }
          },
          "title": {
           "x": 0.05
          },
          "xaxis": {
           "automargin": true,
           "gridcolor": "white",
           "linecolor": "white",
           "ticks": "",
           "title": {
            "standoff": 15
           },
           "zerolinecolor": "white",
           "zerolinewidth": 2
          },
          "yaxis": {
           "automargin": true,
           "gridcolor": "white",
           "linecolor": "white",
           "ticks": "",
           "title": {
            "standoff": 15
           },
           "zerolinecolor": "white",
           "zerolinewidth": 2
          }
         }
        },
        "title": {
         "text": "Heatmap of Feature Importance"
        },
        "xaxis": {
         "autorange": true,
         "nticks": 36,
         "range": [
          -0.5,
          19.5
         ],
         "type": "category"
        },
        "yaxis": {
         "autorange": true,
         "range": [
          -0.5,
          0.5
         ],
         "type": "category"
        }
       }
      },
      "image/png": "[encoded data removed]",
      "text/html": [
       "<div>                            <div id=\"57ca182d-92e9-4a99-9e54-e53c3573305e\" class=\"plotly-graph-div\" style=\"height:525px; width:100%;\"></div>            <script type=\"text/javascript\">                require([\"plotly\"], function(Plotly) {                    window.PLOTLYENV=window.PLOTLYENV || {};                                    if (document.getElementById(\"57ca182d-92e9-4a99-9e54-e53c3573305e\")) {                    Plotly.newPlot(                        \"57ca182d-92e9-4a99-9e54-e53c3573305e\",                        [{\"colorscale\":[[0.0,\"#440154\"],[0.1111111111111111,\"#482878\"],[0.2222222222222222,\"#3e4989\"],[0.3333333333333333,\"#31688e\"],[0.4444444444444444,\"#26828e\"],[0.5555555555555556,\"#1f9e89\"],[0.6666666666666666,\"#35b779\"],[0.7777777777777778,\"#6ece58\"],[0.8888888888888888,\"#b5de2b\"],[1.0,\"#fde725\"]],\"x\":[\"max_features_0.4\",\"n_estimators\",\"train_accuracy\",\"max_features_0.6\",\"max_features_sqrt\",\"val_accuracy\",\"test_accuracy\",\"max_features_0.7\",\"max_features_0.8\",\"max_features_0.3\",\"max_features_0.1\",\"max_features_0.9\",\"min_samples_split\",\"max_features_0.2\",\"max_features_log2\",\"criterion_gini\",\"max_depth_3\",\"max_depth_4\",\"criterion_entropy\",\"max_depth_2\"],\"y\":[\"Importance\"],\"z\":[[1.0,0.8434281156194112,0.6561712735502382,0.5425227621518758,0.5286817994335801,0.5203318234834452,0.5101506403453381,0.48953688003180346,0.4024414334242352,0.3757184740293312,0.3279067880706876,0.2935698700615654,0.2717293787353375,0.1750372759155863,0.1286237419569705,0.03900657470688513,0.03341440654194406,0.033414406541940764,0.016199547891883322,0.00014240264581032682]],\"type\":\"heatmap\"}],                        {\"template\":{\"data\":{\"histogram2dcontour\":[{\"type\":\"histogram2dcontour\",\"colorbar\":{\"outlinewidth\":0,\"ticks\":\"\"},\"colorscale\":[[0.0,\"#0d0887\"],[0.1111111111111111,\"#46039f\"],[0.2222222222222222,\"#7201a8\"],[0.3333333333333333,\"#9c179e\"],[0.4444444444444444,\"#bd3786\"],[0.5555555555555556,\"#d8576b\"],[0.6666666666666666,\"#ed7953\"],[0.7777777777777778,\"#fb9f3a\"],[0.8888888888888888,\"#fdca26\"],[1.0,\"#f0f921\"]]}],\"choropleth\":[{\"type\":\"choropleth\",\"colorbar\":{\"outlinewidth\":0,\"ticks\":\"\"}}],\"histogram2d\":[{\"type\":\"histogram2d\",\"colorbar\":{\"outlinewidth\":0,\"ticks\":\"\"},\"colorscale\":[[0.0,\"#0d0887\"],[0.1111111111111111,\"#46039f\"],[0.2222222222222222,\"#7201a8\"],[0.3333333333333333,\"#9c179e\"],[0.4444444444444444,\"#bd3786\"],[0.5555555555555556,\"#d8576b\"],[0.6666666666666666,\"#ed7953\"],[0.7777777777777778,\"#fb9f3a\"],[0.8888888888888888,\"#fdca26\"],[1.0,\"#f0f921\"]]}],\"heatmap\":[{\"type\":\"heatmap\",\"colorbar\":{\"outlinewidth\":0,\"ticks\":\"\"},\"colorscale\":[[0.0,\"#0d0887\"],[0.1111111111111111,\"#46039f\"],[0.2222222222222222,\"#7201a8\"],[0.3333333333333333,\"#9c179e\"],[0.4444444444444444,\"#bd3786\"],[0.5555555555555556,\"#d8576b\"],[0.6666666666666666,\"#ed7953\"],[0.7777777777777778,\"#fb9f3a\"],[0.8888888888888888,\"#fdca26\"],[1.0,\"#f0f921\"]]}],\"heatmapgl\":[{\"type\":\"heatmapgl\",\"colorbar\":{\"outlinewidth\":0,\"ticks\":\"\"},\"colorscale\":[[0.0,\"#0d0887\"],[0.1111111111111111,\"#46039f\"],[0.2222222222222222,\"#7201a8\"],[0.3333333333333333,\"#9c179e\"],[0.4444444444444444,\"#bd3786\"],[0.5555555555555556,\"#d8576b\"],[0.6666666666666666,\"#ed7953\"],[0.7777777777777778,\"#fb9f3a\"],[0.8888888888888888,\"#fdca26\"],[1.0,\"#f0f921\"]]}],\"contourcarpet\":[{\"type\":\"contourcarpet\",\"colorbar\":{\"outlinewidth\":0,\"ticks\":\"\"}}],\"contour\":[{\"type\":\"contour\",\"colorbar\":{\"outlinewidth\":0,\"ticks\":\"\"},\"colorscale\":[[0.0,\"#0d0887\"],[0.1111111111111111,\"#46039f\"],[0.2222222222222222,\"#7201a8\"],[0.3333333333333333,\"#9c179e\"],[0.4444444444444444,\"#bd3786\"],[0.5555555555555556,\"#d8576b\"],[0.6666666666666666,\"#ed7953\"],[0.7777777777777778,\"#fb9f3a\"],[0.8888888888888888,\"#fdca26\"],[1.0,\"#f0f921\"]]}],\"surface\":[{\"type\":\"surface\",\"colorbar\":{\"outlinewidth\":0,\"ticks\":\"\"},\"colorscale\":[[0.0,\"#0d0887\"],[0.1111111111111111,\"#46039f\"],[0.2222222222222222,\"#7201a8\"],[0.3333333333333333,\"#9c179e\"],[0.4444444444444444,\"#bd3786\"],[0.5555555555555556,\"#d8576b\"],[0.6666666666666666,\"#ed7953\"],[0.7777777777777778,\"#fb9f3a\"],[0.8888888888888888,\"#fdca26\"],[1.0,\"#f0f921\"]]}],\"mesh3d\":[{\"type\":\"mesh3d\",\"colorbar\":{\"outlinewidth\":0,\"ticks\":\"\"}}],\"scatter\":[{\"fillpattern\":{\"fillmode\":\"overlay\",\"size\":10,\"solidity\":0.2},\"type\":\"scatter\"}],\"parcoords\":[{\"type\":\"parcoords\",\"line\":{\"colorbar\":{\"outlinewidth\":0,\"ticks\":\"\"}}}],\"scatterpolargl\":[{\"type\":\"scatterpolargl\",\"marker\":{\"colorbar\":{\"outlinewidth\":0,\"ticks\":\"\"}}}],\"bar\":[{\"error_x\":{\"color\":\"#2a3f5f\"},\"error_y\":{\"color\":\"#2a3f5f\"},\"marker\":{\"line\":{\"color\":\"#E5ECF6\",\"width\":0.5},\"pattern\":{\"fillmode\":\"overlay\",\"size\":10,\"solidity\":0.2}},\"type\":\"bar\"}],\"scattergeo\":[{\"type\":\"scattergeo\",\"marker\":{\"colorbar\":{\"outlinewidth\":0,\"ticks\":\"\"}}}],\"scatterpolar\":[{\"type\":\"scatterpolar\",\"marker\":{\"colorbar\":{\"outlinewidth\":0,\"ticks\":\"\"}}}],\"histogram\":[{\"marker\":{\"pattern\":{\"fillmode\":\"overlay\",\"size\":10,\"solidity\":0.2}},\"type\":\"histogram\"}],\"scattergl\":[{\"type\":\"scattergl\",\"marker\":{\"colorbar\":{\"outlinewidth\":0,\"ticks\":\"\"}}}],\"scatter3d\":[{\"type\":\"scatter3d\",\"line\":{\"colorbar\":{\"outlinewidth\":0,\"ticks\":\"\"}},\"marker\":{\"colorbar\":{\"outlinewidth\":0,\"ticks\":\"\"}}}],\"scattermapbox\":[{\"type\":\"scattermapbox\",\"marker\":{\"colorbar\":{\"outlinewidth\":0,\"ticks\":\"\"}}}],\"scatterternary\":[{\"type\":\"scatterternary\",\"marker\":{\"colorbar\":{\"outlinewidth\":0,\"ticks\":\"\"}}}],\"scattercarpet\":[{\"type\":\"scattercarpet\",\"marker\":{\"colorbar\":{\"outlinewidth\":0,\"ticks\":\"\"}}}],\"carpet\":[{\"aaxis\":{\"endlinecolor\":\"#2a3f5f\",\"gridcolor\":\"white\",\"linecolor\":\"white\",\"minorgridcolor\":\"white\",\"startlinecolor\":\"#2a3f5f\"},\"baxis\":{\"endlinecolor\":\"#2a3f5f\",\"gridcolor\":\"white\",\"linecolor\":\"white\",\"minorgridcolor\":\"white\",\"startlinecolor\":\"#2a3f5f\"},\"type\":\"carpet\"}],\"table\":[{\"cells\":{\"fill\":{\"color\":\"#EBF0F8\"},\"line\":{\"color\":\"white\"}},\"header\":{\"fill\":{\"color\":\"#C8D4E3\"},\"line\":{\"color\":\"white\"}},\"type\":\"table\"}],\"barpolar\":[{\"marker\":{\"line\":{\"color\":\"#E5ECF6\",\"width\":0.5},\"pattern\":{\"fillmode\":\"overlay\",\"size\":10,\"solidity\":0.2}},\"type\":\"barpolar\"}],\"pie\":[{\"automargin\":true,\"type\":\"pie\"}]},\"layout\":{\"autotypenumbers\":\"strict\",\"colorway\":[\"#636efa\",\"#EF553B\",\"#00cc96\",\"#ab63fa\",\"#FFA15A\",\"#19d3f3\",\"#FF6692\",\"#B6E880\",\"#FF97FF\",\"#FECB52\"],\"font\":{\"color\":\"#2a3f5f\"},\"hovermode\":\"closest\",\"hoverlabel\":{\"align\":\"left\"},\"paper_bgcolor\":\"white\",\"plot_bgcolor\":\"#E5ECF6\",\"polar\":{\"bgcolor\":\"#E5ECF6\",\"angularaxis\":{\"gridcolor\":\"white\",\"linecolor\":\"white\",\"ticks\":\"\"},\"radialaxis\":{\"gridcolor\":\"white\",\"linecolor\":\"white\",\"ticks\":\"\"}},\"ternary\":{\"bgcolor\":\"#E5ECF6\",\"aaxis\":{\"gridcolor\":\"white\",\"linecolor\":\"white\",\"ticks\":\"\"},\"baxis\":{\"gridcolor\":\"white\",\"linecolor\":\"white\",\"ticks\":\"\"},\"caxis\":{\"gridcolor\":\"white\",\"linecolor\":\"white\",\"ticks\":\"\"}},\"coloraxis\":{\"colorbar\":{\"outlinewidth\":0,\"ticks\":\"\"}},\"colorscale\":{\"sequential\":[[0.0,\"#0d0887\"],[0.1111111111111111,\"#46039f\"],[0.2222222222222222,\"#7201a8\"],[0.3333333333333333,\"#9c179e\"],[0.4444444444444444,\"#bd3786\"],[0.5555555555555556,\"#d8576b\"],[0.6666666666666666,\"#ed7953\"],[0.7777777777777778,\"#fb9f3a\"],[0.8888888888888888,\"#fdca26\"],[1.0,\"#f0f921\"]],\"sequentialminus\":[[0.0,\"#0d0887\"],[0.1111111111111111,\"#46039f\"],[0.2222222222222222,\"#7201a8\"],[0.3333333333333333,\"#9c179e\"],[0.4444444444444444,\"#bd3786\"],[0.5555555555555556,\"#d8576b\"],[0.6666666666666666,\"#ed7953\"],[0.7777777777777778,\"#fb9f3a\"],[0.8888888888888888,\"#fdca26\"],[1.0,\"#f0f921\"]],\"diverging\":[[0,\"#8e0152\"],[0.1,\"#c51b7d\"],[0.2,\"#de77ae\"],[0.3,\"#f1b6da\"],[0.4,\"#fde0ef\"],[0.5,\"#f7f7f7\"],[0.6,\"#e6f5d0\"],[0.7,\"#b8e186\"],[0.8,\"#7fbc41\"],[0.9,\"#4d9221\"],[1,\"#276419\"]]},\"xaxis\":{\"gridcolor\":\"white\",\"linecolor\":\"white\",\"ticks\":\"\",\"title\":{\"standoff\":15},\"zerolinecolor\":\"white\",\"automargin\":true,\"zerolinewidth\":2},\"yaxis\":{\"gridcolor\":\"white\",\"linecolor\":\"white\",\"ticks\":\"\",\"title\":{\"standoff\":15},\"zerolinecolor\":\"white\",\"automargin\":true,\"zerolinewidth\":2},\"scene\":{\"xaxis\":{\"backgroundcolor\":\"#E5ECF6\",\"gridcolor\":\"white\",\"linecolor\":\"white\",\"showbackground\":true,\"ticks\":\"\",\"zerolinecolor\":\"white\",\"gridwidth\":2},\"yaxis\":{\"backgroundcolor\":\"#E5ECF6\",\"gridcolor\":\"white\",\"linecolor\":\"white\",\"showbackground\":true,\"ticks\":\"\",\"zerolinecolor\":\"white\",\"gridwidth\":2},\"zaxis\":{\"backgroundcolor\":\"#E5ECF6\",\"gridcolor\":\"white\",\"linecolor\":\"white\",\"showbackground\":true,\"ticks\":\"\",\"zerolinecolor\":\"white\",\"gridwidth\":2}},\"shapedefaults\":{\"line\":{\"color\":\"#2a3f5f\"}},\"annotationdefaults\":{\"arrowcolor\":\"#2a3f5f\",\"arrowhead\":0,\"arrowwidth\":1},\"geo\":{\"bgcolor\":\"white\",\"landcolor\":\"#E5ECF6\",\"subunitcolor\":\"white\",\"showland\":true,\"showlakes\":true,\"lakecolor\":\"white\"},\"title\":{\"x\":0.05},\"mapbox\":{\"style\":\"light\"}}},\"xaxis\":{\"nticks\":36},\"title\":{\"text\":\"Heatmap of Feature Importance\"}},                        {\"responsive\": true}                    ).then(function(){\n",
       "                            \n",
       "var gd = document.getElementById('57ca182d-92e9-4a99-9e54-e53c3573305e');\n",
       "var x = new MutationObserver(function (mutations, observer) {{\n",
       "        var display = window.getComputedStyle(gd).display;\n",
       "        if (!display || display === 'none') {{\n",
       "            console.log([gd, 'removed!']);\n",
       "            Plotly.purge(gd);\n",
       "            observer.disconnect();\n",
       "        }}\n",
       "}});\n",
       "\n",
       "// Listen for the removal of the full notebook cells\n",
       "var notebookContainer = gd.closest('#notebook-container');\n",
       "if (notebookContainer) {{\n",
       "    x.observe(notebookContainer, {childList: true});\n",
       "}}\n",
       "\n",
       "// Listen for the clearing of the current output cell\n",
       "var outputEl = gd.closest('.output');\n",
       "if (outputEl) {{\n",
       "    x.observe(outputEl, {childList: true});\n",
       "}}\n",
       "\n",
       "                        })                };                });            </script>        </div>"
      ]
     },
     "metadata": {},
     "output_type": "display_data"
    }
   ],
   "source": [
    "\n",
    "heatmap_data = feature_importance_df.set_index('Feature').T\n",
    "\n",
    "fig = go.Figure(data=go.Heatmap(\n",
    "    z=heatmap_data.values,\n",
    "    x=heatmap_data.columns,\n",
    "    y=heatmap_data.index,\n",
    "    colorscale='Viridis'))\n",
    "\n",
    "fig.update_layout(\n",
    "    title='Heatmap of Feature Importance',\n",
    "    xaxis_nticks=36)\n",
    "\n",
    "fig.show()"
   ]
  },
  {
   "cell_type": "code",
   "execution_count": 44,
   "id": "9b1734d4-7653-40a1-b56a-1fe7f0ac4fe9",
   "metadata": {
    "tags": []
   },
   "outputs": [
    {
     "data": {
      "application/vnd.plotly.v1+json": {
       "config": {
        "plotlyServerURL": "https://plot.ly"
       },
       "data": [
        {
         "dimensions": [
          {
           "label": "min_impurity_decrease",
           "values": [
            0,
            0,
            0,
            0,
            0,
            0,
            0,
            0,
            0,
            0,
            0,
            0,
            0,
            0,
            0,
            0,
            0,
            0,
            0,
            0,
            0.009999999776482582,
            0.019999999552965164,
            0.019999999552965164,
            0.05000000074505806,
            0,
            0,
            0,
            0,
            0,
            0,
            0,
            0,
            0,
            0,
            0,
            0,
            0,
            0,
            0,
            0,
            0,
            0,
            0,
            0,
            0,
            0,
            0,
            0,
            0.009999999776482582,
            0.009999999776482582,
            0.009999999776482582
           ]
          },
          {
           "label": "min_samples_leaf",
           "values": [
            1,
            2,
            2,
            2,
            2,
            3,
            3,
            3,
            3,
            4,
            5,
            5,
            5,
            11,
            11,
            18,
            23,
            25,
            29,
            37,
            2,
            1,
            6,
            2,
            1,
            1,
            2,
            2,
            2,
            2,
            3,
            3,
            5,
            6,
            9,
            11,
            11,
            11,
            13,
            17,
            20,
            22,
            24,
            32,
            39,
            40,
            45,
            48,
            1,
            3,
            13
           ]
          },
          {
           "label": "min_samples_split",
           "values": [
            2,
            2,
            2,
            3,
            3,
            2,
            2,
            2,
            3,
            2,
            2,
            2,
            2,
            2,
            2,
            2,
            2,
            2,
            2,
            2,
            2,
            2,
            2,
            2,
            2,
            2,
            2,
            2,
            2,
            2,
            2,
            2,
            2,
            2,
            3,
            2,
            2,
            2,
            2,
            2,
            2,
            2,
            2,
            2,
            2,
            2,
            2,
            3,
            2,
            2,
            2
           ]
          },
          {
           "label": "n_estimators",
           "values": [
            70,
            44,
            205,
            81,
            615,
            46,
            81,
            1260,
            1785,
            108,
            20,
            36,
            757,
            69,
            1133,
            18,
            2894,
            84,
            63,
            164,
            33,
            114,
            41,
            441,
            100,
            250,
            12,
            418,
            543,
            1157,
            10,
            2717,
            944,
            130,
            315,
            123,
            1584,
            2213,
            779,
            2190,
            518,
            1896,
            11,
            221,
            213,
            2952,
            1780,
            58,
            535,
            138,
            1946
           ]
          },
          {
           "label": "test_accuracy",
           "values": [
            0.6785329985652798,
            0.6885939741750359,
            0.6752510760401722,
            0.680416068866571,
            0.6976327116212339,
            0.6954806312769011,
            0.7026542324246772,
            0.7021520803443329,
            0.694906743185079,
            0.6536585365853659,
            0.6938307030129125,
            0.6934720229555237,
            0.6841463414634147,
            0.7064562410329985,
            0.6938307030129125,
            0.7038020086083214,
            0.7088952654232424,
            0.7012912482065997,
            0.7032998565279771,
            0.7012912482065997,
            0.6961979913916786,
            0.6941176470588235,
            0.6934720229555237,
            0.6934720229555237,
            0.6952654232424678,
            0.7006814921090387,
            0.6977223816355811,
            0.7037302725968436,
            0.7021520803443329,
            0.6933285509325682,
            0.6868723098995696,
            0.7011477761836442,
            0.6827833572453372,
            0.6779053084648493,
            0.7047345767575323,
            0.7038737446197991,
            0.7065279770444763,
            0.7051649928263989,
            0.7092539454806313,
            0.7093974175035868,
            0.694906743185079,
            0.7103299856527977,
            0.7073888091822095,
            0.702116212338594,
            0.7117109038737446,
            0.7137733142037302,
            0.7141319942611191,
            0.710545193687231,
            0.6997847919655668,
            0.6923959827833572,
            0.6786226685796269
           ]
          }
         ],
         "domain": {
          "x": [
           0,
           1
          ],
          "y": [
           0,
           1
          ]
         },
         "line": {
          "color": [
           0.6785329985652798,
           0.6885939741750359,
           0.6752510760401722,
           0.680416068866571,
           0.6976327116212339,
           0.6954806312769011,
           0.7026542324246772,
           0.7021520803443329,
           0.694906743185079,
           0.6536585365853659,
           0.6938307030129125,
           0.6934720229555237,
           0.6841463414634147,
           0.7064562410329985,
           0.6938307030129125,
           0.7038020086083214,
           0.7088952654232424,
           0.7012912482065997,
           0.7032998565279771,
           0.7012912482065997,
           0.6961979913916786,
           0.6941176470588235,
           0.6934720229555237,
           0.6934720229555237,
           0.6952654232424678,
           0.7006814921090387,
           0.6977223816355811,
           0.7037302725968436,
           0.7021520803443329,
           0.6933285509325682,
           0.6868723098995696,
           0.7011477761836442,
           0.6827833572453372,
           0.6779053084648493,
           0.7047345767575323,
           0.7038737446197991,
           0.7065279770444763,
           0.7051649928263989,
           0.7092539454806313,
           0.7093974175035868,
           0.694906743185079,
           0.7103299856527977,
           0.7073888091822095,
           0.702116212338594,
           0.7117109038737446,
           0.7137733142037302,
           0.7141319942611191,
           0.710545193687231,
           0.6997847919655668,
           0.6923959827833572,
           0.6786226685796269
          ],
          "coloraxis": "coloraxis"
         },
         "name": "",
         "type": "parcoords"
        }
       ],
       "layout": {
        "coloraxis": {
         "colorbar": {
          "title": {
           "text": "test_accuracy"
          }
         },
         "colorscale": [
          [
           0,
           "#0d0887"
          ],
          [
           0.1111111111111111,
           "#46039f"
          ],
          [
           0.2222222222222222,
           "#7201a8"
          ],
          [
           0.3333333333333333,
           "#9c179e"
          ],
          [
           0.4444444444444444,
           "#bd3786"
          ],
          [
           0.5555555555555556,
           "#d8576b"
          ],
          [
           0.6666666666666666,
           "#ed7953"
          ],
          [
           0.7777777777777778,
           "#fb9f3a"
          ],
          [
           0.8888888888888888,
           "#fdca26"
          ],
          [
           1,
           "#f0f921"
          ]
         ]
        },
        "height": 500,
        "legend": {
         "tracegroupgap": 0
        },
        "template": {
         "data": {
          "bar": [
           {
            "error_x": {
             "color": "#2a3f5f"
            },
            "error_y": {
             "color": "#2a3f5f"
            },
            "marker": {
             "line": {
              "color": "#E5ECF6",
              "width": 0.5
             },
             "pattern": {
              "fillmode": "overlay",
              "size": 10,
              "solidity": 0.2
             }
            },
            "type": "bar"
           }
          ],
          "barpolar": [
           {
            "marker": {
             "line": {
              "color": "#E5ECF6",
              "width": 0.5
             },
             "pattern": {
              "fillmode": "overlay",
              "size": 10,
              "solidity": 0.2
             }
            },
            "type": "barpolar"
           }
          ],
          "carpet": [
           {
            "aaxis": {
             "endlinecolor": "#2a3f5f",
             "gridcolor": "white",
             "linecolor": "white",
             "minorgridcolor": "white",
             "startlinecolor": "#2a3f5f"
            },
            "baxis": {
             "endlinecolor": "#2a3f5f",
             "gridcolor": "white",
             "linecolor": "white",
             "minorgridcolor": "white",
             "startlinecolor": "#2a3f5f"
            },
            "type": "carpet"
           }
          ],
          "choropleth": [
           {
            "colorbar": {
             "outlinewidth": 0,
             "ticks": ""
            },
            "type": "choropleth"
           }
          ],
          "contour": [
           {
            "colorbar": {
             "outlinewidth": 0,
             "ticks": ""
            },
            "colorscale": [
             [
              0,
              "#0d0887"
             ],
             [
              0.1111111111111111,
              "#46039f"
             ],
             [
              0.2222222222222222,
              "#7201a8"
             ],
             [
              0.3333333333333333,
              "#9c179e"
             ],
             [
              0.4444444444444444,
              "#bd3786"
             ],
             [
              0.5555555555555556,
              "#d8576b"
             ],
             [
              0.6666666666666666,
              "#ed7953"
             ],
             [
              0.7777777777777778,
              "#fb9f3a"
             ],
             [
              0.8888888888888888,
              "#fdca26"
             ],
             [
              1,
              "#f0f921"
             ]
            ],
            "type": "contour"
           }
          ],
          "contourcarpet": [
           {
            "colorbar": {
             "outlinewidth": 0,
             "ticks": ""
            },
            "type": "contourcarpet"
           }
          ],
          "heatmap": [
           {
            "colorbar": {
             "outlinewidth": 0,
             "ticks": ""
            },
            "colorscale": [
             [
              0,
              "#0d0887"
             ],
             [
              0.1111111111111111,
              "#46039f"
             ],
             [
              0.2222222222222222,
              "#7201a8"
             ],
             [
              0.3333333333333333,
              "#9c179e"
             ],
             [
              0.4444444444444444,
              "#bd3786"
             ],
             [
              0.5555555555555556,
              "#d8576b"
             ],
             [
              0.6666666666666666,
              "#ed7953"
             ],
             [
              0.7777777777777778,
              "#fb9f3a"
             ],
             [
              0.8888888888888888,
              "#fdca26"
             ],
             [
              1,
              "#f0f921"
             ]
            ],
            "type": "heatmap"
           }
          ],
          "heatmapgl": [
           {
            "colorbar": {
             "outlinewidth": 0,
             "ticks": ""
            },
            "colorscale": [
             [
              0,
              "#0d0887"
             ],
             [
              0.1111111111111111,
              "#46039f"
             ],
             [
              0.2222222222222222,
              "#7201a8"
             ],
             [
              0.3333333333333333,
              "#9c179e"
             ],
             [
              0.4444444444444444,
              "#bd3786"
             ],
             [
              0.5555555555555556,
              "#d8576b"
             ],
             [
              0.6666666666666666,
              "#ed7953"
             ],
             [
              0.7777777777777778,
              "#fb9f3a"
             ],
             [
              0.8888888888888888,
              "#fdca26"
             ],
             [
              1,
              "#f0f921"
             ]
            ],
            "type": "heatmapgl"
           }
          ],
          "histogram": [
           {
            "marker": {
             "pattern": {
              "fillmode": "overlay",
              "size": 10,
              "solidity": 0.2
             }
            },
            "type": "histogram"
           }
          ],
          "histogram2d": [
           {
            "colorbar": {
             "outlinewidth": 0,
             "ticks": ""
            },
            "colorscale": [
             [
              0,
              "#0d0887"
             ],
             [
              0.1111111111111111,
              "#46039f"
             ],
             [
              0.2222222222222222,
              "#7201a8"
             ],
             [
              0.3333333333333333,
              "#9c179e"
             ],
             [
              0.4444444444444444,
              "#bd3786"
             ],
             [
              0.5555555555555556,
              "#d8576b"
             ],
             [
              0.6666666666666666,
              "#ed7953"
             ],
             [
              0.7777777777777778,
              "#fb9f3a"
             ],
             [
              0.8888888888888888,
              "#fdca26"
             ],
             [
              1,
              "#f0f921"
             ]
            ],
            "type": "histogram2d"
           }
          ],
          "histogram2dcontour": [
           {
            "colorbar": {
             "outlinewidth": 0,
             "ticks": ""
            },
            "colorscale": [
             [
              0,
              "#0d0887"
             ],
             [
              0.1111111111111111,
              "#46039f"
             ],
             [
              0.2222222222222222,
              "#7201a8"
             ],
             [
              0.3333333333333333,
              "#9c179e"
             ],
             [
              0.4444444444444444,
              "#bd3786"
             ],
             [
              0.5555555555555556,
              "#d8576b"
             ],
             [
              0.6666666666666666,
              "#ed7953"
             ],
             [
              0.7777777777777778,
              "#fb9f3a"
             ],
             [
              0.8888888888888888,
              "#fdca26"
             ],
             [
              1,
              "#f0f921"
             ]
            ],
            "type": "histogram2dcontour"
           }
          ],
          "mesh3d": [
           {
            "colorbar": {
             "outlinewidth": 0,
             "ticks": ""
            },
            "type": "mesh3d"
           }
          ],
          "parcoords": [
           {
            "line": {
             "colorbar": {
              "outlinewidth": 0,
              "ticks": ""
             }
            },
            "type": "parcoords"
           }
          ],
          "pie": [
           {
            "automargin": true,
            "type": "pie"
           }
          ],
          "scatter": [
           {
            "fillpattern": {
             "fillmode": "overlay",
             "size": 10,
             "solidity": 0.2
            },
            "type": "scatter"
           }
          ],
          "scatter3d": [
           {
            "line": {
             "colorbar": {
              "outlinewidth": 0,
              "ticks": ""
             }
            },
            "marker": {
             "colorbar": {
              "outlinewidth": 0,
              "ticks": ""
             }
            },
            "type": "scatter3d"
           }
          ],
          "scattercarpet": [
           {
            "marker": {
             "colorbar": {
              "outlinewidth": 0,
              "ticks": ""
             }
            },
            "type": "scattercarpet"
           }
          ],
          "scattergeo": [
           {
            "marker": {
             "colorbar": {
              "outlinewidth": 0,
              "ticks": ""
             }
            },
            "type": "scattergeo"
           }
          ],
          "scattergl": [
           {
            "marker": {
             "colorbar": {
              "outlinewidth": 0,
              "ticks": ""
             }
            },
            "type": "scattergl"
           }
          ],
          "scattermapbox": [
           {
            "marker": {
             "colorbar": {
              "outlinewidth": 0,
              "ticks": ""
             }
            },
            "type": "scattermapbox"
           }
          ],
          "scatterpolar": [
           {
            "marker": {
             "colorbar": {
              "outlinewidth": 0,
              "ticks": ""
             }
            },
            "type": "scatterpolar"
           }
          ],
          "scatterpolargl": [
           {
            "marker": {
             "colorbar": {
              "outlinewidth": 0,
              "ticks": ""
             }
            },
            "type": "scatterpolargl"
           }
          ],
          "scatterternary": [
           {
            "marker": {
             "colorbar": {
              "outlinewidth": 0,
              "ticks": ""
             }
            },
            "type": "scatterternary"
           }
          ],
          "surface": [
           {
            "colorbar": {
             "outlinewidth": 0,
             "ticks": ""
            },
            "colorscale": [
             [
              0,
              "#0d0887"
             ],
             [
              0.1111111111111111,
              "#46039f"
             ],
             [
              0.2222222222222222,
              "#7201a8"
             ],
             [
              0.3333333333333333,
              "#9c179e"
             ],
             [
              0.4444444444444444,
              "#bd3786"
             ],
             [
              0.5555555555555556,
              "#d8576b"
             ],
             [
              0.6666666666666666,
              "#ed7953"
             ],
             [
              0.7777777777777778,
              "#fb9f3a"
             ],
             [
              0.8888888888888888,
              "#fdca26"
             ],
             [
              1,
              "#f0f921"
             ]
            ],
            "type": "surface"
           }
          ],
          "table": [
           {
            "cells": {
             "fill": {
              "color": "#EBF0F8"
             },
             "line": {
              "color": "white"
             }
            },
            "header": {
             "fill": {
              "color": "#C8D4E3"
             },
             "line": {
              "color": "white"
             }
            },
            "type": "table"
           }
          ]
         },
         "layout": {
          "annotationdefaults": {
           "arrowcolor": "#2a3f5f",
           "arrowhead": 0,
           "arrowwidth": 1
          },
          "autotypenumbers": "strict",
          "coloraxis": {
           "colorbar": {
            "outlinewidth": 0,
            "ticks": ""
           }
          },
          "colorscale": {
           "diverging": [
            [
             0,
             "#8e0152"
            ],
            [
             0.1,
             "#c51b7d"
            ],
            [
             0.2,
             "#de77ae"
            ],
            [
             0.3,
             "#f1b6da"
            ],
            [
             0.4,
             "#fde0ef"
            ],
            [
             0.5,
             "#f7f7f7"
            ],
            [
             0.6,
             "#e6f5d0"
            ],
            [
             0.7,
             "#b8e186"
            ],
            [
             0.8,
             "#7fbc41"
            ],
            [
             0.9,
             "#4d9221"
            ],
            [
             1,
             "#276419"
            ]
           ],
           "sequential": [
            [
             0,
             "#0d0887"
            ],
            [
             0.1111111111111111,
             "#46039f"
            ],
            [
             0.2222222222222222,
             "#7201a8"
            ],
            [
             0.3333333333333333,
             "#9c179e"
            ],
            [
             0.4444444444444444,
             "#bd3786"
            ],
            [
             0.5555555555555556,
             "#d8576b"
            ],
            [
             0.6666666666666666,
             "#ed7953"
            ],
            [
             0.7777777777777778,
             "#fb9f3a"
            ],
            [
             0.8888888888888888,
             "#fdca26"
            ],
            [
             1,
             "#f0f921"
            ]
           ],
           "sequentialminus": [
            [
             0,
             "#0d0887"
            ],
            [
             0.1111111111111111,
             "#46039f"
            ],
            [
             0.2222222222222222,
             "#7201a8"
            ],
            [
             0.3333333333333333,
             "#9c179e"
            ],
            [
             0.4444444444444444,
             "#bd3786"
            ],
            [
             0.5555555555555556,
             "#d8576b"
            ],
            [
             0.6666666666666666,
             "#ed7953"
            ],
            [
             0.7777777777777778,
             "#fb9f3a"
            ],
            [
             0.8888888888888888,
             "#fdca26"
            ],
            [
             1,
             "#f0f921"
            ]
           ]
          },
          "colorway": [
           "#636efa",
           "#EF553B",
           "#00cc96",
           "#ab63fa",
           "#FFA15A",
           "#19d3f3",
           "#FF6692",
           "#B6E880",
           "#FF97FF",
           "#FECB52"
          ],
          "font": {
           "color": "#2a3f5f"
          },
          "geo": {
           "bgcolor": "white",
           "lakecolor": "white",
           "landcolor": "#E5ECF6",
           "showlakes": true,
           "showland": true,
           "subunitcolor": "white"
          },
          "hoverlabel": {
           "align": "left"
          },
          "hovermode": "closest",
          "mapbox": {
           "style": "light"
          },
          "paper_bgcolor": "white",
          "plot_bgcolor": "#E5ECF6",
          "polar": {
           "angularaxis": {
            "gridcolor": "white",
            "linecolor": "white",
            "ticks": ""
           },
           "bgcolor": "#E5ECF6",
           "radialaxis": {
            "gridcolor": "white",
            "linecolor": "white",
            "ticks": ""
           }
          },
          "scene": {
           "xaxis": {
            "backgroundcolor": "#E5ECF6",
            "gridcolor": "white",
            "gridwidth": 2,
            "linecolor": "white",
            "showbackground": true,
            "ticks": "",
            "zerolinecolor": "white"
           },
           "yaxis": {
            "backgroundcolor": "#E5ECF6",
            "gridcolor": "white",
            "gridwidth": 2,
            "linecolor": "white",
            "showbackground": true,
            "ticks": "",
            "zerolinecolor": "white"
           },
           "zaxis": {
            "backgroundcolor": "#E5ECF6",
            "gridcolor": "white",
            "gridwidth": 2,
            "linecolor": "white",
            "showbackground": true,
            "ticks": "",
            "zerolinecolor": "white"
           }
          },
          "shapedefaults": {
           "line": {
            "color": "#2a3f5f"
           }
          },
          "ternary": {
           "aaxis": {
            "gridcolor": "white",
            "linecolor": "white",
            "ticks": ""
           },
           "baxis": {
            "gridcolor": "white",
            "linecolor": "white",
            "ticks": ""
           },
           "bgcolor": "#E5ECF6",
           "caxis": {
            "gridcolor": "white",
            "linecolor": "white",
            "ticks": ""
           }
          },
          "title": {
           "x": 0.05
          },
          "xaxis": {
           "automargin": true,
           "gridcolor": "white",
           "linecolor": "white",
           "ticks": "",
           "title": {
            "standoff": 15
           },
           "zerolinecolor": "white",
           "zerolinewidth": 2
          },
          "yaxis": {
           "automargin": true,
           "gridcolor": "white",
           "linecolor": "white",
           "ticks": "",
           "title": {
            "standoff": 15
           },
           "zerolinecolor": "white",
           "zerolinewidth": 2
          }
         }
        },
        "title": {
         "text": "Parallel Coordinates Plot of Hyperparameters and Test Accuracy"
        },
        "width": 1000
       }
      },
      "image/png": "[encoded data removed]",
      "text/html": [
       "<div>                            <div id=\"fc2d0ee6-4ce2-45db-8c4d-851fd92ad2a4\" class=\"plotly-graph-div\" style=\"height:500px; width:1000px;\"></div>            <script type=\"text/javascript\">                require([\"plotly\"], function(Plotly) {                    window.PLOTLYENV=window.PLOTLYENV || {};                                    if (document.getElementById(\"fc2d0ee6-4ce2-45db-8c4d-851fd92ad2a4\")) {                    Plotly.newPlot(                        \"fc2d0ee6-4ce2-45db-8c4d-851fd92ad2a4\",                        [{\"dimensions\":[{\"label\":\"min_impurity_decrease\",\"values\":[0.0,0.0,0.0,0.0,0.0,0.0,0.0,0.0,0.0,0.0,0.0,0.0,0.0,0.0,0.0,0.0,0.0,0.0,0.0,0.0,0.009999999776482582,0.019999999552965164,0.019999999552965164,0.05000000074505806,0.0,0.0,0.0,0.0,0.0,0.0,0.0,0.0,0.0,0.0,0.0,0.0,0.0,0.0,0.0,0.0,0.0,0.0,0.0,0.0,0.0,0.0,0.0,0.0,0.009999999776482582,0.009999999776482582,0.009999999776482582]},{\"label\":\"min_samples_leaf\",\"values\":[1,2,2,2,2,3,3,3,3,4,5,5,5,11,11,18,23,25,29,37,2,1,6,2,1,1,2,2,2,2,3,3,5,6,9,11,11,11,13,17,20,22,24,32,39,40,45,48,1,3,13]},{\"label\":\"min_samples_split\",\"values\":[2,2,2,3,3,2,2,2,3,2,2,2,2,2,2,2,2,2,2,2,2,2,2,2,2,2,2,2,2,2,2,2,2,2,3,2,2,2,2,2,2,2,2,2,2,2,2,3,2,2,2]},{\"label\":\"n_estimators\",\"values\":[70,44,205,81,615,46,81,1260,1785,108,20,36,757,69,1133,18,2894,84,63,164,33,114,41,441,100,250,12,418,543,1157,10,2717,944,130,315,123,1584,2213,779,2190,518,1896,11,221,213,2952,1780,58,535,138,1946]},{\"label\":\"test_accuracy\",\"values\":[0.6785329985652798,0.6885939741750359,0.6752510760401722,0.680416068866571,0.6976327116212339,0.6954806312769011,0.7026542324246772,0.7021520803443329,0.694906743185079,0.6536585365853659,0.6938307030129125,0.6934720229555237,0.6841463414634147,0.7064562410329985,0.6938307030129125,0.7038020086083214,0.7088952654232424,0.7012912482065997,0.7032998565279771,0.7012912482065997,0.6961979913916786,0.6941176470588235,0.6934720229555237,0.6934720229555237,0.6952654232424678,0.7006814921090387,0.6977223816355811,0.7037302725968436,0.7021520803443329,0.6933285509325682,0.6868723098995696,0.7011477761836442,0.6827833572453372,0.6779053084648493,0.7047345767575323,0.7038737446197991,0.7065279770444763,0.7051649928263989,0.7092539454806313,0.7093974175035868,0.694906743185079,0.7103299856527977,0.7073888091822095,0.702116212338594,0.7117109038737446,0.7137733142037302,0.7141319942611191,0.710545193687231,0.6997847919655668,0.6923959827833572,0.6786226685796269]}],\"domain\":{\"x\":[0.0,1.0],\"y\":[0.0,1.0]},\"line\":{\"color\":[0.6785329985652798,0.6885939741750359,0.6752510760401722,0.680416068866571,0.6976327116212339,0.6954806312769011,0.7026542324246772,0.7021520803443329,0.694906743185079,0.6536585365853659,0.6938307030129125,0.6934720229555237,0.6841463414634147,0.7064562410329985,0.6938307030129125,0.7038020086083214,0.7088952654232424,0.7012912482065997,0.7032998565279771,0.7012912482065997,0.6961979913916786,0.6941176470588235,0.6934720229555237,0.6934720229555237,0.6952654232424678,0.7006814921090387,0.6977223816355811,0.7037302725968436,0.7021520803443329,0.6933285509325682,0.6868723098995696,0.7011477761836442,0.6827833572453372,0.6779053084648493,0.7047345767575323,0.7038737446197991,0.7065279770444763,0.7051649928263989,0.7092539454806313,0.7093974175035868,0.694906743185079,0.7103299856527977,0.7073888091822095,0.702116212338594,0.7117109038737446,0.7137733142037302,0.7141319942611191,0.710545193687231,0.6997847919655668,0.6923959827833572,0.6786226685796269],\"coloraxis\":\"coloraxis\"},\"name\":\"\",\"type\":\"parcoords\"}],                        {\"template\":{\"data\":{\"histogram2dcontour\":[{\"type\":\"histogram2dcontour\",\"colorbar\":{\"outlinewidth\":0,\"ticks\":\"\"},\"colorscale\":[[0.0,\"#0d0887\"],[0.1111111111111111,\"#46039f\"],[0.2222222222222222,\"#7201a8\"],[0.3333333333333333,\"#9c179e\"],[0.4444444444444444,\"#bd3786\"],[0.5555555555555556,\"#d8576b\"],[0.6666666666666666,\"#ed7953\"],[0.7777777777777778,\"#fb9f3a\"],[0.8888888888888888,\"#fdca26\"],[1.0,\"#f0f921\"]]}],\"choropleth\":[{\"type\":\"choropleth\",\"colorbar\":{\"outlinewidth\":0,\"ticks\":\"\"}}],\"histogram2d\":[{\"type\":\"histogram2d\",\"colorbar\":{\"outlinewidth\":0,\"ticks\":\"\"},\"colorscale\":[[0.0,\"#0d0887\"],[0.1111111111111111,\"#46039f\"],[0.2222222222222222,\"#7201a8\"],[0.3333333333333333,\"#9c179e\"],[0.4444444444444444,\"#bd3786\"],[0.5555555555555556,\"#d8576b\"],[0.6666666666666666,\"#ed7953\"],[0.7777777777777778,\"#fb9f3a\"],[0.8888888888888888,\"#fdca26\"],[1.0,\"#f0f921\"]]}],\"heatmap\":[{\"type\":\"heatmap\",\"colorbar\":{\"outlinewidth\":0,\"ticks\":\"\"},\"colorscale\":[[0.0,\"#0d0887\"],[0.1111111111111111,\"#46039f\"],[0.2222222222222222,\"#7201a8\"],[0.3333333333333333,\"#9c179e\"],[0.4444444444444444,\"#bd3786\"],[0.5555555555555556,\"#d8576b\"],[0.6666666666666666,\"#ed7953\"],[0.7777777777777778,\"#fb9f3a\"],[0.8888888888888888,\"#fdca26\"],[1.0,\"#f0f921\"]]}],\"heatmapgl\":[{\"type\":\"heatmapgl\",\"colorbar\":{\"outlinewidth\":0,\"ticks\":\"\"},\"colorscale\":[[0.0,\"#0d0887\"],[0.1111111111111111,\"#46039f\"],[0.2222222222222222,\"#7201a8\"],[0.3333333333333333,\"#9c179e\"],[0.4444444444444444,\"#bd3786\"],[0.5555555555555556,\"#d8576b\"],[0.6666666666666666,\"#ed7953\"],[0.7777777777777778,\"#fb9f3a\"],[0.8888888888888888,\"#fdca26\"],[1.0,\"#f0f921\"]]}],\"contourcarpet\":[{\"type\":\"contourcarpet\",\"colorbar\":{\"outlinewidth\":0,\"ticks\":\"\"}}],\"contour\":[{\"type\":\"contour\",\"colorbar\":{\"outlinewidth\":0,\"ticks\":\"\"},\"colorscale\":[[0.0,\"#0d0887\"],[0.1111111111111111,\"#46039f\"],[0.2222222222222222,\"#7201a8\"],[0.3333333333333333,\"#9c179e\"],[0.4444444444444444,\"#bd3786\"],[0.5555555555555556,\"#d8576b\"],[0.6666666666666666,\"#ed7953\"],[0.7777777777777778,\"#fb9f3a\"],[0.8888888888888888,\"#fdca26\"],[1.0,\"#f0f921\"]]}],\"surface\":[{\"type\":\"surface\",\"colorbar\":{\"outlinewidth\":0,\"ticks\":\"\"},\"colorscale\":[[0.0,\"#0d0887\"],[0.1111111111111111,\"#46039f\"],[0.2222222222222222,\"#7201a8\"],[0.3333333333333333,\"#9c179e\"],[0.4444444444444444,\"#bd3786\"],[0.5555555555555556,\"#d8576b\"],[0.6666666666666666,\"#ed7953\"],[0.7777777777777778,\"#fb9f3a\"],[0.8888888888888888,\"#fdca26\"],[1.0,\"#f0f921\"]]}],\"mesh3d\":[{\"type\":\"mesh3d\",\"colorbar\":{\"outlinewidth\":0,\"ticks\":\"\"}}],\"scatter\":[{\"fillpattern\":{\"fillmode\":\"overlay\",\"size\":10,\"solidity\":0.2},\"type\":\"scatter\"}],\"parcoords\":[{\"type\":\"parcoords\",\"line\":{\"colorbar\":{\"outlinewidth\":0,\"ticks\":\"\"}}}],\"scatterpolargl\":[{\"type\":\"scatterpolargl\",\"marker\":{\"colorbar\":{\"outlinewidth\":0,\"ticks\":\"\"}}}],\"bar\":[{\"error_x\":{\"color\":\"#2a3f5f\"},\"error_y\":{\"color\":\"#2a3f5f\"},\"marker\":{\"line\":{\"color\":\"#E5ECF6\",\"width\":0.5},\"pattern\":{\"fillmode\":\"overlay\",\"size\":10,\"solidity\":0.2}},\"type\":\"bar\"}],\"scattergeo\":[{\"type\":\"scattergeo\",\"marker\":{\"colorbar\":{\"outlinewidth\":0,\"ticks\":\"\"}}}],\"scatterpolar\":[{\"type\":\"scatterpolar\",\"marker\":{\"colorbar\":{\"outlinewidth\":0,\"ticks\":\"\"}}}],\"histogram\":[{\"marker\":{\"pattern\":{\"fillmode\":\"overlay\",\"size\":10,\"solidity\":0.2}},\"type\":\"histogram\"}],\"scattergl\":[{\"type\":\"scattergl\",\"marker\":{\"colorbar\":{\"outlinewidth\":0,\"ticks\":\"\"}}}],\"scatter3d\":[{\"type\":\"scatter3d\",\"line\":{\"colorbar\":{\"outlinewidth\":0,\"ticks\":\"\"}},\"marker\":{\"colorbar\":{\"outlinewidth\":0,\"ticks\":\"\"}}}],\"scattermapbox\":[{\"type\":\"scattermapbox\",\"marker\":{\"colorbar\":{\"outlinewidth\":0,\"ticks\":\"\"}}}],\"scatterternary\":[{\"type\":\"scatterternary\",\"marker\":{\"colorbar\":{\"outlinewidth\":0,\"ticks\":\"\"}}}],\"scattercarpet\":[{\"type\":\"scattercarpet\",\"marker\":{\"colorbar\":{\"outlinewidth\":0,\"ticks\":\"\"}}}],\"carpet\":[{\"aaxis\":{\"endlinecolor\":\"#2a3f5f\",\"gridcolor\":\"white\",\"linecolor\":\"white\",\"minorgridcolor\":\"white\",\"startlinecolor\":\"#2a3f5f\"},\"baxis\":{\"endlinecolor\":\"#2a3f5f\",\"gridcolor\":\"white\",\"linecolor\":\"white\",\"minorgridcolor\":\"white\",\"startlinecolor\":\"#2a3f5f\"},\"type\":\"carpet\"}],\"table\":[{\"cells\":{\"fill\":{\"color\":\"#EBF0F8\"},\"line\":{\"color\":\"white\"}},\"header\":{\"fill\":{\"color\":\"#C8D4E3\"},\"line\":{\"color\":\"white\"}},\"type\":\"table\"}],\"barpolar\":[{\"marker\":{\"line\":{\"color\":\"#E5ECF6\",\"width\":0.5},\"pattern\":{\"fillmode\":\"overlay\",\"size\":10,\"solidity\":0.2}},\"type\":\"barpolar\"}],\"pie\":[{\"automargin\":true,\"type\":\"pie\"}]},\"layout\":{\"autotypenumbers\":\"strict\",\"colorway\":[\"#636efa\",\"#EF553B\",\"#00cc96\",\"#ab63fa\",\"#FFA15A\",\"#19d3f3\",\"#FF6692\",\"#B6E880\",\"#FF97FF\",\"#FECB52\"],\"font\":{\"color\":\"#2a3f5f\"},\"hovermode\":\"closest\",\"hoverlabel\":{\"align\":\"left\"},\"paper_bgcolor\":\"white\",\"plot_bgcolor\":\"#E5ECF6\",\"polar\":{\"bgcolor\":\"#E5ECF6\",\"angularaxis\":{\"gridcolor\":\"white\",\"linecolor\":\"white\",\"ticks\":\"\"},\"radialaxis\":{\"gridcolor\":\"white\",\"linecolor\":\"white\",\"ticks\":\"\"}},\"ternary\":{\"bgcolor\":\"#E5ECF6\",\"aaxis\":{\"gridcolor\":\"white\",\"linecolor\":\"white\",\"ticks\":\"\"},\"baxis\":{\"gridcolor\":\"white\",\"linecolor\":\"white\",\"ticks\":\"\"},\"caxis\":{\"gridcolor\":\"white\",\"linecolor\":\"white\",\"ticks\":\"\"}},\"coloraxis\":{\"colorbar\":{\"outlinewidth\":0,\"ticks\":\"\"}},\"colorscale\":{\"sequential\":[[0.0,\"#0d0887\"],[0.1111111111111111,\"#46039f\"],[0.2222222222222222,\"#7201a8\"],[0.3333333333333333,\"#9c179e\"],[0.4444444444444444,\"#bd3786\"],[0.5555555555555556,\"#d8576b\"],[0.6666666666666666,\"#ed7953\"],[0.7777777777777778,\"#fb9f3a\"],[0.8888888888888888,\"#fdca26\"],[1.0,\"#f0f921\"]],\"sequentialminus\":[[0.0,\"#0d0887\"],[0.1111111111111111,\"#46039f\"],[0.2222222222222222,\"#7201a8\"],[0.3333333333333333,\"#9c179e\"],[0.4444444444444444,\"#bd3786\"],[0.5555555555555556,\"#d8576b\"],[0.6666666666666666,\"#ed7953\"],[0.7777777777777778,\"#fb9f3a\"],[0.8888888888888888,\"#fdca26\"],[1.0,\"#f0f921\"]],\"diverging\":[[0,\"#8e0152\"],[0.1,\"#c51b7d\"],[0.2,\"#de77ae\"],[0.3,\"#f1b6da\"],[0.4,\"#fde0ef\"],[0.5,\"#f7f7f7\"],[0.6,\"#e6f5d0\"],[0.7,\"#b8e186\"],[0.8,\"#7fbc41\"],[0.9,\"#4d9221\"],[1,\"#276419\"]]},\"xaxis\":{\"gridcolor\":\"white\",\"linecolor\":\"white\",\"ticks\":\"\",\"title\":{\"standoff\":15},\"zerolinecolor\":\"white\",\"automargin\":true,\"zerolinewidth\":2},\"yaxis\":{\"gridcolor\":\"white\",\"linecolor\":\"white\",\"ticks\":\"\",\"title\":{\"standoff\":15},\"zerolinecolor\":\"white\",\"automargin\":true,\"zerolinewidth\":2},\"scene\":{\"xaxis\":{\"backgroundcolor\":\"#E5ECF6\",\"gridcolor\":\"white\",\"linecolor\":\"white\",\"showbackground\":true,\"ticks\":\"\",\"zerolinecolor\":\"white\",\"gridwidth\":2},\"yaxis\":{\"backgroundcolor\":\"#E5ECF6\",\"gridcolor\":\"white\",\"linecolor\":\"white\",\"showbackground\":true,\"ticks\":\"\",\"zerolinecolor\":\"white\",\"gridwidth\":2},\"zaxis\":{\"backgroundcolor\":\"#E5ECF6\",\"gridcolor\":\"white\",\"linecolor\":\"white\",\"showbackground\":true,\"ticks\":\"\",\"zerolinecolor\":\"white\",\"gridwidth\":2}},\"shapedefaults\":{\"line\":{\"color\":\"#2a3f5f\"}},\"annotationdefaults\":{\"arrowcolor\":\"#2a3f5f\",\"arrowhead\":0,\"arrowwidth\":1},\"geo\":{\"bgcolor\":\"white\",\"landcolor\":\"#E5ECF6\",\"subunitcolor\":\"white\",\"showland\":true,\"showlakes\":true,\"lakecolor\":\"white\"},\"title\":{\"x\":0.05},\"mapbox\":{\"style\":\"light\"}}},\"coloraxis\":{\"colorbar\":{\"title\":{\"text\":\"test_accuracy\"}},\"colorscale\":[[0.0,\"#0d0887\"],[0.1111111111111111,\"#46039f\"],[0.2222222222222222,\"#7201a8\"],[0.3333333333333333,\"#9c179e\"],[0.4444444444444444,\"#bd3786\"],[0.5555555555555556,\"#d8576b\"],[0.6666666666666666,\"#ed7953\"],[0.7777777777777778,\"#fb9f3a\"],[0.8888888888888888,\"#fdca26\"],[1.0,\"#f0f921\"]]},\"legend\":{\"tracegroupgap\":0},\"title\":{\"text\":\"Parallel Coordinates Plot of Hyperparameters and Test Accuracy\"},\"width\":1000,\"height\":500},                        {\"responsive\": true}                    ).then(function(){\n",
       "                            \n",
       "var gd = document.getElementById('fc2d0ee6-4ce2-45db-8c4d-851fd92ad2a4');\n",
       "var x = new MutationObserver(function (mutations, observer) {{\n",
       "        var display = window.getComputedStyle(gd).display;\n",
       "        if (!display || display === 'none') {{\n",
       "            console.log([gd, 'removed!']);\n",
       "            Plotly.purge(gd);\n",
       "            observer.disconnect();\n",
       "        }}\n",
       "}});\n",
       "\n",
       "// Listen for the removal of the full notebook cells\n",
       "var notebookContainer = gd.closest('#notebook-container');\n",
       "if (notebookContainer) {{\n",
       "    x.observe(notebookContainer, {childList: true});\n",
       "}}\n",
       "\n",
       "// Listen for the clearing of the current output cell\n",
       "var outputEl = gd.closest('.output');\n",
       "if (outputEl) {{\n",
       "    x.observe(outputEl, {childList: true});\n",
       "}}\n",
       "\n",
       "                        })                };                });            </script>        </div>"
      ]
     },
     "metadata": {},
     "output_type": "display_data"
    }
   ],
   "source": [
    "fig = px.parallel_coordinates(grouped_df.drop(columns=['val_accuracy', 'train_accuracy']),\n",
    "                              color='test_accuracy',\n",
    "                              labels=grouped_df.drop(columns=['val_accuracy', 'train_accuracy']).columns,\n",
    "                              # labels={col: col.replace('_', ' ') for col in grouped_df.columns},\n",
    "                              title='Parallel Coordinates Plot of Hyperparameters and Test Accuracy',\n",
    "                              )\n",
    "\n",
    "fig.update_layout(width=1000, height=500)\n",
    "fig.show()"
   ]
  },
  {
   "cell_type": "code",
   "execution_count": 23,
   "id": "732ea575-6434-4a65-97b4-0182c8a1af9e",
   "metadata": {
    "tags": []
   },
   "outputs": [
    {
     "data": {
      "text/plain": [
       "0.7152080344332855"
      ]
     },
     "execution_count": 23,
     "metadata": {},
     "output_type": "execute_result"
    }
   ],
   "source": [
    "df_random_forest['test_accuracy'].max()"
   ]
  },
  {
   "cell_type": "code",
   "execution_count": 24,
   "id": "494c7ab6-2d5b-4dcb-ba9f-eae31bd0410c",
   "metadata": {
    "tags": []
   },
   "outputs": [
    {
     "data": {
      "text/plain": [
       "88"
      ]
     },
     "execution_count": 24,
     "metadata": {},
     "output_type": "execute_result"
    }
   ],
   "source": [
    "df_random_forest['test_accuracy'].argmax()"
   ]
  },
  {
   "cell_type": "code",
   "execution_count": 25,
   "id": "2736b4ba-50ad-4112-9ed1-3b86acfef433",
   "metadata": {
    "tags": []
   },
   "outputs": [
    {
     "data": {
      "text/plain": [
       "{'bootstrap': True,\n",
       " 'criterion': 'entropy',\n",
       " 'max_depth': None,\n",
       " 'max_features': 0.3,\n",
       " 'min_impurity_decrease': 0.0,\n",
       " 'min_samples_leaf': 39,\n",
       " 'min_samples_split': 2,\n",
       " 'n_estimators': 213}"
      ]
     },
     "execution_count": 25,
     "metadata": {},
     "output_type": "execute_result"
    }
   ],
   "source": [
    "best_hpt = df_random_forest.iloc[88, 3:].to_dict()\n",
    "best_hpt"
   ]
  },
  {
   "cell_type": "code",
   "execution_count": 26,
   "id": "c1176f83-f0bf-4b06-946c-b2e1e50ec507",
   "metadata": {
    "tags": []
   },
   "outputs": [
    {
     "name": "stdout",
     "output_type": "stream",
     "text": [
      "Removed 0 rows with missing values on 13272 rows\n",
      "Removed 0 columns with missing values on 21 columns\n",
      "Removed 0 rows with missing values on 13272 rows\n",
      "Removed 1 columns with pseudo-categorical values on 21 columns\n",
      "high cardinality columns: Index([], dtype='object')\n",
      "Removed 0 high-cardinality categorical features\n"
     ]
    }
   ],
   "source": [
    "REPO_ID = \"inria-soda/tabular-benchmark\"\n",
    "np.random.seed(42)\n",
    "\n",
    "df = pd.read_csv(\n",
    "    hf_hub_download(repo_id=REPO_ID, filename=f'clf_cat/default-of-credit-card-clients.csv', repo_type=\"dataset\")\n",
    ")\n",
    "X, y = df.iloc[:, :-1], df.iloc[:, -1]\n",
    "X, y = preprocess_data(X, y, isCategorical=True)\n",
    "(X_train, y_train), (X_val, y_val), (X_test, y_test) = split_data(X, y, isCategorical=True)"
   ]
  },
  {
   "cell_type": "code",
   "execution_count": 27,
   "id": "b1f46bcc-04f3-4741-a54c-1c3d10999c95",
   "metadata": {
    "tags": []
   },
   "outputs": [
    {
     "data": {
      "text/html": [
       "<style>#sk-container-id-1 {\n",
       "  /* Definition of color scheme common for light and dark mode */\n",
       "  --sklearn-color-text: black;\n",
       "  --sklearn-color-line: gray;\n",
       "  /* Definition of color scheme for unfitted estimators */\n",
       "  --sklearn-color-unfitted-level-0: #fff5e6;\n",
       "  --sklearn-color-unfitted-level-1: #f6e4d2;\n",
       "  --sklearn-color-unfitted-level-2: #ffe0b3;\n",
       "  --sklearn-color-unfitted-level-3: chocolate;\n",
       "  /* Definition of color scheme for fitted estimators */\n",
       "  --sklearn-color-fitted-level-0: #f0f8ff;\n",
       "  --sklearn-color-fitted-level-1: #d4ebff;\n",
       "  --sklearn-color-fitted-level-2: #b3dbfd;\n",
       "  --sklearn-color-fitted-level-3: cornflowerblue;\n",
       "\n",
       "  /* Specific color for light theme */\n",
       "  --sklearn-color-text-on-default-background: var(--sg-text-color, var(--theme-code-foreground, var(--jp-content-font-color1, black)));\n",
       "  --sklearn-color-background: var(--sg-background-color, var(--theme-background, var(--jp-layout-color0, white)));\n",
       "  --sklearn-color-border-box: var(--sg-text-color, var(--theme-code-foreground, var(--jp-content-font-color1, black)));\n",
       "  --sklearn-color-icon: #696969;\n",
       "\n",
       "  @media (prefers-color-scheme: dark) {\n",
       "    /* Redefinition of color scheme for dark theme */\n",
       "    --sklearn-color-text-on-default-background: var(--sg-text-color, var(--theme-code-foreground, var(--jp-content-font-color1, white)));\n",
       "    --sklearn-color-background: var(--sg-background-color, var(--theme-background, var(--jp-layout-color0, #111)));\n",
       "    --sklearn-color-border-box: var(--sg-text-color, var(--theme-code-foreground, var(--jp-content-font-color1, white)));\n",
       "    --sklearn-color-icon: #878787;\n",
       "  }\n",
       "}\n",
       "\n",
       "#sk-container-id-1 {\n",
       "  color: var(--sklearn-color-text);\n",
       "}\n",
       "\n",
       "#sk-container-id-1 pre {\n",
       "  padding: 0;\n",
       "}\n",
       "\n",
       "#sk-container-id-1 input.sk-hidden--visually {\n",
       "  border: 0;\n",
       "  clip: rect(1px 1px 1px 1px);\n",
       "  clip: rect(1px, 1px, 1px, 1px);\n",
       "  height: 1px;\n",
       "  margin: -1px;\n",
       "  overflow: hidden;\n",
       "  padding: 0;\n",
       "  position: absolute;\n",
       "  width: 1px;\n",
       "}\n",
       "\n",
       "#sk-container-id-1 div.sk-dashed-wrapped {\n",
       "  border: 1px dashed var(--sklearn-color-line);\n",
       "  margin: 0 0.4em 0.5em 0.4em;\n",
       "  box-sizing: border-box;\n",
       "  padding-bottom: 0.4em;\n",
       "  background-color: var(--sklearn-color-background);\n",
       "}\n",
       "\n",
       "#sk-container-id-1 div.sk-container {\n",
       "  /* jupyter's `normalize.less` sets `[hidden] { display: none; }`\n",
       "     but bootstrap.min.css set `[hidden] { display: none !important; }`\n",
       "     so we also need the `!important` here to be able to override the\n",
       "     default hidden behavior on the sphinx rendered scikit-learn.org.\n",
       "     See: https://github.com/scikit-learn/scikit-learn/issues/21755 */\n",
       "  display: inline-block !important;\n",
       "  position: relative;\n",
       "}\n",
       "\n",
       "#sk-container-id-1 div.sk-text-repr-fallback {\n",
       "  display: none;\n",
       "}\n",
       "\n",
       "div.sk-parallel-item,\n",
       "div.sk-serial,\n",
       "div.sk-item {\n",
       "  /* draw centered vertical line to link estimators */\n",
       "  background-image: linear-gradient(var(--sklearn-color-text-on-default-background), var(--sklearn-color-text-on-default-background));\n",
       "  background-size: 2px 100%;\n",
       "  background-repeat: no-repeat;\n",
       "  background-position: center center;\n",
       "}\n",
       "\n",
       "/* Parallel-specific style estimator block */\n",
       "\n",
       "#sk-container-id-1 div.sk-parallel-item::after {\n",
       "  content: \"\";\n",
       "  width: 100%;\n",
       "  border-bottom: 2px solid var(--sklearn-color-text-on-default-background);\n",
       "  flex-grow: 1;\n",
       "}\n",
       "\n",
       "#sk-container-id-1 div.sk-parallel {\n",
       "  display: flex;\n",
       "  align-items: stretch;\n",
       "  justify-content: center;\n",
       "  background-color: var(--sklearn-color-background);\n",
       "  position: relative;\n",
       "}\n",
       "\n",
       "#sk-container-id-1 div.sk-parallel-item {\n",
       "  display: flex;\n",
       "  flex-direction: column;\n",
       "}\n",
       "\n",
       "#sk-container-id-1 div.sk-parallel-item:first-child::after {\n",
       "  align-self: flex-end;\n",
       "  width: 50%;\n",
       "}\n",
       "\n",
       "#sk-container-id-1 div.sk-parallel-item:last-child::after {\n",
       "  align-self: flex-start;\n",
       "  width: 50%;\n",
       "}\n",
       "\n",
       "#sk-container-id-1 div.sk-parallel-item:only-child::after {\n",
       "  width: 0;\n",
       "}\n",
       "\n",
       "/* Serial-specific style estimator block */\n",
       "\n",
       "#sk-container-id-1 div.sk-serial {\n",
       "  display: flex;\n",
       "  flex-direction: column;\n",
       "  align-items: center;\n",
       "  background-color: var(--sklearn-color-background);\n",
       "  padding-right: 1em;\n",
       "  padding-left: 1em;\n",
       "}\n",
       "\n",
       "\n",
       "/* Toggleable style: style used for estimator/Pipeline/ColumnTransformer box that is\n",
       "clickable and can be expanded/collapsed.\n",
       "- Pipeline and ColumnTransformer use this feature and define the default style\n",
       "- Estimators will overwrite some part of the style using the `sk-estimator` class\n",
       "*/\n",
       "\n",
       "/* Pipeline and ColumnTransformer style (default) */\n",
       "\n",
       "#sk-container-id-1 div.sk-toggleable {\n",
       "  /* Default theme specific background. It is overwritten whether we have a\n",
       "  specific estimator or a Pipeline/ColumnTransformer */\n",
       "  background-color: var(--sklearn-color-background);\n",
       "}\n",
       "\n",
       "/* Toggleable label */\n",
       "#sk-container-id-1 label.sk-toggleable__label {\n",
       "  cursor: pointer;\n",
       "  display: block;\n",
       "  width: 100%;\n",
       "  margin-bottom: 0;\n",
       "  padding: 0.5em;\n",
       "  box-sizing: border-box;\n",
       "  text-align: center;\n",
       "}\n",
       "\n",
       "#sk-container-id-1 label.sk-toggleable__label-arrow:before {\n",
       "  /* Arrow on the left of the label */\n",
       "  content: \"▸\";\n",
       "  float: left;\n",
       "  margin-right: 0.25em;\n",
       "  color: var(--sklearn-color-icon);\n",
       "}\n",
       "\n",
       "#sk-container-id-1 label.sk-toggleable__label-arrow:hover:before {\n",
       "  color: var(--sklearn-color-text);\n",
       "}\n",
       "\n",
       "/* Toggleable content - dropdown */\n",
       "\n",
       "#sk-container-id-1 div.sk-toggleable__content {\n",
       "  max-height: 0;\n",
       "  max-width: 0;\n",
       "  overflow: hidden;\n",
       "  text-align: left;\n",
       "  /* unfitted */\n",
       "  background-color: var(--sklearn-color-unfitted-level-0);\n",
       "}\n",
       "\n",
       "#sk-container-id-1 div.sk-toggleable__content.fitted {\n",
       "  /* fitted */\n",
       "  background-color: var(--sklearn-color-fitted-level-0);\n",
       "}\n",
       "\n",
       "#sk-container-id-1 div.sk-toggleable__content pre {\n",
       "  margin: 0.2em;\n",
       "  border-radius: 0.25em;\n",
       "  color: var(--sklearn-color-text);\n",
       "  /* unfitted */\n",
       "  background-color: var(--sklearn-color-unfitted-level-0);\n",
       "}\n",
       "\n",
       "#sk-container-id-1 div.sk-toggleable__content.fitted pre {\n",
       "  /* unfitted */\n",
       "  background-color: var(--sklearn-color-fitted-level-0);\n",
       "}\n",
       "\n",
       "#sk-container-id-1 input.sk-toggleable__control:checked~div.sk-toggleable__content {\n",
       "  /* Expand drop-down */\n",
       "  max-height: 200px;\n",
       "  max-width: 100%;\n",
       "  overflow: auto;\n",
       "}\n",
       "\n",
       "#sk-container-id-1 input.sk-toggleable__control:checked~label.sk-toggleable__label-arrow:before {\n",
       "  content: \"▾\";\n",
       "}\n",
       "\n",
       "/* Pipeline/ColumnTransformer-specific style */\n",
       "\n",
       "#sk-container-id-1 div.sk-label input.sk-toggleable__control:checked~label.sk-toggleable__label {\n",
       "  color: var(--sklearn-color-text);\n",
       "  background-color: var(--sklearn-color-unfitted-level-2);\n",
       "}\n",
       "\n",
       "#sk-container-id-1 div.sk-label.fitted input.sk-toggleable__control:checked~label.sk-toggleable__label {\n",
       "  background-color: var(--sklearn-color-fitted-level-2);\n",
       "}\n",
       "\n",
       "/* Estimator-specific style */\n",
       "\n",
       "/* Colorize estimator box */\n",
       "#sk-container-id-1 div.sk-estimator input.sk-toggleable__control:checked~label.sk-toggleable__label {\n",
       "  /* unfitted */\n",
       "  background-color: var(--sklearn-color-unfitted-level-2);\n",
       "}\n",
       "\n",
       "#sk-container-id-1 div.sk-estimator.fitted input.sk-toggleable__control:checked~label.sk-toggleable__label {\n",
       "  /* fitted */\n",
       "  background-color: var(--sklearn-color-fitted-level-2);\n",
       "}\n",
       "\n",
       "#sk-container-id-1 div.sk-label label.sk-toggleable__label,\n",
       "#sk-container-id-1 div.sk-label label {\n",
       "  /* The background is the default theme color */\n",
       "  color: var(--sklearn-color-text-on-default-background);\n",
       "}\n",
       "\n",
       "/* On hover, darken the color of the background */\n",
       "#sk-container-id-1 div.sk-label:hover label.sk-toggleable__label {\n",
       "  color: var(--sklearn-color-text);\n",
       "  background-color: var(--sklearn-color-unfitted-level-2);\n",
       "}\n",
       "\n",
       "/* Label box, darken color on hover, fitted */\n",
       "#sk-container-id-1 div.sk-label.fitted:hover label.sk-toggleable__label.fitted {\n",
       "  color: var(--sklearn-color-text);\n",
       "  background-color: var(--sklearn-color-fitted-level-2);\n",
       "}\n",
       "\n",
       "/* Estimator label */\n",
       "\n",
       "#sk-container-id-1 div.sk-label label {\n",
       "  font-family: monospace;\n",
       "  font-weight: bold;\n",
       "  display: inline-block;\n",
       "  line-height: 1.2em;\n",
       "}\n",
       "\n",
       "#sk-container-id-1 div.sk-label-container {\n",
       "  text-align: center;\n",
       "}\n",
       "\n",
       "/* Estimator-specific */\n",
       "#sk-container-id-1 div.sk-estimator {\n",
       "  font-family: monospace;\n",
       "  border: 1px dotted var(--sklearn-color-border-box);\n",
       "  border-radius: 0.25em;\n",
       "  box-sizing: border-box;\n",
       "  margin-bottom: 0.5em;\n",
       "  /* unfitted */\n",
       "  background-color: var(--sklearn-color-unfitted-level-0);\n",
       "}\n",
       "\n",
       "#sk-container-id-1 div.sk-estimator.fitted {\n",
       "  /* fitted */\n",
       "  background-color: var(--sklearn-color-fitted-level-0);\n",
       "}\n",
       "\n",
       "/* on hover */\n",
       "#sk-container-id-1 div.sk-estimator:hover {\n",
       "  /* unfitted */\n",
       "  background-color: var(--sklearn-color-unfitted-level-2);\n",
       "}\n",
       "\n",
       "#sk-container-id-1 div.sk-estimator.fitted:hover {\n",
       "  /* fitted */\n",
       "  background-color: var(--sklearn-color-fitted-level-2);\n",
       "}\n",
       "\n",
       "/* Specification for estimator info (e.g. \"i\" and \"?\") */\n",
       "\n",
       "/* Common style for \"i\" and \"?\" */\n",
       "\n",
       ".sk-estimator-doc-link,\n",
       "a:link.sk-estimator-doc-link,\n",
       "a:visited.sk-estimator-doc-link {\n",
       "  float: right;\n",
       "  font-size: smaller;\n",
       "  line-height: 1em;\n",
       "  font-family: monospace;\n",
       "  background-color: var(--sklearn-color-background);\n",
       "  border-radius: 1em;\n",
       "  height: 1em;\n",
       "  width: 1em;\n",
       "  text-decoration: none !important;\n",
       "  margin-left: 1ex;\n",
       "  /* unfitted */\n",
       "  border: var(--sklearn-color-unfitted-level-1) 1pt solid;\n",
       "  color: var(--sklearn-color-unfitted-level-1);\n",
       "}\n",
       "\n",
       ".sk-estimator-doc-link.fitted,\n",
       "a:link.sk-estimator-doc-link.fitted,\n",
       "a:visited.sk-estimator-doc-link.fitted {\n",
       "  /* fitted */\n",
       "  border: var(--sklearn-color-fitted-level-1) 1pt solid;\n",
       "  color: var(--sklearn-color-fitted-level-1);\n",
       "}\n",
       "\n",
       "/* On hover */\n",
       "div.sk-estimator:hover .sk-estimator-doc-link:hover,\n",
       ".sk-estimator-doc-link:hover,\n",
       "div.sk-label-container:hover .sk-estimator-doc-link:hover,\n",
       ".sk-estimator-doc-link:hover {\n",
       "  /* unfitted */\n",
       "  background-color: var(--sklearn-color-unfitted-level-3);\n",
       "  color: var(--sklearn-color-background);\n",
       "  text-decoration: none;\n",
       "}\n",
       "\n",
       "div.sk-estimator.fitted:hover .sk-estimator-doc-link.fitted:hover,\n",
       ".sk-estimator-doc-link.fitted:hover,\n",
       "div.sk-label-container:hover .sk-estimator-doc-link.fitted:hover,\n",
       ".sk-estimator-doc-link.fitted:hover {\n",
       "  /* fitted */\n",
       "  background-color: var(--sklearn-color-fitted-level-3);\n",
       "  color: var(--sklearn-color-background);\n",
       "  text-decoration: none;\n",
       "}\n",
       "\n",
       "/* Span, style for the box shown on hovering the info icon */\n",
       ".sk-estimator-doc-link span {\n",
       "  display: none;\n",
       "  z-index: 9999;\n",
       "  position: relative;\n",
       "  font-weight: normal;\n",
       "  right: .2ex;\n",
       "  padding: .5ex;\n",
       "  margin: .5ex;\n",
       "  width: min-content;\n",
       "  min-width: 20ex;\n",
       "  max-width: 50ex;\n",
       "  color: var(--sklearn-color-text);\n",
       "  box-shadow: 2pt 2pt 4pt #999;\n",
       "  /* unfitted */\n",
       "  background: var(--sklearn-color-unfitted-level-0);\n",
       "  border: .5pt solid var(--sklearn-color-unfitted-level-3);\n",
       "}\n",
       "\n",
       ".sk-estimator-doc-link.fitted span {\n",
       "  /* fitted */\n",
       "  background: var(--sklearn-color-fitted-level-0);\n",
       "  border: var(--sklearn-color-fitted-level-3);\n",
       "}\n",
       "\n",
       ".sk-estimator-doc-link:hover span {\n",
       "  display: block;\n",
       "}\n",
       "\n",
       "/* \"?\"-specific style due to the `<a>` HTML tag */\n",
       "\n",
       "#sk-container-id-1 a.estimator_doc_link {\n",
       "  float: right;\n",
       "  font-size: 1rem;\n",
       "  line-height: 1em;\n",
       "  font-family: monospace;\n",
       "  background-color: var(--sklearn-color-background);\n",
       "  border-radius: 1rem;\n",
       "  height: 1rem;\n",
       "  width: 1rem;\n",
       "  text-decoration: none;\n",
       "  /* unfitted */\n",
       "  color: var(--sklearn-color-unfitted-level-1);\n",
       "  border: var(--sklearn-color-unfitted-level-1) 1pt solid;\n",
       "}\n",
       "\n",
       "#sk-container-id-1 a.estimator_doc_link.fitted {\n",
       "  /* fitted */\n",
       "  border: var(--sklearn-color-fitted-level-1) 1pt solid;\n",
       "  color: var(--sklearn-color-fitted-level-1);\n",
       "}\n",
       "\n",
       "/* On hover */\n",
       "#sk-container-id-1 a.estimator_doc_link:hover {\n",
       "  /* unfitted */\n",
       "  background-color: var(--sklearn-color-unfitted-level-3);\n",
       "  color: var(--sklearn-color-background);\n",
       "  text-decoration: none;\n",
       "}\n",
       "\n",
       "#sk-container-id-1 a.estimator_doc_link.fitted:hover {\n",
       "  /* fitted */\n",
       "  background-color: var(--sklearn-color-fitted-level-3);\n",
       "}\n",
       "</style><div id=\"sk-container-id-1\" class=\"sk-top-container\"><div class=\"sk-text-repr-fallback\"><pre>RandomForestClassifier(criterion=&#x27;entropy&#x27;, max_features=0.3,\n",
       "                       min_samples_leaf=39, n_estimators=213)</pre><b>In a Jupyter environment, please rerun this cell to show the HTML representation or trust the notebook. <br />On GitHub, the HTML representation is unable to render, please try loading this page with nbviewer.org.</b></div><div class=\"sk-container\" hidden><div class=\"sk-item\"><div class=\"sk-estimator fitted sk-toggleable\"><input class=\"sk-toggleable__control sk-hidden--visually\" id=\"sk-estimator-id-1\" type=\"checkbox\" checked><label for=\"sk-estimator-id-1\" class=\"sk-toggleable__label fitted sk-toggleable__label-arrow fitted\">&nbsp;&nbsp;RandomForestClassifier<a class=\"sk-estimator-doc-link fitted\" rel=\"noreferrer\" target=\"_blank\" href=\"https://scikit-learn.org/1.4/modules/generated/sklearn.ensemble.RandomForestClassifier.html\">?<span>Documentation for RandomForestClassifier</span></a><span class=\"sk-estimator-doc-link fitted\">i<span>Fitted</span></span></label><div class=\"sk-toggleable__content fitted\"><pre>RandomForestClassifier(criterion=&#x27;entropy&#x27;, max_features=0.3,\n",
       "                       min_samples_leaf=39, n_estimators=213)</pre></div> </div></div></div></div>"
      ],
      "text/plain": [
       "RandomForestClassifier(criterion='entropy', max_features=0.3,\n",
       "                       min_samples_leaf=39, n_estimators=213)"
      ]
     },
     "execution_count": 27,
     "metadata": {},
     "output_type": "execute_result"
    }
   ],
   "source": [
    "rfc = RandomForestClassifier(**best_hpt)\n",
    "rfc.fit(X_train, y_train)"
   ]
  },
  {
   "cell_type": "code",
   "execution_count": 28,
   "id": "04cd4eea-6041-462c-a0b1-a932ec3b814f",
   "metadata": {},
   "outputs": [],
   "source": [
    "y_pred = rfc.predict(X_test)"
   ]
  },
  {
   "cell_type": "code",
   "execution_count": 29,
   "id": "0686bc90-9b8e-4dbf-8b15-5ec2b9afac9d",
   "metadata": {
    "tags": []
   },
   "outputs": [
    {
     "data": {
      "text/plain": [
       "0.7263271162123386"
      ]
     },
     "execution_count": 29,
     "metadata": {},
     "output_type": "execute_result"
    }
   ],
   "source": [
    "(y_test == y_pred).mean()"
   ]
  },
  {
   "cell_type": "code",
   "execution_count": 30,
   "id": "12687bad-6533-493d-a894-730e97d1d5d1",
   "metadata": {
    "tags": []
   },
   "outputs": [
    {
     "data": {
      "image/png": "[encoded data removed]",
      "text/plain": [
       "<Figure size 600x400 with 2 Axes>"
      ]
     },
     "metadata": {},
     "output_type": "display_data"
    }
   ],
   "source": [
    "cm = confusion_matrix(y_test, y_pred)\n",
    "\n",
    "# Plot confusion matrix\n",
    "plt.figure(figsize=(6, 4))\n",
    "sns.heatmap(cm, annot=True, cmap='Blues', fmt='d')\n",
    "plt.xlabel('Predicted')\n",
    "plt.ylabel('True')\n",
    "plt.title('Confusion Matrix')\n",
    "plt.show()"
   ]
  },
  {
   "cell_type": "code",
   "execution_count": 31,
   "id": "d0ae5338-d0f4-40b6-b493-1442b4293c7e",
   "metadata": {
    "tags": []
   },
   "outputs": [
    {
     "name": "stdout",
     "output_type": "stream",
     "text": [
      "Best Threshold=0.523197, G-Mean=0.523\n"
     ]
    },
    {
     "data": {
      "image/png": "[encoded data removed]",
      "text/plain": [
       "<Figure size 500x400 with 1 Axes>"
      ]
     },
     "metadata": {},
     "output_type": "display_data"
    }
   ],
   "source": [
    "y_pred_prob = rfc.predict_proba(X_test)\n",
    "y_prob = y_pred_prob [:, 1]\n",
    "fpr, tpr, thresholds = roc_curve(y_test, y_prob)\n",
    "roc_auc = auc(fpr, tpr)\n",
    "\n",
    "ix = np.argmax(tpr - fpr)\n",
    "print('Best Threshold=%f, G-Mean=%.3f' % (thresholds[ix], thresholds[ix]))\n",
    "\n",
    "# Plot ROC curve\n",
    "plt.figure(figsize=(5, 4))\n",
    "plt.plot(fpr, tpr, color='darkorange', lw=2, label='ROC curve (area = %0.2f)' % roc_auc)\n",
    "plt.plot([0, 1], [0, 1], color='navy', lw=2, linestyle='--', label='Random guess')\n",
    "plt.scatter(fpr[ix], tpr[ix], marker='o', color='black', label='Best Threshold')\n",
    "\n",
    "plt.xlim([0.0, 1.0])\n",
    "plt.ylim([0.0, 1.05])\n",
    "plt.xlabel('False Positive Rate')\n",
    "plt.ylabel('True Positive Rate')\n",
    "plt.title('ROC Curve')\n",
    "plt.legend(loc='lower right')\n",
    "plt.grid(True)\n",
    "plt.show()"
   ]
  },
  {
   "cell_type": "code",
   "execution_count": 32,
   "id": "c9f69402-4468-489d-9e86-615f90be09c3",
   "metadata": {},
   "outputs": [
    {
     "data": {
      "text/plain": [
       "0.5231969792144807"
      ]
     },
     "execution_count": 32,
     "metadata": {},
     "output_type": "execute_result"
    }
   ],
   "source": [
    "thresholds[ix]"
   ]
  },
  {
   "cell_type": "code",
   "execution_count": 33,
   "id": "89baeb49-f8d2-4583-896c-69c6c7a64c9f",
   "metadata": {
    "tags": []
   },
   "outputs": [
    {
     "data": {
      "text/plain": [
       "array([0, 0, 0, ..., 1, 0, 0], dtype=int64)"
      ]
     },
     "execution_count": 33,
     "metadata": {},
     "output_type": "execute_result"
    }
   ],
   "source": [
    "new_y_pred = (y_pred_prob > thresholds[ix]).argmax(axis=1)\n",
    "new_y_pred"
   ]
  },
  {
   "cell_type": "code",
   "execution_count": 34,
   "id": "1c0530e5-3dcf-4833-ab7b-0e0c56050ec6",
   "metadata": {
    "tags": []
   },
   "outputs": [
    {
     "data": {
      "text/plain": [
       "0.7270444763271162"
      ]
     },
     "execution_count": 34,
     "metadata": {},
     "output_type": "execute_result"
    }
   ],
   "source": [
    "(new_y_pred == y_test).mean()"
   ]
  },
  {
   "cell_type": "code",
   "execution_count": 35,
   "id": "b240bb2e-f423-4237-ab4c-6ec2f8cda71f",
   "metadata": {},
   "outputs": [
    {
     "data": {
      "text/html": [
       "<div>\n",
       "<style scoped>\n",
       "    .dataframe tbody tr th:only-of-type {\n",
       "        vertical-align: middle;\n",
       "    }\n",
       "\n",
       "    .dataframe tbody tr th {\n",
       "        vertical-align: top;\n",
       "    }\n",
       "\n",
       "    .dataframe thead th {\n",
       "        text-align: right;\n",
       "    }\n",
       "</style>\n",
       "<table border=\"1\" class=\"dataframe\">\n",
       "  <thead>\n",
       "    <tr style=\"text-align: right;\">\n",
       "      <th></th>\n",
       "      <th>val_accuracy</th>\n",
       "      <th>test_accuracy</th>\n",
       "      <th>train_accuracy</th>\n",
       "      <th>objective</th>\n",
       "      <th>colsample_bylevel</th>\n",
       "      <th>colsample_bytree</th>\n",
       "      <th>enable_categorical</th>\n",
       "      <th>gamma</th>\n",
       "      <th>learning_rate</th>\n",
       "      <th>max_depth</th>\n",
       "      <th>min_child_weight</th>\n",
       "      <th>n_estimators</th>\n",
       "      <th>subsample</th>\n",
       "      <th>j_jobs</th>\n",
       "      <th>alpha</th>\n",
       "      <th>lambda</th>\n",
       "    </tr>\n",
       "  </thead>\n",
       "  <tbody>\n",
       "    <tr>\n",
       "      <th>0</th>\n",
       "      <td>0.695142</td>\n",
       "      <td>0.694763</td>\n",
       "      <td>0.921206</td>\n",
       "      <td>binary:logistic</td>\n",
       "      <td>None</td>\n",
       "      <td>None</td>\n",
       "      <td>False</td>\n",
       "      <td>None</td>\n",
       "      <td>None</td>\n",
       "      <td>None</td>\n",
       "      <td>None</td>\n",
       "      <td>None</td>\n",
       "      <td>None</td>\n",
       "      <td>16</td>\n",
       "      <td>b''</td>\n",
       "      <td>b''</td>\n",
       "    </tr>\n",
       "    <tr>\n",
       "      <th>1</th>\n",
       "      <td>0.706868</td>\n",
       "      <td>0.714849</td>\n",
       "      <td>0.741442</td>\n",
       "      <td>binary:logistic</td>\n",
       "      <td>0.752074</td>\n",
       "      <td>0.731468</td>\n",
       "      <td>False</td>\n",
       "      <td>0.0</td>\n",
       "      <td>0.000552</td>\n",
       "      <td>10</td>\n",
       "      <td>10.0</td>\n",
       "      <td>800</td>\n",
       "      <td>0.514451</td>\n",
       "      <td>16</td>\n",
       "      <td>0.004166</td>\n",
       "      <td>1.153834</td>\n",
       "    </tr>\n",
       "    <tr>\n",
       "      <th>2</th>\n",
       "      <td>0.686767</td>\n",
       "      <td>0.674319</td>\n",
       "      <td>0.83789</td>\n",
       "      <td>binary:logistic</td>\n",
       "      <td>0.881266</td>\n",
       "      <td>0.694548</td>\n",
       "      <td>False</td>\n",
       "      <td>0.001278</td>\n",
       "      <td>0.496122</td>\n",
       "      <td>3</td>\n",
       "      <td>25.0</td>\n",
       "      <td>400</td>\n",
       "      <td>0.903385</td>\n",
       "      <td>16</td>\n",
       "      <td>0.0</td>\n",
       "      <td>1.101778</td>\n",
       "    </tr>\n",
       "    <tr>\n",
       "      <th>3</th>\n",
       "      <td>0.710218</td>\n",
       "      <td>0.706958</td>\n",
       "      <td>0.786652</td>\n",
       "      <td>binary:logistic</td>\n",
       "      <td>0.616836</td>\n",
       "      <td>0.521055</td>\n",
       "      <td>False</td>\n",
       "      <td>0.439913</td>\n",
       "      <td>0.000989</td>\n",
       "      <td>10</td>\n",
       "      <td>5.0</td>\n",
       "      <td>2200</td>\n",
       "      <td>0.809784</td>\n",
       "      <td>16</td>\n",
       "      <td>0.02024</td>\n",
       "      <td>1.211453</td>\n",
       "    </tr>\n",
       "    <tr>\n",
       "      <th>4</th>\n",
       "      <td>0.708543</td>\n",
       "      <td>0.708034</td>\n",
       "      <td>0.793003</td>\n",
       "      <td>binary:logistic</td>\n",
       "      <td>0.868238</td>\n",
       "      <td>0.886396</td>\n",
       "      <td>False</td>\n",
       "      <td>0.00034</td>\n",
       "      <td>0.000318</td>\n",
       "      <td>10</td>\n",
       "      <td>4.0</td>\n",
       "      <td>3400</td>\n",
       "      <td>0.885167</td>\n",
       "      <td>16</td>\n",
       "      <td>0.000001</td>\n",
       "      <td>2.166095</td>\n",
       "    </tr>\n",
       "    <tr>\n",
       "      <th>...</th>\n",
       "      <td>...</td>\n",
       "      <td>...</td>\n",
       "      <td>...</td>\n",
       "      <td>...</td>\n",
       "      <td>...</td>\n",
       "      <td>...</td>\n",
       "      <td>...</td>\n",
       "      <td>...</td>\n",
       "      <td>...</td>\n",
       "      <td>...</td>\n",
       "      <td>...</td>\n",
       "      <td>...</td>\n",
       "      <td>...</td>\n",
       "      <td>...</td>\n",
       "      <td>...</td>\n",
       "      <td>...</td>\n",
       "    </tr>\n",
       "    <tr>\n",
       "      <th>245</th>\n",
       "      <td>0.703518</td>\n",
       "      <td>0.706958</td>\n",
       "      <td>0.720129</td>\n",
       "      <td>binary:logistic</td>\n",
       "      <td>0.58984</td>\n",
       "      <td>0.778181</td>\n",
       "      <td>False</td>\n",
       "      <td>0.012254</td>\n",
       "      <td>0.000038</td>\n",
       "      <td>4</td>\n",
       "      <td>44.0</td>\n",
       "      <td>5600</td>\n",
       "      <td>0.875928</td>\n",
       "      <td>16</td>\n",
       "      <td>6.214751</td>\n",
       "      <td>2.151331</td>\n",
       "    </tr>\n",
       "    <tr>\n",
       "      <th>246</th>\n",
       "      <td>0.705193</td>\n",
       "      <td>0.704448</td>\n",
       "      <td>0.784177</td>\n",
       "      <td>binary:logistic</td>\n",
       "      <td>0.990864</td>\n",
       "      <td>0.97097</td>\n",
       "      <td>False</td>\n",
       "      <td>1.484036</td>\n",
       "      <td>0.000167</td>\n",
       "      <td>10</td>\n",
       "      <td>1.0</td>\n",
       "      <td>200</td>\n",
       "      <td>0.888938</td>\n",
       "      <td>16</td>\n",
       "      <td>0.606299</td>\n",
       "      <td>2.088959</td>\n",
       "    </tr>\n",
       "    <tr>\n",
       "      <th>247</th>\n",
       "      <td>0.674204</td>\n",
       "      <td>0.677905</td>\n",
       "      <td>0.689343</td>\n",
       "      <td>binary:logistic</td>\n",
       "      <td>0.960903</td>\n",
       "      <td>0.993674</td>\n",
       "      <td>False</td>\n",
       "      <td>3.779007</td>\n",
       "      <td>0.000212</td>\n",
       "      <td>1</td>\n",
       "      <td>3.0</td>\n",
       "      <td>3800</td>\n",
       "      <td>0.977678</td>\n",
       "      <td>16</td>\n",
       "      <td>18.416505</td>\n",
       "      <td>1.333557</td>\n",
       "    </tr>\n",
       "    <tr>\n",
       "      <th>248</th>\n",
       "      <td>0.710218</td>\n",
       "      <td>0.710545</td>\n",
       "      <td>0.787621</td>\n",
       "      <td>binary:logistic</td>\n",
       "      <td>0.694093</td>\n",
       "      <td>0.551256</td>\n",
       "      <td>False</td>\n",
       "      <td>0.005027</td>\n",
       "      <td>0.010736</td>\n",
       "      <td>4</td>\n",
       "      <td>20.0</td>\n",
       "      <td>3800</td>\n",
       "      <td>0.911814</td>\n",
       "      <td>16</td>\n",
       "      <td>0.000608</td>\n",
       "      <td>3.521692</td>\n",
       "    </tr>\n",
       "    <tr>\n",
       "      <th>249</th>\n",
       "      <td>0.688442</td>\n",
       "      <td>0.68472</td>\n",
       "      <td>0.951668</td>\n",
       "      <td>binary:logistic</td>\n",
       "      <td>0.849604</td>\n",
       "      <td>0.580006</td>\n",
       "      <td>False</td>\n",
       "      <td>0.000052</td>\n",
       "      <td>0.036818</td>\n",
       "      <td>5</td>\n",
       "      <td>2.0</td>\n",
       "      <td>2400</td>\n",
       "      <td>0.666962</td>\n",
       "      <td>16</td>\n",
       "      <td>0.0</td>\n",
       "      <td>3.246325</td>\n",
       "    </tr>\n",
       "  </tbody>\n",
       "</table>\n",
       "<p>250 rows × 16 columns</p>\n",
       "</div>"
      ],
      "text/plain": [
       "    val_accuracy test_accuracy train_accuracy        objective  \\\n",
       "0       0.695142      0.694763       0.921206  binary:logistic   \n",
       "1       0.706868      0.714849       0.741442  binary:logistic   \n",
       "2       0.686767      0.674319        0.83789  binary:logistic   \n",
       "3       0.710218      0.706958       0.786652  binary:logistic   \n",
       "4       0.708543      0.708034       0.793003  binary:logistic   \n",
       "..           ...           ...            ...              ...   \n",
       "245     0.703518      0.706958       0.720129  binary:logistic   \n",
       "246     0.705193      0.704448       0.784177  binary:logistic   \n",
       "247     0.674204      0.677905       0.689343  binary:logistic   \n",
       "248     0.710218      0.710545       0.787621  binary:logistic   \n",
       "249     0.688442       0.68472       0.951668  binary:logistic   \n",
       "\n",
       "    colsample_bylevel colsample_bytree enable_categorical     gamma  \\\n",
       "0                None             None              False      None   \n",
       "1            0.752074         0.731468              False       0.0   \n",
       "2            0.881266         0.694548              False  0.001278   \n",
       "3            0.616836         0.521055              False  0.439913   \n",
       "4            0.868238         0.886396              False   0.00034   \n",
       "..                ...              ...                ...       ...   \n",
       "245           0.58984         0.778181              False  0.012254   \n",
       "246          0.990864          0.97097              False  1.484036   \n",
       "247          0.960903         0.993674              False  3.779007   \n",
       "248          0.694093         0.551256              False  0.005027   \n",
       "249          0.849604         0.580006              False  0.000052   \n",
       "\n",
       "    learning_rate max_depth min_child_weight n_estimators subsample j_jobs  \\\n",
       "0            None      None             None         None      None     16   \n",
       "1        0.000552        10             10.0          800  0.514451     16   \n",
       "2        0.496122         3             25.0          400  0.903385     16   \n",
       "3        0.000989        10              5.0         2200  0.809784     16   \n",
       "4        0.000318        10              4.0         3400  0.885167     16   \n",
       "..            ...       ...              ...          ...       ...    ...   \n",
       "245      0.000038         4             44.0         5600  0.875928     16   \n",
       "246      0.000167        10              1.0          200  0.888938     16   \n",
       "247      0.000212         1              3.0         3800  0.977678     16   \n",
       "248      0.010736         4             20.0         3800  0.911814     16   \n",
       "249      0.036818         5              2.0         2400  0.666962     16   \n",
       "\n",
       "         alpha    lambda  \n",
       "0          b''       b''  \n",
       "1     0.004166  1.153834  \n",
       "2          0.0  1.101778  \n",
       "3      0.02024  1.211453  \n",
       "4     0.000001  2.166095  \n",
       "..         ...       ...  \n",
       "245   6.214751  2.151331  \n",
       "246   0.606299  2.088959  \n",
       "247  18.416505  1.333557  \n",
       "248   0.000608  3.521692  \n",
       "249        0.0  3.246325  \n",
       "\n",
       "[250 rows x 16 columns]"
      ]
     },
     "execution_count": 35,
     "metadata": {},
     "output_type": "execute_result"
    }
   ],
   "source": [
    "df_xgboost = load_results_to_dataframe('xgboost-results', 'default-of-credit-card-clients.csv')\n",
    "df_xgboost = df_xgboost.dropna(axis=1, how='all')\n",
    "df_xgboost"
   ]
  },
  {
   "cell_type": "code",
   "execution_count": 47,
   "id": "059ba05d-f6ed-4fb4-bab2-ed20bd065f76",
   "metadata": {
    "tags": []
   },
   "outputs": [],
   "source": [
    "df_xgboost = df_xgboost.drop(columns=df_xgboost.nunique()[df_xgboost.nunique() == 1].index)"
   ]
  },
  {
   "cell_type": "code",
   "execution_count": 50,
   "id": "ff38697a-81ce-4778-9b00-08eab623c252",
   "metadata": {
    "tags": []
   },
   "outputs": [],
   "source": [
    "df_xgboost[df_xgboost.columns[:3]] = df_xgboost[df_xgboost.columns[:3]].apply(pd.to_numeric)"
   ]
  },
  {
   "cell_type": "code",
   "execution_count": 51,
   "id": "7021b0b7-f925-415e-86a3-30f1f70a4ce2",
   "metadata": {
    "tags": []
   },
   "outputs": [
    {
     "data": {
      "text/html": [
       "<div>\n",
       "<style scoped>\n",
       "    .dataframe tbody tr th:only-of-type {\n",
       "        vertical-align: middle;\n",
       "    }\n",
       "\n",
       "    .dataframe tbody tr th {\n",
       "        vertical-align: top;\n",
       "    }\n",
       "\n",
       "    .dataframe thead th {\n",
       "        text-align: right;\n",
       "    }\n",
       "</style>\n",
       "<table border=\"1\" class=\"dataframe\">\n",
       "  <thead>\n",
       "    <tr style=\"text-align: right;\">\n",
       "      <th></th>\n",
       "      <th>val_accuracy</th>\n",
       "      <th>test_accuracy</th>\n",
       "      <th>train_accuracy</th>\n",
       "      <th>colsample_bylevel</th>\n",
       "      <th>colsample_bytree</th>\n",
       "      <th>gamma</th>\n",
       "      <th>learning_rate</th>\n",
       "      <th>max_depth</th>\n",
       "      <th>min_child_weight</th>\n",
       "      <th>n_estimators</th>\n",
       "      <th>subsample</th>\n",
       "      <th>alpha</th>\n",
       "      <th>lambda</th>\n",
       "    </tr>\n",
       "  </thead>\n",
       "  <tbody>\n",
       "    <tr>\n",
       "      <th>0</th>\n",
       "      <td>0.695142</td>\n",
       "      <td>0.694763</td>\n",
       "      <td>0.921206</td>\n",
       "      <td>None</td>\n",
       "      <td>None</td>\n",
       "      <td>None</td>\n",
       "      <td>None</td>\n",
       "      <td>None</td>\n",
       "      <td>None</td>\n",
       "      <td>None</td>\n",
       "      <td>None</td>\n",
       "      <td>b''</td>\n",
       "      <td>b''</td>\n",
       "    </tr>\n",
       "    <tr>\n",
       "      <th>1</th>\n",
       "      <td>0.706868</td>\n",
       "      <td>0.714849</td>\n",
       "      <td>0.741442</td>\n",
       "      <td>0.752074</td>\n",
       "      <td>0.731468</td>\n",
       "      <td>0.0</td>\n",
       "      <td>0.000552</td>\n",
       "      <td>10</td>\n",
       "      <td>10.0</td>\n",
       "      <td>800</td>\n",
       "      <td>0.514451</td>\n",
       "      <td>0.004166</td>\n",
       "      <td>1.153834</td>\n",
       "    </tr>\n",
       "    <tr>\n",
       "      <th>2</th>\n",
       "      <td>0.686767</td>\n",
       "      <td>0.674319</td>\n",
       "      <td>0.837890</td>\n",
       "      <td>0.881266</td>\n",
       "      <td>0.694548</td>\n",
       "      <td>0.001278</td>\n",
       "      <td>0.496122</td>\n",
       "      <td>3</td>\n",
       "      <td>25.0</td>\n",
       "      <td>400</td>\n",
       "      <td>0.903385</td>\n",
       "      <td>0.0</td>\n",
       "      <td>1.101778</td>\n",
       "    </tr>\n",
       "    <tr>\n",
       "      <th>3</th>\n",
       "      <td>0.710218</td>\n",
       "      <td>0.706958</td>\n",
       "      <td>0.786652</td>\n",
       "      <td>0.616836</td>\n",
       "      <td>0.521055</td>\n",
       "      <td>0.439913</td>\n",
       "      <td>0.000989</td>\n",
       "      <td>10</td>\n",
       "      <td>5.0</td>\n",
       "      <td>2200</td>\n",
       "      <td>0.809784</td>\n",
       "      <td>0.02024</td>\n",
       "      <td>1.211453</td>\n",
       "    </tr>\n",
       "    <tr>\n",
       "      <th>4</th>\n",
       "      <td>0.708543</td>\n",
       "      <td>0.708034</td>\n",
       "      <td>0.793003</td>\n",
       "      <td>0.868238</td>\n",
       "      <td>0.886396</td>\n",
       "      <td>0.00034</td>\n",
       "      <td>0.000318</td>\n",
       "      <td>10</td>\n",
       "      <td>4.0</td>\n",
       "      <td>3400</td>\n",
       "      <td>0.885167</td>\n",
       "      <td>0.000001</td>\n",
       "      <td>2.166095</td>\n",
       "    </tr>\n",
       "    <tr>\n",
       "      <th>...</th>\n",
       "      <td>...</td>\n",
       "      <td>...</td>\n",
       "      <td>...</td>\n",
       "      <td>...</td>\n",
       "      <td>...</td>\n",
       "      <td>...</td>\n",
       "      <td>...</td>\n",
       "      <td>...</td>\n",
       "      <td>...</td>\n",
       "      <td>...</td>\n",
       "      <td>...</td>\n",
       "      <td>...</td>\n",
       "      <td>...</td>\n",
       "    </tr>\n",
       "    <tr>\n",
       "      <th>245</th>\n",
       "      <td>0.703518</td>\n",
       "      <td>0.706958</td>\n",
       "      <td>0.720129</td>\n",
       "      <td>0.58984</td>\n",
       "      <td>0.778181</td>\n",
       "      <td>0.012254</td>\n",
       "      <td>0.000038</td>\n",
       "      <td>4</td>\n",
       "      <td>44.0</td>\n",
       "      <td>5600</td>\n",
       "      <td>0.875928</td>\n",
       "      <td>6.214751</td>\n",
       "      <td>2.151331</td>\n",
       "    </tr>\n",
       "    <tr>\n",
       "      <th>246</th>\n",
       "      <td>0.705193</td>\n",
       "      <td>0.704448</td>\n",
       "      <td>0.784177</td>\n",
       "      <td>0.990864</td>\n",
       "      <td>0.97097</td>\n",
       "      <td>1.484036</td>\n",
       "      <td>0.000167</td>\n",
       "      <td>10</td>\n",
       "      <td>1.0</td>\n",
       "      <td>200</td>\n",
       "      <td>0.888938</td>\n",
       "      <td>0.606299</td>\n",
       "      <td>2.088959</td>\n",
       "    </tr>\n",
       "    <tr>\n",
       "      <th>247</th>\n",
       "      <td>0.674204</td>\n",
       "      <td>0.677905</td>\n",
       "      <td>0.689343</td>\n",
       "      <td>0.960903</td>\n",
       "      <td>0.993674</td>\n",
       "      <td>3.779007</td>\n",
       "      <td>0.000212</td>\n",
       "      <td>1</td>\n",
       "      <td>3.0</td>\n",
       "      <td>3800</td>\n",
       "      <td>0.977678</td>\n",
       "      <td>18.416505</td>\n",
       "      <td>1.333557</td>\n",
       "    </tr>\n",
       "    <tr>\n",
       "      <th>248</th>\n",
       "      <td>0.710218</td>\n",
       "      <td>0.710545</td>\n",
       "      <td>0.787621</td>\n",
       "      <td>0.694093</td>\n",
       "      <td>0.551256</td>\n",
       "      <td>0.005027</td>\n",
       "      <td>0.010736</td>\n",
       "      <td>4</td>\n",
       "      <td>20.0</td>\n",
       "      <td>3800</td>\n",
       "      <td>0.911814</td>\n",
       "      <td>0.000608</td>\n",
       "      <td>3.521692</td>\n",
       "    </tr>\n",
       "    <tr>\n",
       "      <th>249</th>\n",
       "      <td>0.688442</td>\n",
       "      <td>0.684720</td>\n",
       "      <td>0.951668</td>\n",
       "      <td>0.849604</td>\n",
       "      <td>0.580006</td>\n",
       "      <td>0.000052</td>\n",
       "      <td>0.036818</td>\n",
       "      <td>5</td>\n",
       "      <td>2.0</td>\n",
       "      <td>2400</td>\n",
       "      <td>0.666962</td>\n",
       "      <td>0.0</td>\n",
       "      <td>3.246325</td>\n",
       "    </tr>\n",
       "  </tbody>\n",
       "</table>\n",
       "<p>250 rows × 13 columns</p>\n",
       "</div>"
      ],
      "text/plain": [
       "     val_accuracy  test_accuracy  train_accuracy colsample_bylevel  \\\n",
       "0        0.695142       0.694763        0.921206              None   \n",
       "1        0.706868       0.714849        0.741442          0.752074   \n",
       "2        0.686767       0.674319        0.837890          0.881266   \n",
       "3        0.710218       0.706958        0.786652          0.616836   \n",
       "4        0.708543       0.708034        0.793003          0.868238   \n",
       "..            ...            ...             ...               ...   \n",
       "245      0.703518       0.706958        0.720129           0.58984   \n",
       "246      0.705193       0.704448        0.784177          0.990864   \n",
       "247      0.674204       0.677905        0.689343          0.960903   \n",
       "248      0.710218       0.710545        0.787621          0.694093   \n",
       "249      0.688442       0.684720        0.951668          0.849604   \n",
       "\n",
       "    colsample_bytree     gamma learning_rate max_depth min_child_weight  \\\n",
       "0               None      None          None      None             None   \n",
       "1           0.731468       0.0      0.000552        10             10.0   \n",
       "2           0.694548  0.001278      0.496122         3             25.0   \n",
       "3           0.521055  0.439913      0.000989        10              5.0   \n",
       "4           0.886396   0.00034      0.000318        10              4.0   \n",
       "..               ...       ...           ...       ...              ...   \n",
       "245         0.778181  0.012254      0.000038         4             44.0   \n",
       "246          0.97097  1.484036      0.000167        10              1.0   \n",
       "247         0.993674  3.779007      0.000212         1              3.0   \n",
       "248         0.551256  0.005027      0.010736         4             20.0   \n",
       "249         0.580006  0.000052      0.036818         5              2.0   \n",
       "\n",
       "    n_estimators subsample      alpha    lambda  \n",
       "0           None      None        b''       b''  \n",
       "1            800  0.514451   0.004166  1.153834  \n",
       "2            400  0.903385        0.0  1.101778  \n",
       "3           2200  0.809784    0.02024  1.211453  \n",
       "4           3400  0.885167   0.000001  2.166095  \n",
       "..           ...       ...        ...       ...  \n",
       "245         5600  0.875928   6.214751  2.151331  \n",
       "246          200  0.888938   0.606299  2.088959  \n",
       "247         3800  0.977678  18.416505  1.333557  \n",
       "248         3800  0.911814   0.000608  3.521692  \n",
       "249         2400  0.666962        0.0  3.246325  \n",
       "\n",
       "[250 rows x 13 columns]"
      ]
     },
     "execution_count": 51,
     "metadata": {},
     "output_type": "execute_result"
    }
   ],
   "source": [
    "df_xgboost"
   ]
  },
  {
   "attachments": {
    "df6e6451-8dad-4b24-b90c-9d6577fa7920.png": {
     "image/png": "[encoded data removed]"
    }
   },
   "cell_type": "markdown",
   "id": "084c4b86-83d5-4040-85a9-64e52f0e669b",
   "metadata": {},
   "source": [
    "![image.png](attachment:df6e6451-8dad-4b24-b90c-9d6577fa7920.png)"
   ]
  },
  {
   "cell_type": "code",
   "execution_count": 54,
   "id": "856093bf-c288-444b-b474-afe0e6cfca58",
   "metadata": {
    "tags": []
   },
   "outputs": [],
   "source": [
    "df_xgboost.loc[:, ['colsample_bylevel', 'colsample_bytree']] = df_xgboost.loc[:, ['colsample_bylevel', 'colsample_bytree']].fillna(1)"
   ]
  },
  {
   "cell_type": "code",
   "execution_count": 73,
   "id": "d2df632e-31f1-4cf5-88b4-63a7450e6f9b",
   "metadata": {
    "tags": []
   },
   "outputs": [],
   "source": [
    "df_xgboost[['colsample_bylevel', 'colsample_bytree']] = df_xgboost[['colsample_bylevel', 'colsample_bytree']].astype(np.float32)"
   ]
  },
  {
   "cell_type": "code",
   "execution_count": 74,
   "id": "0bd4ff80-84f1-4828-b226-1fc16b9789af",
   "metadata": {
    "tags": []
   },
   "outputs": [
    {
     "data": {
      "text/plain": [
       "val_accuracy         float64\n",
       "test_accuracy        float64\n",
       "train_accuracy       float64\n",
       "colsample_bylevel    float32\n",
       "colsample_bytree     float32\n",
       "gamma                 object\n",
       "learning_rate         object\n",
       "max_depth             object\n",
       "min_child_weight      object\n",
       "n_estimators          object\n",
       "subsample             object\n",
       "alpha                 object\n",
       "lambda                object\n",
       "dtype: object"
      ]
     },
     "execution_count": 74,
     "metadata": {},
     "output_type": "execute_result"
    }
   ],
   "source": [
    "df_xgboost.dtypes"
   ]
  },
  {
   "cell_type": "code",
   "execution_count": 67,
   "id": "7f8b760a-da77-418e-a7eb-14f7a06273ce",
   "metadata": {
    "tags": []
   },
   "outputs": [
    {
     "data": {
      "text/plain": [
       "array([1.0, 0.7520743608474731, 0.8812658190727234, 0.6168357729911804,\n",
       "       0.8682377338409424, 0.8902057409286499, 0.9323362708091736,\n",
       "       0.63393235206604, 0.5564295649528503, 0.6499890089035034,\n",
       "       0.7278860807418823, 0.8966934680938721, 0.8473325967788696,\n",
       "       0.8036309480667114, 0.8246055245399475, 0.8440831899642944,\n",
       "       0.5256220102310181, 0.5090665817260742, 0.8274712562561035,\n",
       "       0.8385642170906067, 0.7035546898841858, 0.9908639788627625,\n",
       "       0.5908359289169312, 0.8586646914482117, 0.6384655237197876,\n",
       "       0.6150479316711426, 0.872950553894043, 0.7436403632164001,\n",
       "       0.5454704761505127, 0.8611246347427368, 0.9011490941047668,\n",
       "       0.7252033948898315, 0.9609029293060303, 0.8496043682098389,\n",
       "       0.9460366368293762, 0.6940926909446716, 0.5804882645606995,\n",
       "       0.8767207264900208, 0.5764920115470886, 0.7823219895362854,\n",
       "       0.942902147769928, 0.6121955513954163, 0.7199851870536804,\n",
       "       0.5898402333259583, 0.5056997537612915, 0.7599172592163086,\n",
       "       0.9800822138786316, 0.8839082717895508, 0.7787566184997559,\n",
       "       0.5541012287139893, 0.8038066029548645], dtype=object)"
      ]
     },
     "execution_count": 67,
     "metadata": {},
     "output_type": "execute_result"
    }
   ],
   "source": [
    "df_xgboost['colsample_bylevel'].unique()"
   ]
  },
  {
   "cell_type": "code",
   "execution_count": 70,
   "id": "aad91d65-68ee-412a-8b69-b30a1c1e8725",
   "metadata": {
    "tags": []
   },
   "outputs": [],
   "source": [
    "df_xgboost['colsample_bylevel'] = df_xgboost['colsample_bylevel'].astype(float)"
   ]
  },
  {
   "cell_type": "code",
   "execution_count": 71,
   "id": "d17364ed-6344-422e-bec5-e9b12824c5ef",
   "metadata": {
    "tags": []
   },
   "outputs": [
    {
     "data": {
      "text/plain": [
       "val_accuracy         float64\n",
       "test_accuracy        float64\n",
       "train_accuracy       float64\n",
       "colsample_bylevel    float64\n",
       "colsample_bytree      object\n",
       "gamma                 object\n",
       "learning_rate         object\n",
       "max_depth             object\n",
       "min_child_weight      object\n",
       "n_estimators          object\n",
       "subsample             object\n",
       "alpha                 object\n",
       "lambda                object\n",
       "dtype: object"
      ]
     },
     "execution_count": 71,
     "metadata": {},
     "output_type": "execute_result"
    }
   ],
   "source": [
    "df_xgboost.dtypes"
   ]
  },
  {
   "cell_type": "code",
   "execution_count": null,
   "id": "534fc3fc-4aac-40b0-9907-7cb38d5d5dce",
   "metadata": {},
   "outputs": [],
   "source": []
  }
 ],
 "metadata": {
  "kernelspec": {
   "display_name": "data_science",
   "language": "python",
   "name": "data_science"
  },
  "language_info": {
   "codemirror_mode": {
    "name": "ipython",
    "version": 3
   },
   "file_extension": ".py",
   "mimetype": "text/x-python",
   "name": "python",
   "nbconvert_exporter": "python",
   "pygments_lexer": "ipython3",
   "version": "3.10.13"
  }
 },
 "nbformat": 4,
 "nbformat_minor": 5
}
