{
 "cells": [
  {
   "cell_type": "code",
   "execution_count": 23,
   "id": "80102327-a537-4d3d-910c-6feafc6fec2a",
   "metadata": {
    "tags": []
   },
   "outputs": [],
   "source": [
    "from huggingface_hub import hf_hub_download\n",
    "import pandas as pd\n",
    "import numpy as np\n",
    "import matplotlib.pyplot as plt\n",
    "import pickle\n",
    "\n",
    "from hyperopt import hp, tpe, fmin, Trials\n",
    "from hyperopt.pyll.base import scope\n",
    "from sklearn.model_selection import train_test_split, cross_val_score\n",
    "from xgboost import XGBClassifier, XGBRegressor\n",
    "from sklearn.metrics import r2_score, accuracy_score\n",
    "from sklearn.preprocessing import LabelEncoder\n",
    "from sklearn.ensemble import RandomForestRegressor, RandomForestClassifier, GradientBoostingRegressor, GradientBoostingClassifier\n",
    "\n",
    "from preprocessing.utils import *"
   ]
  },
  {
   "cell_type": "code",
   "execution_count": 7,
   "id": "0193690b-7602-4aa3-86b5-c15cadb920aa",
   "metadata": {
    "tags": []
   },
   "outputs": [],
   "source": [
    "!set HF_HUB_DISABLE_SYMLINKS_WARNING=true"
   ]
  },
  {
   "cell_type": "code",
   "execution_count": 14,
   "id": "dccb0a4a-8826-4698-8cd6-4a2bc88cbb18",
   "metadata": {
    "tags": []
   },
   "outputs": [],
   "source": [
    "dataset = 'clf_num/bank-marketing.csv'\n",
    "dataset2 = 'clf_cat/electricity.csv'\n",
    "REPO_ID = \"inria-soda/tabular-benchmark\""
   ]
  },
  {
   "cell_type": "code",
   "execution_count": 15,
   "id": "ddbf3f52-8dfa-4c94-b02e-6726533d5197",
   "metadata": {
    "tags": []
   },
   "outputs": [
    {
     "data": {
      "text/html": [
       "<div>\n",
       "<style scoped>\n",
       "    .dataframe tbody tr th:only-of-type {\n",
       "        vertical-align: middle;\n",
       "    }\n",
       "\n",
       "    .dataframe tbody tr th {\n",
       "        vertical-align: top;\n",
       "    }\n",
       "\n",
       "    .dataframe thead th {\n",
       "        text-align: right;\n",
       "    }\n",
       "</style>\n",
       "<table border=\"1\" class=\"dataframe\">\n",
       "  <thead>\n",
       "    <tr style=\"text-align: right;\">\n",
       "      <th></th>\n",
       "      <th>date</th>\n",
       "      <th>day</th>\n",
       "      <th>period</th>\n",
       "      <th>nswprice</th>\n",
       "      <th>nswdemand</th>\n",
       "      <th>vicprice</th>\n",
       "      <th>vicdemand</th>\n",
       "      <th>transfer</th>\n",
       "      <th>class</th>\n",
       "    </tr>\n",
       "  </thead>\n",
       "  <tbody>\n",
       "    <tr>\n",
       "      <th>0</th>\n",
       "      <td>0.898987</td>\n",
       "      <td>2</td>\n",
       "      <td>0.957447</td>\n",
       "      <td>0.068632</td>\n",
       "      <td>0.568283</td>\n",
       "      <td>0.004456</td>\n",
       "      <td>0.456499</td>\n",
       "      <td>0.644737</td>\n",
       "      <td>DOWN</td>\n",
       "    </tr>\n",
       "    <tr>\n",
       "      <th>1</th>\n",
       "      <td>0.867616</td>\n",
       "      <td>5</td>\n",
       "      <td>0.234043</td>\n",
       "      <td>0.033716</td>\n",
       "      <td>0.337102</td>\n",
       "      <td>0.001672</td>\n",
       "      <td>0.329622</td>\n",
       "      <td>0.846930</td>\n",
       "      <td>DOWN</td>\n",
       "    </tr>\n",
       "    <tr>\n",
       "      <th>2</th>\n",
       "      <td>0.009159</td>\n",
       "      <td>6</td>\n",
       "      <td>0.255319</td>\n",
       "      <td>0.059175</td>\n",
       "      <td>0.185808</td>\n",
       "      <td>0.003467</td>\n",
       "      <td>0.422915</td>\n",
       "      <td>0.414912</td>\n",
       "      <td>DOWN</td>\n",
       "    </tr>\n",
       "    <tr>\n",
       "      <th>3</th>\n",
       "      <td>0.898987</td>\n",
       "      <td>2</td>\n",
       "      <td>0.531915</td>\n",
       "      <td>0.087577</td>\n",
       "      <td>0.539572</td>\n",
       "      <td>0.004936</td>\n",
       "      <td>0.637752</td>\n",
       "      <td>0.491667</td>\n",
       "      <td>DOWN</td>\n",
       "    </tr>\n",
       "    <tr>\n",
       "      <th>4</th>\n",
       "      <td>0.868280</td>\n",
       "      <td>6</td>\n",
       "      <td>0.085106</td>\n",
       "      <td>0.027021</td>\n",
       "      <td>0.165129</td>\n",
       "      <td>0.001271</td>\n",
       "      <td>0.265924</td>\n",
       "      <td>0.748246</td>\n",
       "      <td>DOWN</td>\n",
       "    </tr>\n",
       "    <tr>\n",
       "      <th>...</th>\n",
       "      <td>...</td>\n",
       "      <td>...</td>\n",
       "      <td>...</td>\n",
       "      <td>...</td>\n",
       "      <td>...</td>\n",
       "      <td>...</td>\n",
       "      <td>...</td>\n",
       "      <td>...</td>\n",
       "      <td>...</td>\n",
       "    </tr>\n",
       "    <tr>\n",
       "      <th>38469</th>\n",
       "      <td>0.915800</td>\n",
       "      <td>6</td>\n",
       "      <td>0.404255</td>\n",
       "      <td>0.077549</td>\n",
       "      <td>0.456263</td>\n",
       "      <td>0.005332</td>\n",
       "      <td>0.378560</td>\n",
       "      <td>0.356140</td>\n",
       "      <td>UP</td>\n",
       "    </tr>\n",
       "    <tr>\n",
       "      <th>38470</th>\n",
       "      <td>0.915800</td>\n",
       "      <td>6</td>\n",
       "      <td>0.425532</td>\n",
       "      <td>0.074397</td>\n",
       "      <td>0.444213</td>\n",
       "      <td>0.005110</td>\n",
       "      <td>0.377525</td>\n",
       "      <td>0.369737</td>\n",
       "      <td>UP</td>\n",
       "    </tr>\n",
       "    <tr>\n",
       "      <th>38471</th>\n",
       "      <td>0.915800</td>\n",
       "      <td>6</td>\n",
       "      <td>0.468085</td>\n",
       "      <td>0.072835</td>\n",
       "      <td>0.423386</td>\n",
       "      <td>0.005019</td>\n",
       "      <td>0.354480</td>\n",
       "      <td>0.380263</td>\n",
       "      <td>UP</td>\n",
       "    </tr>\n",
       "    <tr>\n",
       "      <th>38472</th>\n",
       "      <td>0.915800</td>\n",
       "      <td>6</td>\n",
       "      <td>0.829787</td>\n",
       "      <td>0.065420</td>\n",
       "      <td>0.353913</td>\n",
       "      <td>0.004508</td>\n",
       "      <td>0.319524</td>\n",
       "      <td>0.319737</td>\n",
       "      <td>UP</td>\n",
       "    </tr>\n",
       "    <tr>\n",
       "      <th>38473</th>\n",
       "      <td>0.915800</td>\n",
       "      <td>6</td>\n",
       "      <td>0.978723</td>\n",
       "      <td>0.066651</td>\n",
       "      <td>0.329366</td>\n",
       "      <td>0.004630</td>\n",
       "      <td>0.345417</td>\n",
       "      <td>0.206579</td>\n",
       "      <td>UP</td>\n",
       "    </tr>\n",
       "  </tbody>\n",
       "</table>\n",
       "<p>38474 rows × 9 columns</p>\n",
       "</div>"
      ],
      "text/plain": [
       "           date  day    period  nswprice  nswdemand  vicprice  vicdemand  \\\n",
       "0      0.898987    2  0.957447  0.068632   0.568283  0.004456   0.456499   \n",
       "1      0.867616    5  0.234043  0.033716   0.337102  0.001672   0.329622   \n",
       "2      0.009159    6  0.255319  0.059175   0.185808  0.003467   0.422915   \n",
       "3      0.898987    2  0.531915  0.087577   0.539572  0.004936   0.637752   \n",
       "4      0.868280    6  0.085106  0.027021   0.165129  0.001271   0.265924   \n",
       "...         ...  ...       ...       ...        ...       ...        ...   \n",
       "38469  0.915800    6  0.404255  0.077549   0.456263  0.005332   0.378560   \n",
       "38470  0.915800    6  0.425532  0.074397   0.444213  0.005110   0.377525   \n",
       "38471  0.915800    6  0.468085  0.072835   0.423386  0.005019   0.354480   \n",
       "38472  0.915800    6  0.829787  0.065420   0.353913  0.004508   0.319524   \n",
       "38473  0.915800    6  0.978723  0.066651   0.329366  0.004630   0.345417   \n",
       "\n",
       "       transfer class  \n",
       "0      0.644737  DOWN  \n",
       "1      0.846930  DOWN  \n",
       "2      0.414912  DOWN  \n",
       "3      0.491667  DOWN  \n",
       "4      0.748246  DOWN  \n",
       "...         ...   ...  \n",
       "38469  0.356140    UP  \n",
       "38470  0.369737    UP  \n",
       "38471  0.380263    UP  \n",
       "38472  0.319737    UP  \n",
       "38473  0.206579    UP  \n",
       "\n",
       "[38474 rows x 9 columns]"
      ]
     },
     "execution_count": 15,
     "metadata": {},
     "output_type": "execute_result"
    }
   ],
   "source": [
    "df = pd.read_csv(\n",
    "    hf_hub_download(repo_id=REPO_ID, filename=dataset2, repo_type=\"dataset\")\n",
    ")\n",
    "df"
   ]
  },
  {
   "cell_type": "code",
   "execution_count": 27,
   "id": "f086661e-7551-4802-87d4-2372d1d35aaa",
   "metadata": {
    "tags": []
   },
   "outputs": [
    {
     "name": "stdout",
     "output_type": "stream",
     "text": [
      "Removed 0 rows with missing values on 38474 rows\n",
      "Removed 0 columns with missing values on 8 columns\n",
      "Removed 0 rows with missing values on 38474 rows\n",
      "Removed 1 columns with pseudo-categorical values on 8 columns\n",
      "high cardinality columns: Index([], dtype='object')\n",
      "Removed 0 high-cardinality categorical features\n",
      "Running XGBoosting\n",
      "100%|███████████████████████████████████████████████| 20/20 [01:40<00:00,  5.02s/trial, best loss: -0.8821490467937608]\n"
     ]
    }
   ],
   "source": [
    "np.random.seed(42)\n",
    "clf_cat_xgboost_scores = []\n",
    "\n",
    "df = pd.read_csv(\n",
    "    hf_hub_download(repo_id=REPO_ID, filename=dataset2, repo_type=\"dataset\")\n",
    ")\n",
    "X, y = df.iloc[:, :-1], df.iloc[:, -1]\n",
    "X, y = preprocess_data(X, y, isCategorical=True)\n",
    "(X_train, y_train), (X_val, y_val), (X_test, y_test) = split_data(X, y, isCategorical=True)\n",
    "\n",
    "# XGBoost\n",
    "print('Running XGBoosting')\n",
    "hyperparameter_space = {\n",
    "    'max_depth': hp.uniformint('max_depth', 1, 11),\n",
    "    'n_estimators': hp.quniform('n_estimators', 100, 6000, 200),\n",
    "    'min_child_weight': hp.qloguniform('min_child_weight', np.log(1), np.log(1e2), 1),\n",
    "    'subsample': hp.uniform('subsample', 0.5, 1.0),\n",
    "    'learning_rate': hp.loguniform('learning_rate', np.log(1e-5), np.log(0.7)),\n",
    "    'colsample_bylevel': hp.uniform('colsample_bylevel', 0.5, 1.0),\n",
    "    'colsample_bytree': hp.uniform('colsample_bytree', 0.5, 1.0),\n",
    "    'gamma': hp.loguniform('gamma', np.log(1e-8), np.log(7)),\n",
    "    'lambda': hp.loguniform('lambda', np.log(1), np.log(4)),\n",
    "    'alpha': hp.loguniform('alpha', np.log(1e-8), np.log(1e2))\n",
    "}\n",
    "\n",
    "def objective_function(hyperparameters):\n",
    "    global iteration_n\n",
    "    if iteration_n == 0:\n",
    "        model = XGBClassifier()\n",
    "    else :\n",
    "        hyperparameters['max_depth'] = int(hyperparameters['max_depth'])\n",
    "        hyperparameters['n_estimators'] = int(hyperparameters['n_estimators'])\n",
    "        hyperparameters['min_child_weight'] = int(hyperparameters['min_child_weight'])\n",
    "        model = XGBClassifier(**hyperparameters)\n",
    "    iteration_n += 1\n",
    "    # score = -np.mean(cross_val_score(model, train_data.iloc[:, :-1], train_data.iloc[:, -1], cv=5, scoring='accuracy'))\n",
    "    model.fit(X_train, y_train)\n",
    "    y_predict = model.predict(X_val)\n",
    "    score = -accuracy_score(y_val, y_predict)\n",
    "\n",
    "    return score\n",
    "\n",
    "trials = Trials()\n",
    "iteration_n = 0\n",
    "best_hyperparameters = fmin(objective_function, hyperparameter_space, algo=tpe.suggest, max_evals=20, trials=trials)\n",
    "scores_round = -1 * np.array(trials.losses())\n",
    "\n",
    "with open(f'best_clf_cat_xgboost_params.pkl', 'wb') as f:\n",
    "    pickle.dump(best_hyperparameters, f)\n",
    "clf_cat_xgboost_scores = scores_round.tolist()\n",
    "\n"
   ]
  },
  {
   "cell_type": "code",
   "execution_count": 28,
   "id": "9852f5f6-9d31-4597-8937-59430aad9595",
   "metadata": {
    "tags": []
   },
   "outputs": [
    {
     "data": {
      "text/plain": [
       "Text(0, 0.5, 'Accuracy')"
      ]
     },
     "execution_count": 28,
     "metadata": {},
     "output_type": "execute_result"
    },
    {
     "data": {
      "image/png": "[encoded data removed]",
      "text/plain": [
       "<Figure size 640x480 with 1 Axes>"
      ]
     },
     "metadata": {},
     "output_type": "display_data"
    }
   ],
   "source": [
    "plt.plot(range(20), clf_cat_xgboost_scores)\n",
    "plt.title('XGBoost Accuracy')\n",
    "plt.xlabel('Epochs')\n",
    "plt.ylabel('Accuracy')"
   ]
  },
  {
   "cell_type": "code",
   "execution_count": 29,
   "id": "baf2b40b-8a66-49b6-9d2b-3b2a7ddee1d0",
   "metadata": {
    "tags": []
   },
   "outputs": [
    {
     "data": {
      "text/plain": [
       "{'alpha': 0.007545319602241652,\n",
       " 'colsample_bylevel': 0.9341343721174034,\n",
       " 'colsample_bytree': 0.966385266302286,\n",
       " 'gamma': 1.4771480361259994,\n",
       " 'lambda': 1.251232044956577,\n",
       " 'learning_rate': 0.09479197333851368,\n",
       " 'max_depth': 9.0,\n",
       " 'min_child_weight': 2.0,\n",
       " 'n_estimators': 3800.0,\n",
       " 'subsample': 0.8031415248129838}"
      ]
     },
     "execution_count": 29,
     "metadata": {},
     "output_type": "execute_result"
    }
   ],
   "source": [
    "best_hyperparameters"
   ]
  },
  {
   "cell_type": "code",
   "execution_count": 31,
   "id": "a95083a5-c78e-4424-8c66-1c44ff94e2bb",
   "metadata": {
    "tags": []
   },
   "outputs": [
    {
     "data": {
      "text/plain": [
       "{'state': 2,\n",
       " 'tid': 13,\n",
       " 'spec': None,\n",
       " 'result': {'loss': -0.8821490467937608, 'status': 'ok'},\n",
       " 'misc': {'tid': 13,\n",
       "  'cmd': ('domain_attachment', 'FMinIter_Domain'),\n",
       "  'workdir': None,\n",
       "  'idxs': {'alpha': [13],\n",
       "   'colsample_bylevel': [13],\n",
       "   'colsample_bytree': [13],\n",
       "   'gamma': [13],\n",
       "   'lambda': [13],\n",
       "   'learning_rate': [13],\n",
       "   'max_depth': [13],\n",
       "   'min_child_weight': [13],\n",
       "   'n_estimators': [13],\n",
       "   'subsample': [13]},\n",
       "  'vals': {'alpha': [0.007545319602241652],\n",
       "   'colsample_bylevel': [0.9341343721174034],\n",
       "   'colsample_bytree': [0.966385266302286],\n",
       "   'gamma': [1.4771480361259994],\n",
       "   'lambda': [1.251232044956577],\n",
       "   'learning_rate': [0.09479197333851368],\n",
       "   'max_depth': [9.0],\n",
       "   'min_child_weight': [2.0],\n",
       "   'n_estimators': [3800.0],\n",
       "   'subsample': [0.8031415248129838]}},\n",
       " 'exp_key': None,\n",
       " 'owner': None,\n",
       " 'version': 0,\n",
       " 'book_time': datetime.datetime(2024, 5, 17, 4, 23, 28, 863000),\n",
       " 'refresh_time': datetime.datetime(2024, 5, 17, 4, 23, 32, 245000)}"
      ]
     },
     "execution_count": 31,
     "metadata": {},
     "output_type": "execute_result"
    }
   ],
   "source": [
    "trials.best_trial"
   ]
  },
  {
   "cell_type": "code",
   "execution_count": null,
   "id": "c56068f0-759c-4d4b-85e2-3766ef25b77a",
   "metadata": {},
   "outputs": [],
   "source": []
  }
 ],
 "metadata": {
  "kernelspec": {
   "display_name": "data_science",
   "language": "python",
   "name": "data_science"
  },
  "language_info": {
   "codemirror_mode": {
    "name": "ipython",
    "version": 3
   },
   "file_extension": ".py",
   "mimetype": "text/x-python",
   "name": "python",
   "nbconvert_exporter": "python",
   "pygments_lexer": "ipython3",
   "version": "3.10.13"
  }
 },
 "nbformat": 4,
 "nbformat_minor": 5
}
