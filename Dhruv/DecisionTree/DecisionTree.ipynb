{
 "cells": [
  {
   "cell_type": "code",
   "execution_count": 1,
   "id": "e109a878-02ac-4d8b-8b28-e24a02ca6cac",
   "metadata": {
    "tags": []
   },
   "outputs": [],
   "source": [
    "import numpy as np\n",
    "import pandas as pd"
   ]
  },
  {
   "cell_type": "code",
   "execution_count": 2,
   "id": "553434e7-b335-4013-affe-51a6afd15ba7",
   "metadata": {
    "tags": []
   },
   "outputs": [
    {
     "data": {
      "text/html": [
       "<div>\n",
       "<style scoped>\n",
       "    .dataframe tbody tr th:only-of-type {\n",
       "        vertical-align: middle;\n",
       "    }\n",
       "\n",
       "    .dataframe tbody tr th {\n",
       "        vertical-align: top;\n",
       "    }\n",
       "\n",
       "    .dataframe thead th {\n",
       "        text-align: right;\n",
       "    }\n",
       "</style>\n",
       "<table border=\"1\" class=\"dataframe\">\n",
       "  <thead>\n",
       "    <tr style=\"text-align: right;\">\n",
       "      <th></th>\n",
       "      <th>Loves Popcorn</th>\n",
       "      <th>Loves Soda</th>\n",
       "      <th>Age</th>\n",
       "      <th>Loves Movies</th>\n",
       "    </tr>\n",
       "  </thead>\n",
       "  <tbody>\n",
       "    <tr>\n",
       "      <th>0</th>\n",
       "      <td>Yes</td>\n",
       "      <td>Yes</td>\n",
       "      <td>7</td>\n",
       "      <td>No</td>\n",
       "    </tr>\n",
       "    <tr>\n",
       "      <th>1</th>\n",
       "      <td>Yes</td>\n",
       "      <td>No</td>\n",
       "      <td>12</td>\n",
       "      <td>No</td>\n",
       "    </tr>\n",
       "    <tr>\n",
       "      <th>2</th>\n",
       "      <td>No</td>\n",
       "      <td>Yes</td>\n",
       "      <td>18</td>\n",
       "      <td>Yes</td>\n",
       "    </tr>\n",
       "    <tr>\n",
       "      <th>3</th>\n",
       "      <td>No</td>\n",
       "      <td>Yes</td>\n",
       "      <td>35</td>\n",
       "      <td>Yes</td>\n",
       "    </tr>\n",
       "    <tr>\n",
       "      <th>4</th>\n",
       "      <td>Yes</td>\n",
       "      <td>Yes</td>\n",
       "      <td>38</td>\n",
       "      <td>Yes</td>\n",
       "    </tr>\n",
       "    <tr>\n",
       "      <th>5</th>\n",
       "      <td>Yes</td>\n",
       "      <td>No</td>\n",
       "      <td>50</td>\n",
       "      <td>No</td>\n",
       "    </tr>\n",
       "    <tr>\n",
       "      <th>6</th>\n",
       "      <td>No</td>\n",
       "      <td>No</td>\n",
       "      <td>83</td>\n",
       "      <td>No</td>\n",
       "    </tr>\n",
       "  </tbody>\n",
       "</table>\n",
       "</div>"
      ],
      "text/plain": [
       "  Loves Popcorn Loves Soda  Age Loves Movies\n",
       "0           Yes        Yes    7           No\n",
       "1           Yes         No   12           No\n",
       "2            No        Yes   18          Yes\n",
       "3            No        Yes   35          Yes\n",
       "4           Yes        Yes   38          Yes\n",
       "5           Yes         No   50           No\n",
       "6            No         No   83           No"
      ]
     },
     "execution_count": 2,
     "metadata": {},
     "output_type": "execute_result"
    }
   ],
   "source": [
    "df = pd.read_csv('data1.csv')\n",
    "df"
   ]
  },
  {
   "cell_type": "code",
   "execution_count": 3,
   "id": "b983ad4d-5e25-49de-8a42-f8047fb04fcf",
   "metadata": {
    "tags": []
   },
   "outputs": [
    {
     "data": {
      "text/plain": [
       "(array(['No', 'Yes'], dtype=object), array([3, 4], dtype=int64))"
      ]
     },
     "execution_count": 3,
     "metadata": {},
     "output_type": "execute_result"
    }
   ],
   "source": [
    "np.unique(df.values[:, 0], return_counts=True)"
   ]
  },
  {
   "cell_type": "code",
   "execution_count": 4,
   "id": "81603459-fa1c-48f9-9cf7-42b6f58a5093",
   "metadata": {
    "tags": []
   },
   "outputs": [
    {
     "data": {
      "text/plain": [
       "array([0, 1, 4, 5], dtype=int64)"
      ]
     },
     "execution_count": 4,
     "metadata": {},
     "output_type": "execute_result"
    }
   ],
   "source": [
    "np.argwhere(df.values[:, 0] == 'Yes').reshape(-1)"
   ]
  },
  {
   "cell_type": "code",
   "execution_count": 5,
   "id": "f395dee8-ee60-42ed-b223-67cf6c9e3d6f",
   "metadata": {
    "tags": []
   },
   "outputs": [],
   "source": [
    "y = df.iloc[:, -1].values"
   ]
  },
  {
   "cell_type": "code",
   "execution_count": 6,
   "id": "efd5b98e-46ce-4c9e-b9b9-22939216687a",
   "metadata": {
    "tags": []
   },
   "outputs": [
    {
     "data": {
      "text/plain": [
       "array(['No', 'No', 'Yes', 'No'], dtype=object)"
      ]
     },
     "execution_count": 6,
     "metadata": {},
     "output_type": "execute_result"
    }
   ],
   "source": [
    "y[df.values[:, 0] == 'Yes']"
   ]
  },
  {
   "cell_type": "code",
   "execution_count": 7,
   "id": "84688905-46c0-4051-a515-239250cc05bc",
   "metadata": {
    "tags": []
   },
   "outputs": [],
   "source": [
    "class Node:\n",
    "    def __init__(self, feature_index=None, threshold=None, left=None, right=None, value=None):\n",
    "        self.feature_index = feature_index  # Index of the feature to split on\n",
    "        self.threshold = threshold  # Threshold value for the feature\n",
    "        self.left = left  # Left child node\n",
    "        self.right = right  # Right child node\n",
    "        self.value = value  # Value if the node is a leaf node"
   ]
  },
  {
   "cell_type": "code",
   "execution_count": 84,
   "id": "2a4ec37b-2173-450e-86f1-9a8966d0d97b",
   "metadata": {
    "tags": []
   },
   "outputs": [],
   "source": [
    "class DecisionTree :\n",
    "    def __init__(self, max_depth=None, min_samples_split=2):\n",
    "        self.max_depth = max_depth\n",
    "        self.min_samples_split = min_samples_split\n",
    "\n",
    "    def fit(self, X, y):\n",
    "        self.n_classes = len(np.unique(y))\n",
    "        self.n_features = X.shape[1]\n",
    "        self.tree_ = self._grow_tree(X, y)\n",
    "        \n",
    "    def _gini_for_feature(self, column, y, isCategorical=True) :\n",
    "        total_gini_impurity = 0\n",
    "        \n",
    "        if isCategorical :\n",
    "            unique_in_column, counts_column = np.unique(column, return_counts=True)\n",
    "            gini_leaves = np.ones((unique_in_column.shape))\n",
    "            weight_leaves = np.zeros((unique_in_column.shape))\n",
    "            \n",
    "            for idx, u in enumerate(unique_in_column) :\n",
    "                idx_where_u_occurs = np.argwhere(column == u).reshape(-1)\n",
    "                gini_leaf = 1\n",
    "                weight_leaf = 0\n",
    "                for class_ in range(self.n_classes) :\n",
    "                    freq_class = (y[idx_where_u_occurs] == class_).shape[0]\n",
    "                    prob_of_class = freq_class / idx_where_u_occurs.shape[0]\n",
    "                    gini_leaf -= (prob_of_class ** 2)\n",
    "                    weight_leaf += freq_class\n",
    "                    print(f'Freq {freq_class}')\n",
    "                gini_leaves[idx] = gini_leaf\n",
    "                weight_leaves[idx] = weight_leaf\n",
    "            \n",
    "            for idx, count in enumerate(counts_column) :\n",
    "                total_gini_impurity += (weight_leaves[idx] * gini_leaves[idx])\n",
    "            \n",
    "        else :\n",
    "            pass\n",
    "        \n",
    "        return total_gini_impurity\n",
    "        \n",
    "    def _grow_tree(self, X, y, depth=0):\n",
    "        \n",
    "        for feature in range(self.n_features) :\n",
    "            isCategorical = ((np.unique(X[:, feature]).shape[0] / X.shape[0]) < 0.3)\n",
    "            gini_impurity = self._gini_for_feature(X[:, feature], y, isCategorical)\n",
    "            print(gini_impurity)"
   ]
  },
  {
   "cell_type": "code",
   "execution_count": 85,
   "id": "dcc9bcb3-f6c3-489a-ae1c-fe920aacb749",
   "metadata": {
    "tags": []
   },
   "outputs": [
    {
     "name": "stderr",
     "output_type": "stream",
     "text": [
      "C:\\Users\\dhruv\\AppData\\Local\\Temp\\ipykernel_32152\\2542162939.py:1: FutureWarning: Downcasting behavior in `replace` is deprecated and will be removed in a future version. To retain the old behavior, explicitly call `result.infer_objects(copy=False)`. To opt-in to the future behavior, set `pd.set_option('future.no_silent_downcasting', True)`\n",
      "  df_replaced = df.replace({'Yes': 1, 'No' : 0})\n"
     ]
    }
   ],
   "source": [
    "df_replaced = df.replace({'Yes': 1, 'No' : 0})\n",
    "X = df_replaced.iloc[:, :-1].values\n",
    "y = df_replaced.iloc[: , -1].values"
   ]
  },
  {
   "cell_type": "code",
   "execution_count": 86,
   "id": "6f3b5b50-c6cc-45ff-8543-c40cb722797f",
   "metadata": {
    "tags": []
   },
   "outputs": [
    {
     "name": "stdout",
     "output_type": "stream",
     "text": [
      "Freq 3\n",
      "Freq 3\n",
      "Freq 4\n",
      "Freq 4\n",
      "-14.0\n",
      "Freq 3\n",
      "Freq 3\n",
      "Freq 4\n",
      "Freq 4\n",
      "-14.0\n",
      "0\n"
     ]
    }
   ],
   "source": [
    "dtclassifier = DecisionTree()\n",
    "dtclassifier.fit(X, y)"
   ]
  },
  {
   "cell_type": "code",
   "execution_count": 77,
   "id": "4275a6ca-4b7d-43d5-acc7-04ea493d49fe",
   "metadata": {
    "tags": []
   },
   "outputs": [
    {
     "data": {
      "text/plain": [
       "True"
      ]
     },
     "execution_count": 77,
     "metadata": {},
     "output_type": "execute_result"
    }
   ],
   "source": [
    "(np.unique(df.iloc[:, 0].values).shape[0] / df.shape[0]) <0.3"
   ]
  },
  {
   "cell_type": "code",
   "execution_count": null,
   "id": "68798ecf-76e6-4f82-83bb-e91a7b1dda2a",
   "metadata": {},
   "outputs": [],
   "source": []
  }
 ],
 "metadata": {
  "kernelspec": {
   "display_name": "data_science",
   "language": "python",
   "name": "data_science"
  },
  "language_info": {
   "codemirror_mode": {
    "name": "ipython",
    "version": 3
   },
   "file_extension": ".py",
   "mimetype": "text/x-python",
   "name": "python",
   "nbconvert_exporter": "python",
   "pygments_lexer": "ipython3",
   "version": "3.10.13"
  }
 },
 "nbformat": 4,
 "nbformat_minor": 5
}
