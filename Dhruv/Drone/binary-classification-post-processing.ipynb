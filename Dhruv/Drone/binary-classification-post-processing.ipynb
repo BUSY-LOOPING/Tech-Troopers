{
 "cells": [
  {
   "cell_type": "code",
   "execution_count": 9,
   "id": "967d9d32-c6ca-4b60-9d68-ef211d5d880a",
   "metadata": {
    "tags": []
   },
   "outputs": [],
   "source": [
    "import numpy as np\n",
    "import matplotlib.pyplot as plt\n",
    "import pandas as pd\n",
    "from matplotlib import style\n",
    "style.use('ggplot')\n",
    "from matplotlib.colors import ListedColormap\n",
    "import seaborn as sns\n",
    "\n",
    "import re\n",
    "import os\n",
    "import pickle\n",
    "from glob import glob\n",
    "from preprocess_drone import preprocess, create_time_series_features\n",
    "from drone_troopers.models.flight_classifier import read_files, scale_n_process\n",
    "\n",
    "from sklearn.decomposition import PCA\n",
    "from sklearn.preprocessing import StandardScaler, MinMaxScaler\n",
    "from sklearn.compose import ColumnTransformer\n",
    "from sklearn.pipeline import Pipeline\n",
    "from sklearn.metrics import accuracy_score, precision_score, recall_score, f1_score, confusion_matrix"
   ]
  },
  {
   "cell_type": "code",
   "execution_count": 4,
   "id": "7083657e-89c9-4c5d-af31-a564ce358eb7",
   "metadata": {
    "tags": []
   },
   "outputs": [],
   "source": [
    "def get_file_paths(directory, extensions=['.csv', '.CSV', '.xlsx']):\n",
    "    file_paths = []\n",
    "    # Iterate over each extension\n",
    "    for ext in extensions:\n",
    "        # Use glob to find all files with the given extension in the directory and subdirectories\n",
    "        file_paths.extend(glob(os.path.join(directory, '**', f'*{ext}'), recursive=True))\n",
    "    return file_paths"
   ]
  },
  {
   "cell_type": "code",
   "execution_count": 5,
   "id": "ed1c5e12-699c-4974-85c2-bf9023ed1dd6",
   "metadata": {
    "tags": []
   },
   "outputs": [
    {
     "name": "stdout",
     "output_type": "stream",
     "text": [
      "Found 116 normal log files.\n"
     ]
    }
   ],
   "source": [
    "# Specify the root directory\n",
    "root_directory = os.path.join('logs', 'selected', '1')\n",
    "\n",
    "# Get the list of file paths\n",
    "file_paths_normal = get_file_paths(root_directory)\n",
    "print(f'Found {len(file_paths_normal)} normal log files.')"
   ]
  },
  {
   "cell_type": "code",
   "execution_count": 6,
   "id": "1c6b6a94-f6e5-4acc-8dcc-dcc168256101",
   "metadata": {
    "tags": []
   },
   "outputs": [
    {
     "name": "stdout",
     "output_type": "stream",
     "text": [
      "Found 97 non-normal log files.\n"
     ]
    }
   ],
   "source": [
    "# Specify the root directory\n",
    "root_directory = os.path.join('logs', 'selected', '-1')\n",
    "\n",
    "# Get the list of file paths\n",
    "file_paths_non_normal = get_file_paths(root_directory)\n",
    "print(f'Found {len(file_paths_non_normal)} non-normal log files.')"
   ]
  },
  {
   "cell_type": "code",
   "execution_count": 7,
   "id": "1f6e35b9-5ccb-4aac-896c-93c092b82d73",
   "metadata": {
    "tags": []
   },
   "outputs": [],
   "source": [
    "with open(os.path.join('FinalModel', 'drone_troopers', 'models', 'voting_classifier_model.pkl'), 'rb') as file:\n",
    "    voting_clf = pickle.load(file)"
   ]
  },
  {
   "cell_type": "code",
   "execution_count": 8,
   "id": "1feff582-24c1-4767-9108-35cdd1ffa692",
   "metadata": {
    "tags": []
   },
   "outputs": [],
   "source": [
    "path1 = r'C:\\Python Programs\\Tech-Troopers\\Dhruv\\Drone\\logs\\selected\\-1\\50 throttle not enough power(annotated).xlsx'\n",
    "path2 = r'C:\\Python Programs\\Tech-Troopers\\Dhruv\\Drone\\logs\\selected\\1\\1\\LOG00000\\LOG.csv'"
   ]
  },
  {
   "cell_type": "code",
   "execution_count": 16,
   "id": "04e07db1-a41b-4d13-b8ed-140b1144ac7f",
   "metadata": {
    "tags": []
   },
   "outputs": [],
   "source": [
    "time_series_data = read_files([path1])\n",
    "final_df = scale_n_process(time_series_data)\n",
    "X = final_df.drop('flightId', axis=1)"
   ]
  },
  {
   "cell_type": "code",
   "execution_count": 17,
   "id": "db2c8902-0258-4c5b-9ba2-a7783c42c15f",
   "metadata": {
    "tags": []
   },
   "outputs": [],
   "source": [
    "y_pred_voting = voting_clf.predict(X)"
   ]
  },
  {
   "cell_type": "code",
   "execution_count": 52,
   "id": "cf9ec474-2853-42a4-9ce7-e296381199e2",
   "metadata": {
    "tags": []
   },
   "outputs": [],
   "source": [
    "# Individual classifier predictions\n",
    "predictions = {}\n",
    "for name, clf in voting_clf.named_estimators_.items():\n",
    "    predictions[name] = clf.predict(X)\n",
    "    \n",
    "predictions['voting_clf'] = y_pred_voting"
   ]
  },
  {
   "cell_type": "code",
   "execution_count": 53,
   "id": "76c5971d-250b-438f-b55f-1a68afa6b6f5",
   "metadata": {
    "tags": []
   },
   "outputs": [
    {
     "data": {
      "text/html": [
       "<div>\n",
       "<style scoped>\n",
       "    .dataframe tbody tr th:only-of-type {\n",
       "        vertical-align: middle;\n",
       "    }\n",
       "\n",
       "    .dataframe tbody tr th {\n",
       "        vertical-align: top;\n",
       "    }\n",
       "\n",
       "    .dataframe thead th {\n",
       "        text-align: right;\n",
       "    }\n",
       "</style>\n",
       "<table border=\"1\" class=\"dataframe\">\n",
       "  <thead>\n",
       "    <tr style=\"text-align: right;\">\n",
       "      <th></th>\n",
       "      <th>Classifier</th>\n",
       "      <th>Prediction</th>\n",
       "    </tr>\n",
       "  </thead>\n",
       "  <tbody>\n",
       "    <tr>\n",
       "      <th>0</th>\n",
       "      <td>logistic</td>\n",
       "      <td>Non Normal Operation</td>\n",
       "    </tr>\n",
       "    <tr>\n",
       "      <th>1</th>\n",
       "      <td>logistic</td>\n",
       "      <td>Non Normal Operation</td>\n",
       "    </tr>\n",
       "    <tr>\n",
       "      <th>2</th>\n",
       "      <td>logistic</td>\n",
       "      <td>Non Normal Operation</td>\n",
       "    </tr>\n",
       "    <tr>\n",
       "      <th>3</th>\n",
       "      <td>logistic</td>\n",
       "      <td>Non Normal Operation</td>\n",
       "    </tr>\n",
       "    <tr>\n",
       "      <th>4</th>\n",
       "      <td>logistic</td>\n",
       "      <td>Non Normal Operation</td>\n",
       "    </tr>\n",
       "    <tr>\n",
       "      <th>...</th>\n",
       "      <td>...</td>\n",
       "      <td>...</td>\n",
       "    </tr>\n",
       "    <tr>\n",
       "      <th>62791</th>\n",
       "      <td>voting_clf</td>\n",
       "      <td>Non Normal Operation</td>\n",
       "    </tr>\n",
       "    <tr>\n",
       "      <th>62792</th>\n",
       "      <td>voting_clf</td>\n",
       "      <td>Non Normal Operation</td>\n",
       "    </tr>\n",
       "    <tr>\n",
       "      <th>62793</th>\n",
       "      <td>voting_clf</td>\n",
       "      <td>Non Normal Operation</td>\n",
       "    </tr>\n",
       "    <tr>\n",
       "      <th>62794</th>\n",
       "      <td>voting_clf</td>\n",
       "      <td>Non Normal Operation</td>\n",
       "    </tr>\n",
       "    <tr>\n",
       "      <th>62795</th>\n",
       "      <td>voting_clf</td>\n",
       "      <td>Non Normal Operation</td>\n",
       "    </tr>\n",
       "  </tbody>\n",
       "</table>\n",
       "<p>62796 rows × 2 columns</p>\n",
       "</div>"
      ],
      "text/plain": [
       "       Classifier            Prediction\n",
       "0        logistic  Non Normal Operation\n",
       "1        logistic  Non Normal Operation\n",
       "2        logistic  Non Normal Operation\n",
       "3        logistic  Non Normal Operation\n",
       "4        logistic  Non Normal Operation\n",
       "...           ...                   ...\n",
       "62791  voting_clf  Non Normal Operation\n",
       "62792  voting_clf  Non Normal Operation\n",
       "62793  voting_clf  Non Normal Operation\n",
       "62794  voting_clf  Non Normal Operation\n",
       "62795  voting_clf  Non Normal Operation\n",
       "\n",
       "[62796 rows x 2 columns]"
      ]
     },
     "execution_count": 53,
     "metadata": {},
     "output_type": "execute_result"
    }
   ],
   "source": [
    "predictions_df = pd.DataFrame(predictions)\n",
    "predictions_df = predictions_df.replace({1: 'Non Normal Operation', 0: 'Normal Operation'})\n",
    "# Melt the DataFrame to long format\n",
    "predictions_melted = predictions_df.melt(var_name='Classifier', value_name='Prediction')\n",
    "predictions_melted"
   ]
  },
  {
   "cell_type": "code",
   "execution_count": 54,
   "id": "b9197956-3ed3-44f7-b45c-0cd84cf310be",
   "metadata": {
    "tags": []
   },
   "outputs": [
    {
     "data": {
      "image/png": "[encoded data removed]",
      "text/plain": [
       "<Figure size 1200x600 with 1 Axes>"
      ]
     },
     "metadata": {},
     "output_type": "display_data"
    }
   ],
   "source": [
    "# Plotting with seaborn\n",
    "plt.figure(figsize=(12, 6))\n",
    "sns.countplot(data=predictions_melted, x='Classifier', hue='Prediction')\n",
    "plt.title('Predictions from Different Classifiers')\n",
    "plt.xlabel('Classifier')\n",
    "plt.ylabel('Count')\n",
    "plt.xticks(rotation=0)\n",
    "plt.legend(title='Prediction')\n",
    "plt.tight_layout()\n",
    "plt.show()"
   ]
  },
  {
   "cell_type": "code",
   "execution_count": 58,
   "id": "6f4d80b7-00e1-4d3c-b899-2e6d34939f14",
   "metadata": {
    "tags": []
   },
   "outputs": [],
   "source": [
    "confidence = {}\n",
    "for name, clf in voting_clf.named_estimators_.items():\n",
    "    confidence[name] = clf.predict_proba(X)\n",
    "\n",
    "# Calculate predicted probabilities for the voting classifier\n",
    "# confidence['voting_clf'] = voting_clf.predict_proba(X)"
   ]
  },
  {
   "cell_type": "code",
   "execution_count": 72,
   "id": "b06932fa-d1c9-4aa7-8bfc-0b65060ced59",
   "metadata": {
    "tags": []
   },
   "outputs": [
    {
     "name": "stdout",
     "output_type": "stream",
     "text": [
      "Overall Prediction Probabilities for Each Classifier:\n"
     ]
    },
    {
     "data": {
      "text/html": [
       "<div>\n",
       "<style scoped>\n",
       "    .dataframe tbody tr th:only-of-type {\n",
       "        vertical-align: middle;\n",
       "    }\n",
       "\n",
       "    .dataframe tbody tr th {\n",
       "        vertical-align: top;\n",
       "    }\n",
       "\n",
       "    .dataframe thead th {\n",
       "        text-align: right;\n",
       "    }\n",
       "</style>\n",
       "<table border=\"1\" class=\"dataframe\">\n",
       "  <thead>\n",
       "    <tr style=\"text-align: right;\">\n",
       "      <th></th>\n",
       "      <th>logistic</th>\n",
       "      <th>tree</th>\n",
       "      <th>rf</th>\n",
       "      <th>gb</th>\n",
       "      <th>xgb</th>\n",
       "    </tr>\n",
       "  </thead>\n",
       "  <tbody>\n",
       "    <tr>\n",
       "      <th>Normal Operation</th>\n",
       "      <td>0.353389</td>\n",
       "      <td>0.0</td>\n",
       "      <td>0.000977</td>\n",
       "      <td>0.052877</td>\n",
       "      <td>0.00022</td>\n",
       "    </tr>\n",
       "    <tr>\n",
       "      <th>Non Normal Operation</th>\n",
       "      <td>0.646611</td>\n",
       "      <td>1.0</td>\n",
       "      <td>0.999023</td>\n",
       "      <td>0.947123</td>\n",
       "      <td>0.99978</td>\n",
       "    </tr>\n",
       "  </tbody>\n",
       "</table>\n",
       "</div>"
      ],
      "text/plain": [
       "                      logistic  tree        rf        gb      xgb\n",
       "Normal Operation      0.353389   0.0  0.000977  0.052877  0.00022\n",
       "Non Normal Operation  0.646611   1.0  0.999023  0.947123  0.99978"
      ]
     },
     "execution_count": 72,
     "metadata": {},
     "output_type": "execute_result"
    }
   ],
   "source": [
    "overall_probs = {}\n",
    "\n",
    "# Calculate overall probabilities for each classifier\n",
    "for name, probs in confidence.items():\n",
    "    # Calculate the mean probability across all samples for each class\n",
    "    mean_probs = np.mean(probs, axis=0)\n",
    "    overall_probs[name] = mean_probs\n",
    "\n",
    "# Convert overall probabilities to a DataFrame for better readability\n",
    "overall_probs_df = pd.DataFrame(overall_probs, index=['Normal Operation', 'Non Normal Operation'])\n",
    "\n",
    "# Print the overall probabilities for each classifier\n",
    "print(\"Overall Prediction Probabilities for Each Classifier:\")\n",
    "overall_probs_df"
   ]
  },
  {
   "cell_type": "code",
   "execution_count": 75,
   "id": "12a9b781-2351-44bf-8e89-f55f96403e83",
   "metadata": {
    "tags": []
   },
   "outputs": [
    {
     "name": "stdout",
     "output_type": "stream",
     "text": [
      "\\begin{tabular}{lrrrrr}\n",
      "\\toprule\n",
      " & logistic & tree & rf & gb & xgb \\\\\n",
      "\\midrule\n",
      "Normal Operation & 0.353389 & 0.000000 & 0.000977 & 0.052877 & 0.000220 \\\\\n",
      "Non Normal Operation & 0.646611 & 1.000000 & 0.999023 & 0.947123 & 0.999780 \\\\\n",
      "\\bottomrule\n",
      "\\end{tabular}\n",
      "\n"
     ]
    }
   ],
   "source": [
    "print(overall_probs_df.to_latex())"
   ]
  },
  {
   "cell_type": "code",
   "execution_count": 80,
   "id": "bac96be2-084f-4f5b-93ed-29dcaccc992f",
   "metadata": {
    "tags": []
   },
   "outputs": [
    {
     "data": {
      "text/plain": [
       "Text(0, 0.5, 'Probability')"
      ]
     },
     "execution_count": 80,
     "metadata": {},
     "output_type": "execute_result"
    },
    {
     "data": {
      "text/plain": [
       "<Figure size 600x300 with 0 Axes>"
      ]
     },
     "metadata": {},
     "output_type": "display_data"
    },
    {
     "data": {
      "image/png": "[encoded data removed]",
      "text/plain": [
       "<Figure size 640x480 with 1 Axes>"
      ]
     },
     "metadata": {},
     "output_type": "display_data"
    }
   ],
   "source": [
    "plt.figure(figsize=(6, 3))\n",
    "overall_probs_df.plot(kind='bar')\n",
    "plt.xticks([0, 1], ['Normal Operation', 'Non Normal Operation'], rotation=0);\n",
    "plt.title('Per class probabilites');\n",
    "plt.ylabel('Probability')"
   ]
  },
  {
   "cell_type": "code",
   "execution_count": 81,
   "id": "5ea787cb-f0a5-472f-b650-0d58f3057d55",
   "metadata": {
    "tags": []
   },
   "outputs": [
    {
     "data": {
      "text/plain": [
       "'50 throttle not enough power(annotated).xlsx'"
      ]
     },
     "execution_count": 81,
     "metadata": {},
     "output_type": "execute_result"
    }
   ],
   "source": [
    "os.path.basename(path1)"
   ]
  },
  {
   "cell_type": "code",
   "execution_count": null,
   "id": "6b6b0f70-5c5f-44ce-a88d-73d399e85751",
   "metadata": {},
   "outputs": [],
   "source": []
  }
 ],
 "metadata": {
  "kernelspec": {
   "display_name": "data_science",
   "language": "python",
   "name": "data_science"
  },
  "language_info": {
   "codemirror_mode": {
    "name": "ipython",
    "version": 3
   },
   "file_extension": ".py",
   "mimetype": "text/x-python",
   "name": "python",
   "nbconvert_exporter": "python",
   "pygments_lexer": "ipython3",
   "version": "3.10.13"
  }
 },
 "nbformat": 4,
 "nbformat_minor": 5
}
